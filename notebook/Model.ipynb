{
 "cells": [
  {
   "cell_type": "code",
   "execution_count": 1,
   "id": "014c5e76",
   "metadata": {
    "ExecuteTime": {
     "end_time": "2021-11-12T11:13:23.538541Z",
     "start_time": "2021-11-12T11:13:17.935289Z"
    }
   },
   "outputs": [],
   "source": [
    "import torch\n",
    "from PIL import Image\n",
    "import matplotlib.pyplot as plt\n",
    "from tqdm.auto import tqdm\n",
    "import numpy as np\n",
    "import pandas as pd\n",
    "import glob\n",
    "import re\n",
    "import os\n",
    "import cv2\n",
    "import torch\n",
    "import torch.nn as nn\n",
    "from torch.utils.data import Dataset, DataLoader\n",
    "import torchvision\n",
    "import albumentations as A"
   ]
  },
  {
   "cell_type": "code",
   "execution_count": 2,
   "id": "6495ccd5",
   "metadata": {
    "ExecuteTime": {
     "end_time": "2021-11-12T11:13:23.546872Z",
     "start_time": "2021-11-12T11:13:23.544670Z"
    }
   },
   "outputs": [],
   "source": [
    "from torchvision import transforms\n",
    "import torchvision.datasets as datasets"
   ]
  },
  {
   "cell_type": "code",
   "execution_count": 3,
   "id": "0a427398",
   "metadata": {
    "ExecuteTime": {
     "end_time": "2021-11-12T11:13:23.562938Z",
     "start_time": "2021-11-12T11:13:23.552408Z"
    }
   },
   "outputs": [],
   "source": [
    "import warnings\n",
    "warnings.filterwarnings('ignore')"
   ]
  },
  {
   "cell_type": "code",
   "execution_count": 4,
   "id": "d3169ab2",
   "metadata": {
    "ExecuteTime": {
     "end_time": "2021-11-12T11:13:23.578937Z",
     "start_time": "2021-11-12T11:13:23.568873Z"
    }
   },
   "outputs": [],
   "source": [
    "path2img = \"/media/brats/DRIVE1/akansh/lung-seg/data/images/\"\n",
    "path2mask = \"/media/brats/DRIVE1/akansh/lung-seg/data/masks/\""
   ]
  },
  {
   "cell_type": "code",
   "execution_count": 9,
   "id": "0ee2a2a9",
   "metadata": {
    "ExecuteTime": {
     "end_time": "2021-11-12T11:13:48.910249Z",
     "start_time": "2021-11-12T11:13:48.898705Z"
    }
   },
   "outputs": [],
   "source": [
    "class LungDataset(Dataset):\n",
    "    \n",
    "    def __init__(self, img_dir, mask_dir, transform = None):\n",
    "        \n",
    "        self.img_dir = [os.path.join(img_dir,i) for i in os.listdir(img_dir) if i.endswith('png')]\n",
    "        self.img_dir.sort()\n",
    "        self.mask_dir = None\n",
    "        if mask_dir is not None:\n",
    "            self.mask_dir = [os.path.join(mask_dir,i) for i in os.listdir(mask_dir) if i.endswith('png')]\n",
    "            self.mask_dir.sort()\n",
    "        self.transforms = transform\n",
    "        self.norm_transform = A.Normalize()\n",
    "\n",
    "    def __len__(self):\n",
    "        return len(self.img_dir)\n",
    "    \n",
    "    def __getitem__(self,idx):\n",
    "        img = cv2.imread(self.img_dir[idx])\n",
    "        img = cv2.cvtColor(img, cv2.COLOR_BGR2RGB)\n",
    "\n",
    "        if self.mask_dir is not None:\n",
    "            mask = cv2.imread(self.mask_dir[idx])[:, :, 0]\n",
    "            mask = np.clip(mask, 0, 1).astype(\"float32\")\n",
    "            augmented = self.transforms(image=img, mask=mask)\n",
    "            img = augmented['image']\n",
    "            mask = augmented['mask']\n",
    "#             im = self.post_transforms(img)\n",
    "            return  torch.tensor(img), torch.FloatTensor(mask)\n",
    "        \n",
    "        else:\n",
    "            augmented = self.transforms(image=img)\n",
    "            img = augmented['image']\n",
    "            im = self.post_transforms(img)\n",
    "            return torch.tensor(img)  "
   ]
  },
  {
   "cell_type": "code",
   "execution_count": 6,
   "id": "ac3c36be",
   "metadata": {
    "ExecuteTime": {
     "end_time": "2021-11-12T11:13:23.970105Z",
     "start_time": "2021-11-12T11:13:23.615524Z"
    },
    "code_folding": [
     0,
     13
    ]
   },
   "outputs": [
    {
     "data": {
      "application/vnd.jupyter.widget-view+json": {
       "model_id": "52e55b0ffe064526b005342c7e9615a1",
       "version_major": 2,
       "version_minor": 0
      },
      "text/plain": [
       "  0%|          | 0/3 [00:00<?, ?it/s]"
      ]
     },
     "metadata": {},
     "output_type": "display_data"
    },
    {
     "name": "stdout",
     "output_type": "stream",
     "text": [
      "Mean: tensor([0.4411]), STD: tensor([0.3336])\n"
     ]
    }
   ],
   "source": [
    "def get_mean_std(loader):\n",
    "    channels_sum, channels_squared_sum, num_batches = 0,0,0\n",
    "    \n",
    "    for data,_ in tqdm(loader):\n",
    "        channels_sum += torch.mean(data, dim = [0,2,3])\n",
    "        channels_squared_sum += torch.mean(data**2, dim = [0,2,3])\n",
    "        num_batches += 1\n",
    "        \n",
    "    mean = channels_sum/num_batches\n",
    "    std = (channels_squared_sum/num_batches - mean**2)**0.5\n",
    "    \n",
    "    return mean, std\n",
    "\n",
    "class LungDataset(Dataset):\n",
    "    \n",
    "    def __init__(self, img_dir, mask_dir, transforms = None):\n",
    "        \n",
    "        self.img_dir = [os.path.join(img_dir,i) for i in os.listdir(img_dir) if i.endswith('png')]\n",
    "        self.img_dir.sort()\n",
    "        self.mask_dir = None\n",
    "        if mask_dir is not None:\n",
    "            self.mask_dir = [os.path.join(mask_dir,i) for i in os.listdir(mask_dir) if i.endswith('png')]\n",
    "            self.mask_dir.sort()\n",
    "        self.transforms = transforms        \n",
    "    def __len__(self):\n",
    "        return len(self.img_dir)\n",
    "    \n",
    "    def __getitem__(self,idx):\n",
    "        img = cv2.imread(self.img_dir[idx], cv2.IMREAD_GRAYSCALE)\n",
    "        if self.mask_dir is not None:\n",
    "            mask = cv2.imread(self.mask_dir[idx], cv2.IMREAD_GRAYSCALE)\n",
    "            mask = np.clip(mask, 0, 1).astype(\"float32\")\n",
    "            augmented = self.transforms(image=img, mask=mask)\n",
    "            img = augmented['image']\n",
    "            mask = augmented['mask']\n",
    "            return torch.tensor(img), torch.FloatTensor(mask)\n",
    "        \n",
    "        else:\n",
    "#             augmented = self.transforms(image=img)\n",
    "#             img = augmented['image']\n",
    "            return self.transforms(img), 0  \n",
    "trainset = LungDataset(img_dir = path2img, mask_dir = None, transforms = transforms.ToTensor())\n",
    "\n",
    "\n",
    "train_loader = DataLoader(dataset = trainset, batch_size = 64, shuffle = True)\n",
    "\n",
    "mean, std = get_mean_std(train_loader)\n",
    "print(f\"Mean: {mean}, STD: {std}\")"
   ]
  },
  {
   "cell_type": "code",
   "execution_count": 7,
   "id": "4d04aa5e",
   "metadata": {
    "ExecuteTime": {
     "end_time": "2021-11-12T11:13:29.322616Z",
     "start_time": "2021-11-12T11:13:29.315151Z"
    }
   },
   "outputs": [],
   "source": [
    "train_transforms = A.Compose([\n",
    "    A.HorizontalFlip(p=0.5),\n",
    "    A.RandomRotate90(p=0.5),\n",
    "    A.Rotate((-30,30), p = 0.5),\n",
    "    A.ElasticTransform(p=0.5, alpha=1, sigma=50, alpha_affine=10),\n",
    "    A.ShiftScaleRotate(shift_limit=0.0625, scale_limit=0.2, rotate_limit=45, p=0.3),\n",
    "    A.GridDistortion(p=0.5),\n",
    "    A.OpticalDistortion(distort_limit=0.8, shift_limit=0.6, p=1),\n",
    "    A.RandomSizedCrop(min_max_height=(150, 200), height=224, width=224, p=0.5),\n",
    "    A.CLAHE(p=0.5),\n",
    "    A.RandomBrightnessContrast(p=0.5),\n",
    "    A.RandomGamma(p = 0.5),\n",
    "        ])\n",
    "\n",
    "\n",
    "test_transforms = A.Compose([\n",
    "    A.Rotate(0, p = 1)\n",
    "        ])"
   ]
  },
  {
   "cell_type": "code",
   "execution_count": 10,
   "id": "afa62bdd",
   "metadata": {
    "ExecuteTime": {
     "end_time": "2021-11-12T11:13:53.255013Z",
     "start_time": "2021-11-12T11:13:53.247010Z"
    }
   },
   "outputs": [],
   "source": [
    "lung_data_1 = LungDataset(img_dir = path2img, mask_dir = path2mask, transform = train_transforms)\n",
    "lung_data_2 = LungDataset(img_dir = path2img, mask_dir = path2mask, transform = test_transforms)"
   ]
  },
  {
   "cell_type": "code",
   "execution_count": 14,
   "id": "8685aeee",
   "metadata": {
    "ExecuteTime": {
     "end_time": "2021-11-12T05:16:44.972582Z",
     "start_time": "2021-11-12T05:16:44.881806Z"
    }
   },
   "outputs": [
    {
     "name": "stdout",
     "output_type": "stream",
     "text": [
      "torch.Size([224, 224, 3])\n",
      "tensor([[0., 0., 0.,  ..., 0., 0., 0.],\n",
      "        [0., 0., 0.,  ..., 0., 0., 0.],\n",
      "        [0., 0., 0.,  ..., 0., 0., 0.],\n",
      "        ...,\n",
      "        [0., 0., 0.,  ..., 0., 0., 0.],\n",
      "        [0., 0., 0.,  ..., 0., 0., 0.],\n",
      "        [0., 0., 0.,  ..., 0., 0., 0.]])\n"
     ]
    }
   ],
   "source": [
    "for x, y in lung_data_1:\n",
    "    print(x.shape)\n",
    "    print(y)\n",
    "    break"
   ]
  },
  {
   "cell_type": "code",
   "execution_count": 19,
   "id": "49f14b10",
   "metadata": {
    "ExecuteTime": {
     "end_time": "2021-11-12T05:17:51.562196Z",
     "start_time": "2021-11-12T05:17:51.512073Z"
    }
   },
   "outputs": [
    {
     "data": {
      "image/png": "[encoded data removed]",
      "text/plain": [
       "<PIL.Image.Image image mode=RGB size=224x224 at 0x7F3D1B83C190>"
      ]
     },
     "execution_count": 19,
     "metadata": {},
     "output_type": "execute_result"
    }
   ],
   "source": [
    "Image.fromarray(x.numpy())"
   ]
  },
  {
   "cell_type": "code",
   "execution_count": 29,
   "id": "a6ca5332",
   "metadata": {
    "ExecuteTime": {
     "end_time": "2021-11-12T05:21:54.872662Z",
     "start_time": "2021-11-12T05:21:54.868514Z"
    }
   },
   "outputs": [
    {
     "data": {
      "image/png": "[encoded data removed]",
      "text/plain": [
       "<PIL.Image.Image image mode=1 size=224x224 at 0x7F3D1B28CB50>"
      ]
     },
     "execution_count": 29,
     "metadata": {},
     "output_type": "execute_result"
    }
   ],
   "source": [
    "Image.fromarray(y.numpy().astype('bool'))"
   ]
  },
  {
   "cell_type": "code",
   "execution_count": 165,
   "id": "d2d92299",
   "metadata": {
    "ExecuteTime": {
     "end_time": "2021-11-10T07:17:12.887601Z",
     "start_time": "2021-11-10T07:17:12.883744Z"
    }
   },
   "outputs": [
    {
     "data": {
      "text/plain": [
       "138"
      ]
     },
     "execution_count": 165,
     "metadata": {},
     "output_type": "execute_result"
    }
   ],
   "source": [
    "len(lung_data_1)"
   ]
  },
  {
   "cell_type": "markdown",
   "id": "0cd1cc8d",
   "metadata": {},
   "source": [
    "### Spliting the dataset"
   ]
  },
  {
   "cell_type": "code",
   "execution_count": 30,
   "id": "9e4edf62",
   "metadata": {
    "ExecuteTime": {
     "end_time": "2021-11-12T05:23:13.569619Z",
     "start_time": "2021-11-12T05:23:13.473850Z"
    }
   },
   "outputs": [],
   "source": [
    "from sklearn.model_selection import ShuffleSplit"
   ]
  },
  {
   "cell_type": "code",
   "execution_count": 31,
   "id": "9ed9b2b5",
   "metadata": {
    "ExecuteTime": {
     "end_time": "2021-11-12T05:23:14.102604Z",
     "start_time": "2021-11-12T05:23:14.099366Z"
    }
   },
   "outputs": [],
   "source": [
    "sss = ShuffleSplit(n_splits=1, test_size=0.1, random_state=0)"
   ]
  },
  {
   "cell_type": "code",
   "execution_count": 32,
   "id": "68c1c2ef",
   "metadata": {
    "ExecuteTime": {
     "end_time": "2021-11-12T05:23:15.740115Z",
     "start_time": "2021-11-12T05:23:15.734368Z"
    }
   },
   "outputs": [
    {
     "name": "stdout",
     "output_type": "stream",
     "text": [
      "124\n",
      "----------\n",
      "14\n"
     ]
    }
   ],
   "source": [
    "indices=range(len(lung_data_1))\n",
    "for train_index, val_index in sss.split(indices):\n",
    "    print(len(train_index))\n",
    "    print(\"-\"*10)\n",
    "    print(len(val_index))"
   ]
  },
  {
   "cell_type": "code",
   "execution_count": 36,
   "id": "c0291ddf",
   "metadata": {
    "ExecuteTime": {
     "end_time": "2021-11-12T05:24:04.657297Z",
     "start_time": "2021-11-12T05:24:04.653097Z"
    }
   },
   "outputs": [
    {
     "name": "stdout",
     "output_type": "stream",
     "text": [
      "124\n",
      "----------\n",
      "14\n"
     ]
    }
   ],
   "source": [
    "from torch.utils.data import Subset\n",
    "train_ds=Subset(lung_data_1,train_index)\n",
    "print(len(train_ds))\n",
    "print(\"-\"*10)\n",
    "\n",
    "val_ds=Subset(lung_data_2,val_index)\n",
    "print(len(val_ds))"
   ]
  },
  {
   "cell_type": "code",
   "execution_count": 37,
   "id": "e5333594",
   "metadata": {
    "ExecuteTime": {
     "end_time": "2021-11-12T05:24:11.616438Z",
     "start_time": "2021-11-12T05:24:11.613425Z"
    }
   },
   "outputs": [],
   "source": [
    "from torch.utils.data import DataLoader\n",
    "train_dl = DataLoader(train_ds, batch_size=8, shuffle=True)\n",
    "val_dl = DataLoader(val_ds, batch_size=16, shuffle=False)"
   ]
  },
  {
   "cell_type": "code",
   "execution_count": 38,
   "id": "d98925b2",
   "metadata": {
    "ExecuteTime": {
     "end_time": "2021-11-12T05:24:15.333401Z",
     "start_time": "2021-11-12T05:24:14.951219Z"
    }
   },
   "outputs": [
    {
     "name": "stdout",
     "output_type": "stream",
     "text": [
      "torch.Size([8, 224, 224, 3]) torch.uint8\n",
      "torch.Size([8, 224, 224]) torch.float32\n"
     ]
    }
   ],
   "source": [
    "for img_b, mask_b in train_dl:\n",
    "    print(img_b.shape,img_b.dtype)\n",
    "    print(mask_b.shape, mask_b.dtype)\n",
    "    break"
   ]
  },
  {
   "cell_type": "code",
   "execution_count": null,
   "id": "046ddcc7",
   "metadata": {},
   "outputs": [],
   "source": []
  },
  {
   "cell_type": "markdown",
   "id": "fe7a4e15",
   "metadata": {},
   "source": [
    "### Model"
   ]
  },
  {
   "cell_type": "code",
   "execution_count": 11,
   "id": "038f366b",
   "metadata": {
    "ExecuteTime": {
     "end_time": "2021-11-12T11:14:02.710009Z",
     "start_time": "2021-11-12T11:14:02.689387Z"
    }
   },
   "outputs": [],
   "source": [
    "def convrelu(in_channels, out_channels, kernel, padding):\n",
    "    return nn.Sequential(\n",
    "        nn.Conv2d(in_channels, out_channels, kernel, padding=padding),\n",
    "        nn.ReLU(inplace=True),\n",
    "    )\n",
    "\n",
    "class ResNetUNet(nn.Module):\n",
    "\n",
    "    def __init__(self, n_classes=1):\n",
    "        super().__init__()\n",
    "        \n",
    "        self.base_model = torchvision.models.resnet50(pretrained=False)\n",
    "        \n",
    "        self.base_layers = list(self.base_model.children())                \n",
    "        \n",
    "        self.layer0 = nn.Sequential(*self.base_layers[:3])\n",
    "        self.layer0_1x1 = convrelu(64, 64, 1, 0)\n",
    "        self.layer1 = nn.Sequential(*self.base_layers[3:5])        \n",
    "        self.layer1_1x1 = convrelu(256, 256, 1, 0)       \n",
    "        self.layer2 = self.base_layers[5]         \n",
    "        self.layer2_1x1 = convrelu(512, 512, 1, 0)  \n",
    "        self.layer3 = self.base_layers[6]         \n",
    "        self.layer3_1x1 = convrelu(1024, 1024, 1, 0)  \n",
    "        self.layer4 = self.base_layers[7] \n",
    "        self.layer4_1x1 = convrelu(2048, 2048, 1, 0)  \n",
    "        \n",
    "        self.upsample = nn.Upsample(scale_factor=2, mode='bilinear', align_corners=True)\n",
    "        \n",
    "        self.conv_up3 = convrelu(1024 + 2048, 1024, 3, 1)\n",
    "        self.conv_up2 = convrelu(512 + 1024, 512, 3, 1)\n",
    "        self.conv_up1 = convrelu(256 + 512, 256, 3, 1)\n",
    "        self.conv_up0 = convrelu(64 + 256, 64, 3, 1)\n",
    "        \n",
    "        self.conv_original_size0 = convrelu(3, 64, 3, 1)\n",
    "        self.conv_original_size1 = convrelu(64, 64, 3, 1)\n",
    "        self.conv_original_size2 = convrelu(128, 64, 3, 1)\n",
    "        \n",
    "        self.conv_last = nn.Conv2d(64, n_classes, 1)\n",
    "        \n",
    "    def forward(self, input):\n",
    "        x_original = self.conv_original_size0(input)\n",
    "        x_original = self.conv_original_size1(x_original)\n",
    "        \n",
    "        layer0 = self.layer0(input)\n",
    "        layer1 = self.layer1(layer0)\n",
    "        layer2 = self.layer2(layer1)\n",
    "        layer3 = self.layer3(layer2) \n",
    "        layer4 = self.layer4(layer3)\n",
    "        \n",
    "        layer4 = self.layer4_1x1(layer4)\n",
    "        x = self.upsample(layer4)\n",
    "        layer3 = self.layer3_1x1(layer3)\n",
    "        x = torch.cat([x, layer3], dim=1)\n",
    "        x = self.conv_up3(x)\n",
    "        x = self.upsample(x)\n",
    "        layer2 = self.layer2_1x1(layer2)\n",
    "        x = torch.cat([x, layer2], dim=1)\n",
    "        x = self.conv_up2(x)\n",
    "        x = self.upsample(x)\n",
    "        layer1 = self.layer1_1x1(layer1)\n",
    "        x = torch.cat([x, layer1], dim=1)\n",
    "        x = self.conv_up1(x)\n",
    "        x = self.upsample(x)\n",
    "        layer0 = self.layer0_1x1(layer0)\n",
    "        x = torch.cat([x, layer0], dim=1)\n",
    "        x = self.conv_up0(x)\n",
    "        x = self.upsample(x)\n",
    "        x = torch.cat([x, x_original], dim=1)\n",
    "        x = self.conv_original_size2(x)\n",
    "        \n",
    "        out = torch.sigmoid(self.conv_last(x))  \n",
    "\n",
    "        return out"
   ]
  },
  {
   "cell_type": "code",
   "execution_count": 12,
   "id": "68d9aafa",
   "metadata": {
    "ExecuteTime": {
     "end_time": "2021-11-12T11:14:08.627760Z",
     "start_time": "2021-11-12T11:14:03.242821Z"
    }
   },
   "outputs": [],
   "source": [
    "model = ResNetUNet().to('cuda');"
   ]
  },
  {
   "cell_type": "code",
   "execution_count": 58,
   "id": "2a88c0d2",
   "metadata": {
    "ExecuteTime": {
     "end_time": "2021-11-12T06:48:57.862334Z",
     "start_time": "2021-11-12T06:48:57.856736Z"
    }
   },
   "outputs": [],
   "source": [
    "def jaccard_coef_metric(inputs, target, eps=1e-7):\n",
    "    intersection = (target * inputs).sum()\n",
    "    union = (target.sum() + inputs.sum()) - intersection + eps\n",
    "\n",
    "    if target.sum() == 0 and inputs.sum() == 0:\n",
    "        return 1.0\n",
    "\n",
    "    return (intersection + eps) / union\n",
    "\n",
    "def dice_coef_metric(inputs, target):\n",
    "    intersection = 2.0 * (target * inputs).sum()\n",
    "    union = target.sum() + inputs.sum()\n",
    "    if target.sum() == 0 and inputs.sum() == 0:\n",
    "        return 1.0\n",
    "\n",
    "    return intersection / union\n",
    "\n",
    "## Loss\n",
    "\n",
    "def dice_coef_loss(inputs, target):\n",
    "    smooth = 1.0\n",
    "    intersection = 2.0 * ((target * inputs).sum()) + smooth\n",
    "    union = target.sum() + inputs.sum() + smooth\n",
    "\n",
    "    return 1 - (intersection / union)\n",
    "\n",
    "\n",
    "def bce_dice_loss(inputs, target):\n",
    "    dicescore = dice_coef_loss(inputs, target)\n",
    "    bcescore = nn.BCELoss()\n",
    "    bceloss = bcescore(inputs, target)\n",
    "\n",
    "    return bceloss + dicescore"
   ]
  },
  {
   "cell_type": "code",
   "execution_count": 67,
   "id": "ae246526",
   "metadata": {
    "ExecuteTime": {
     "end_time": "2021-11-12T07:00:15.551718Z",
     "start_time": "2021-11-12T07:00:15.541968Z"
    }
   },
   "outputs": [],
   "source": [
    "def train_one_epoch(model, optimizer, lr_scheduler, metric,\n",
    "                    dataloader, epoch, criterion=bce_dice_loss):\n",
    "    \n",
    "    print(\"Start Train ...\")\n",
    "    model.train()\n",
    "\n",
    "    losses = []\n",
    "    accur = []\n",
    "\n",
    "    for data, target in tqdm(dataloader):\n",
    "\n",
    "        data = data.permute(0,3,1,2).to(DEVICE).float()\n",
    "        targets = target.unsqueeze(1).to(DEVICE)\n",
    "\n",
    "        outputs = model(data)\n",
    "\n",
    "        out_cut = np.copy(outputs.data.cpu().numpy())\n",
    "        out_cut[np.nonzero(out_cut < 0.5)] = 0.0\n",
    "        out_cut[np.nonzero(out_cut >= 0.5)] = 1.0\n",
    "\n",
    "        train_dice = metric(out_cut, targets.data.cpu().numpy())\n",
    "\n",
    "        loss = criterion(outputs, targets)\n",
    "\n",
    "        losses.append(loss.item())\n",
    "        accur.append(train_dice)\n",
    "\n",
    "        optimizer.zero_grad()\n",
    "        loss.backward()\n",
    "        optimizer.step()\n",
    "        \n",
    "    if lr_scheduler is not None:\n",
    "        lr_scheduler.step()\n",
    "\n",
    "    lr = lr_scheduler.get_last_lr()[0]\n",
    "    print(\"Epoch [%d]\" % (epoch),\n",
    "          \"Mean loss on train:\", np.array(losses).mean(), \n",
    "          \"Mean DICE on train:\", np.array(accur).mean(), \n",
    "          \"Learning Rate:\", lr)\n",
    "\n",
    "    \n",
    "    return np.array(losses).mean(), np.array(accur).mean(), lr\n",
    "\n",
    "\n",
    "def val_epoch(model, metric, dataloader, epoch, threshold=0.5):\n",
    "    \n",
    "    print(\"Start Validation ...\")\n",
    "    model.eval()\n",
    "    \n",
    "    val_acc = []\n",
    "\n",
    "    with torch.no_grad():\n",
    "        for data, targets in tqdm(dataloader):\n",
    "\n",
    "            data = data.permute(0,3,1,2).to(DEVICE).float()\n",
    "            targets = targets.unsqueeze(1).to(DEVICE)\n",
    "\n",
    "            outputs = model(data)\n",
    "\n",
    "            out_cut = np.copy(outputs.data.cpu().numpy())\n",
    "            out_cut[np.nonzero(out_cut < threshold)] = 0.0\n",
    "            out_cut[np.nonzero(out_cut >= threshold)] = 1.0\n",
    "\n",
    "            val_dice = metric(out_cut, targets.data.cpu().numpy())\n",
    "            val_acc.append(val_dice)\n",
    "\n",
    "        print(\"Epoch:  \" + str(epoch) + \"  Threshold:  \" + str(threshold)\\\n",
    "              + \" Mean Validation DICE Score:\", np.array(val_acc).mean())\n",
    "        \n",
    "        return  np.array(val_acc).mean()"
   ]
  },
  {
   "cell_type": "code",
   "execution_count": 68,
   "id": "084aacc3",
   "metadata": {
    "ExecuteTime": {
     "end_time": "2021-11-12T07:00:18.365441Z",
     "start_time": "2021-11-12T07:00:18.359228Z"
    }
   },
   "outputs": [],
   "source": [
    "for param in model.parameters():\n",
    "    param.requires_grad = True\n",
    "    \n",
    "params = [p for p in model.parameters() if p.requires_grad]\n",
    "\n",
    "stage_epoch = [12, 8, 5]#[20, 15, 10]\n",
    "stage_optimizer = [\n",
    "    torch.optim.Adamax(params, lr=0.0002),\n",
    "    torch.optim.SGD(params, lr=0.00009, momentum=0.9),\n",
    "    torch.optim.Adam(params, lr=0.00005),\n",
    "]\n",
    "\n",
    "stage_scheduler = [\n",
    "    torch.optim.lr_scheduler.CosineAnnealingLR(stage_optimizer[0], 4, 1e-6),\n",
    "    torch.optim.lr_scheduler.CyclicLR(stage_optimizer[1], base_lr=1e-5, max_lr=2e-4),\n",
    "    torch.optim.lr_scheduler.CosineAnnealingLR(stage_optimizer[2], 4, 1e-6),\n",
    "]"
   ]
  },
  {
   "cell_type": "code",
   "execution_count": 69,
   "id": "2057733e",
   "metadata": {
    "ExecuteTime": {
     "end_time": "2021-11-12T07:05:24.322680Z",
     "start_time": "2021-11-12T07:00:20.968458Z"
    }
   },
   "outputs": [
    {
     "name": "stdout",
     "output_type": "stream",
     "text": [
      "Start Train ...\n"
     ]
    },
    {
     "data": {
      "application/vnd.jupyter.widget-view+json": {
       "model_id": "64f0cc3e6d804367911b55d83b52db06",
       "version_major": 2,
       "version_minor": 0
      },
      "text/plain": [
       "  0%|          | 0/16 [00:00<?, ?it/s]"
      ]
     },
     "metadata": {},
     "output_type": "display_data"
    },
    {
     "name": "stdout",
     "output_type": "stream",
     "text": [
      "Epoch [0] Mean loss on train: 1.2517691776156425 Mean DICE on train: 0.22610443514861842 Learning Rate: 0.0001708571247280615\n",
      "Start Validation ...\n"
     ]
    },
    {
     "data": {
      "application/vnd.jupyter.widget-view+json": {
       "model_id": "c7d2a953123c41f699aa9c10712883ab",
       "version_major": 2,
       "version_minor": 0
      },
      "text/plain": [
       "  0%|          | 0/1 [00:00<?, ?it/s]"
      ]
     },
     "metadata": {},
     "output_type": "display_data"
    },
    {
     "name": "stdout",
     "output_type": "stream",
     "text": [
      "Epoch:  0  Threshold:  0.5 Mean Validation DICE Score: 0.42195910480595905\n",
      "Start Train ...\n"
     ]
    },
    {
     "data": {
      "application/vnd.jupyter.widget-view+json": {
       "model_id": "055b2d45b9a74bd589f90b2073959fa1",
       "version_major": 2,
       "version_minor": 0
      },
      "text/plain": [
       "  0%|          | 0/16 [00:00<?, ?it/s]"
      ]
     },
     "metadata": {},
     "output_type": "display_data"
    },
    {
     "name": "stdout",
     "output_type": "stream",
     "text": [
      "Epoch [1] Mean loss on train: 0.9848819226026535 Mean DICE on train: 0.5262396119161823 Learning Rate: 0.0001005\n",
      "Start Validation ...\n"
     ]
    },
    {
     "data": {
      "application/vnd.jupyter.widget-view+json": {
       "model_id": "02e2dbb594d14182985280e81816aaf7",
       "version_major": 2,
       "version_minor": 0
      },
      "text/plain": [
       "  0%|          | 0/1 [00:00<?, ?it/s]"
      ]
     },
     "metadata": {},
     "output_type": "display_data"
    },
    {
     "name": "stdout",
     "output_type": "stream",
     "text": [
      "Epoch:  1  Threshold:  0.5 Mean Validation DICE Score: 0.7806312018142951\n",
      "Start Train ...\n"
     ]
    },
    {
     "data": {
      "application/vnd.jupyter.widget-view+json": {
       "model_id": "f4ce04e2b78a46498d44b28ed7feb8d4",
       "version_major": 2,
       "version_minor": 0
      },
      "text/plain": [
       "  0%|          | 0/16 [00:00<?, ?it/s]"
      ]
     },
     "metadata": {},
     "output_type": "display_data"
    },
    {
     "name": "stdout",
     "output_type": "stream",
     "text": [
      "Epoch [2] Mean loss on train: 0.797014020383358 Mean DICE on train: 0.7345174736282423 Learning Rate: 3.014287527193853e-05\n",
      "Start Validation ...\n"
     ]
    },
    {
     "data": {
      "application/vnd.jupyter.widget-view+json": {
       "model_id": "34ae7051c71441a185ff511f7573c39c",
       "version_major": 2,
       "version_minor": 0
      },
      "text/plain": [
       "  0%|          | 0/1 [00:00<?, ?it/s]"
      ]
     },
     "metadata": {},
     "output_type": "display_data"
    },
    {
     "name": "stdout",
     "output_type": "stream",
     "text": [
      "Epoch:  2  Threshold:  0.5 Mean Validation DICE Score: 0.7808652469116723\n",
      "Start Train ...\n"
     ]
    },
    {
     "data": {
      "application/vnd.jupyter.widget-view+json": {
       "model_id": "6f8837f8014746a3ac7d64cb109c71e9",
       "version_major": 2,
       "version_minor": 0
      },
      "text/plain": [
       "  0%|          | 0/16 [00:00<?, ?it/s]"
      ]
     },
     "metadata": {},
     "output_type": "display_data"
    },
    {
     "name": "stdout",
     "output_type": "stream",
     "text": [
      "Epoch [3] Mean loss on train: 0.6499502062797546 Mean DICE on train: 0.7741002747279999 Learning Rate: 1e-06\n",
      "Start Validation ...\n"
     ]
    },
    {
     "data": {
      "application/vnd.jupyter.widget-view+json": {
       "model_id": "db9f8dd998b44729b4c048420a2d1fcc",
       "version_major": 2,
       "version_minor": 0
      },
      "text/plain": [
       "  0%|          | 0/1 [00:00<?, ?it/s]"
      ]
     },
     "metadata": {},
     "output_type": "display_data"
    },
    {
     "name": "stdout",
     "output_type": "stream",
     "text": [
      "Epoch:  3  Threshold:  0.5 Mean Validation DICE Score: 0.7899796942787508\n",
      "Start Train ...\n"
     ]
    },
    {
     "data": {
      "application/vnd.jupyter.widget-view+json": {
       "model_id": "cb2df91bdf7c491d8073875464bdcd02",
       "version_major": 2,
       "version_minor": 0
      },
      "text/plain": [
       "  0%|          | 0/16 [00:00<?, ?it/s]"
      ]
     },
     "metadata": {},
     "output_type": "display_data"
    },
    {
     "name": "stdout",
     "output_type": "stream",
     "text": [
      "Epoch [4] Mean loss on train: 0.667273610830307 Mean DICE on train: 0.7643723134050361 Learning Rate: 3.014287527193852e-05\n",
      "Start Validation ...\n"
     ]
    },
    {
     "data": {
      "application/vnd.jupyter.widget-view+json": {
       "model_id": "bce48a630544498ba8c11a69ed2fa715",
       "version_major": 2,
       "version_minor": 0
      },
      "text/plain": [
       "  0%|          | 0/1 [00:00<?, ?it/s]"
      ]
     },
     "metadata": {},
     "output_type": "display_data"
    },
    {
     "name": "stdout",
     "output_type": "stream",
     "text": [
      "Epoch:  4  Threshold:  0.5 Mean Validation DICE Score: 0.7899418324743692\n",
      "Start Train ...\n"
     ]
    },
    {
     "data": {
      "application/vnd.jupyter.widget-view+json": {
       "model_id": "657998687de54e2fa95ff65b1fbb9304",
       "version_major": 2,
       "version_minor": 0
      },
      "text/plain": [
       "  0%|          | 0/16 [00:00<?, ?it/s]"
      ]
     },
     "metadata": {},
     "output_type": "display_data"
    },
    {
     "name": "stdout",
     "output_type": "stream",
     "text": [
      "Epoch [5] Mean loss on train: 0.652088176459074 Mean DICE on train: 0.7693404844647728 Learning Rate: 0.00010050000000000002\n",
      "Start Validation ...\n"
     ]
    },
    {
     "data": {
      "application/vnd.jupyter.widget-view+json": {
       "model_id": "a3e2ed51f2114752b5da6022266bebff",
       "version_major": 2,
       "version_minor": 0
      },
      "text/plain": [
       "  0%|          | 0/1 [00:00<?, ?it/s]"
      ]
     },
     "metadata": {},
     "output_type": "display_data"
    },
    {
     "name": "stdout",
     "output_type": "stream",
     "text": [
      "Epoch:  5  Threshold:  0.5 Mean Validation DICE Score: 0.7942404998811424\n",
      "Start Train ...\n"
     ]
    },
    {
     "data": {
      "application/vnd.jupyter.widget-view+json": {
       "model_id": "bfa53c16913b49009a3683d82a928ecc",
       "version_major": 2,
       "version_minor": 0
      },
      "text/plain": [
       "  0%|          | 0/16 [00:00<?, ?it/s]"
      ]
     },
     "metadata": {},
     "output_type": "display_data"
    },
    {
     "name": "stdout",
     "output_type": "stream",
     "text": [
      "Epoch [6] Mean loss on train: 0.5919337142258883 Mean DICE on train: 0.7890811442416812 Learning Rate: 0.00017085712472806155\n",
      "Start Validation ...\n"
     ]
    },
    {
     "data": {
      "application/vnd.jupyter.widget-view+json": {
       "model_id": "e142a648cb42437da5d42fc059b3f5bc",
       "version_major": 2,
       "version_minor": 0
      },
      "text/plain": [
       "  0%|          | 0/1 [00:00<?, ?it/s]"
      ]
     },
     "metadata": {},
     "output_type": "display_data"
    },
    {
     "name": "stdout",
     "output_type": "stream",
     "text": [
      "Epoch:  6  Threshold:  0.5 Mean Validation DICE Score: 0.79523305345579\n",
      "Start Train ...\n"
     ]
    },
    {
     "data": {
      "application/vnd.jupyter.widget-view+json": {
       "model_id": "1515e96fed244bb9bd365592a9374930",
       "version_major": 2,
       "version_minor": 0
      },
      "text/plain": [
       "  0%|          | 0/16 [00:00<?, ?it/s]"
      ]
     },
     "metadata": {},
     "output_type": "display_data"
    },
    {
     "name": "stdout",
     "output_type": "stream",
     "text": [
      "Epoch [7] Mean loss on train: 0.5777687672525644 Mean DICE on train: 0.7931502032004047 Learning Rate: 0.0002000000000000001\n",
      "Start Validation ...\n"
     ]
    },
    {
     "data": {
      "application/vnd.jupyter.widget-view+json": {
       "model_id": "666dc1618ea041048128ee6f56455459",
       "version_major": 2,
       "version_minor": 0
      },
      "text/plain": [
       "  0%|          | 0/1 [00:00<?, ?it/s]"
      ]
     },
     "metadata": {},
     "output_type": "display_data"
    },
    {
     "name": "stdout",
     "output_type": "stream",
     "text": [
      "Epoch:  7  Threshold:  0.5 Mean Validation DICE Score: 0.8277048138395885\n",
      "Start Train ...\n"
     ]
    },
    {
     "data": {
      "application/vnd.jupyter.widget-view+json": {
       "model_id": "8a32a1498eb04a3598eaa9942c662fbc",
       "version_major": 2,
       "version_minor": 0
      },
      "text/plain": [
       "  0%|          | 0/16 [00:00<?, ?it/s]"
      ]
     },
     "metadata": {},
     "output_type": "display_data"
    },
    {
     "name": "stdout",
     "output_type": "stream",
     "text": [
      "Epoch [8] Mean loss on train: 0.5738964788615704 Mean DICE on train: 0.7909168458382233 Learning Rate: 0.00017085712472806157\n",
      "Start Validation ...\n"
     ]
    },
    {
     "data": {
      "application/vnd.jupyter.widget-view+json": {
       "model_id": "fc670e34f846419d99c99aca922fff67",
       "version_major": 2,
       "version_minor": 0
      },
      "text/plain": [
       "  0%|          | 0/1 [00:00<?, ?it/s]"
      ]
     },
     "metadata": {},
     "output_type": "display_data"
    },
    {
     "name": "stdout",
     "output_type": "stream",
     "text": [
      "Epoch:  8  Threshold:  0.5 Mean Validation DICE Score: 0.8495447121608556\n",
      "Start Train ...\n"
     ]
    },
    {
     "data": {
      "application/vnd.jupyter.widget-view+json": {
       "model_id": "9761b28f061c42db87e76e78db662460",
       "version_major": 2,
       "version_minor": 0
      },
      "text/plain": [
       "  0%|          | 0/16 [00:00<?, ?it/s]"
      ]
     },
     "metadata": {},
     "output_type": "display_data"
    },
    {
     "name": "stdout",
     "output_type": "stream",
     "text": [
      "Epoch [9] Mean loss on train: 0.5165416728705168 Mean DICE on train: 0.8136783234119398 Learning Rate: 0.00010050000000000007\n",
      "Start Validation ...\n"
     ]
    },
    {
     "data": {
      "application/vnd.jupyter.widget-view+json": {
       "model_id": "ad69080cd0b9422f83fa7a8e8d7e98a8",
       "version_major": 2,
       "version_minor": 0
      },
      "text/plain": [
       "  0%|          | 0/1 [00:00<?, ?it/s]"
      ]
     },
     "metadata": {},
     "output_type": "display_data"
    },
    {
     "name": "stdout",
     "output_type": "stream",
     "text": [
      "Epoch:  9  Threshold:  0.5 Mean Validation DICE Score: 0.8766218984748464\n",
      "Start Train ...\n"
     ]
    },
    {
     "data": {
      "application/vnd.jupyter.widget-view+json": {
       "model_id": "2f22e83523f442cc8d9f95af851df020",
       "version_major": 2,
       "version_minor": 0
      },
      "text/plain": [
       "  0%|          | 0/16 [00:00<?, ?it/s]"
      ]
     },
     "metadata": {},
     "output_type": "display_data"
    },
    {
     "name": "stdout",
     "output_type": "stream",
     "text": [
      "Epoch [10] Mean loss on train: 0.5156488586217165 Mean DICE on train: 0.8226978117272177 Learning Rate: 3.014287527193862e-05\n",
      "Start Validation ...\n"
     ]
    },
    {
     "data": {
      "application/vnd.jupyter.widget-view+json": {
       "model_id": "efed8ec03e044d1bbffd5ffc19d4ed85",
       "version_major": 2,
       "version_minor": 0
      },
      "text/plain": [
       "  0%|          | 0/1 [00:00<?, ?it/s]"
      ]
     },
     "metadata": {},
     "output_type": "display_data"
    },
    {
     "name": "stdout",
     "output_type": "stream",
     "text": [
      "Epoch:  10  Threshold:  0.5 Mean Validation DICE Score: 0.8823850069028447\n",
      "Start Train ...\n"
     ]
    },
    {
     "data": {
      "application/vnd.jupyter.widget-view+json": {
       "model_id": "ea90772795e24f0a87823e2f9ac215a9",
       "version_major": 2,
       "version_minor": 0
      },
      "text/plain": [
       "  0%|          | 0/16 [00:00<?, ?it/s]"
      ]
     },
     "metadata": {},
     "output_type": "display_data"
    },
    {
     "name": "stdout",
     "output_type": "stream",
     "text": [
      "Epoch [11] Mean loss on train: 0.48754808492958546 Mean DICE on train: 0.8248927606678231 Learning Rate: 1e-06\n",
      "Start Validation ...\n"
     ]
    },
    {
     "data": {
      "application/vnd.jupyter.widget-view+json": {
       "model_id": "07006f43f14e45f19dfe643169fd13eb",
       "version_major": 2,
       "version_minor": 0
      },
      "text/plain": [
       "  0%|          | 0/1 [00:00<?, ?it/s]"
      ]
     },
     "metadata": {},
     "output_type": "display_data"
    },
    {
     "name": "stdout",
     "output_type": "stream",
     "text": [
      "Epoch:  11  Threshold:  0.5 Mean Validation DICE Score: 0.8909253413886343\n",
      "\n",
      "Next stage\n",
      "\n",
      "Loaded model: 0.890925_.pth\n",
      "Start Train ...\n"
     ]
    },
    {
     "data": {
      "application/vnd.jupyter.widget-view+json": {
       "model_id": "59f10c2e95cf4f0c967dd6458401b5ca",
       "version_major": 2,
       "version_minor": 0
      },
      "text/plain": [
       "  0%|          | 0/16 [00:00<?, ?it/s]"
      ]
     },
     "metadata": {},
     "output_type": "display_data"
    },
    {
     "name": "stdout",
     "output_type": "stream",
     "text": [
      "Epoch [0] Mean loss on train: 0.477426977828145 Mean DICE on train: 0.8328578600982811 Learning Rate: 1.0095000000000033e-05\n",
      "Start Validation ...\n"
     ]
    },
    {
     "data": {
      "application/vnd.jupyter.widget-view+json": {
       "model_id": "a56cbb4d01b94fc5af711a418e0fe3d5",
       "version_major": 2,
       "version_minor": 0
      },
      "text/plain": [
       "  0%|          | 0/1 [00:00<?, ?it/s]"
      ]
     },
     "metadata": {},
     "output_type": "display_data"
    },
    {
     "name": "stdout",
     "output_type": "stream",
     "text": [
      "Epoch:  0  Threshold:  0.5 Mean Validation DICE Score: 0.8884990736412937\n",
      "Start Train ...\n"
     ]
    },
    {
     "data": {
      "application/vnd.jupyter.widget-view+json": {
       "model_id": "1b2b471c221840fc99228aff5db0984a",
       "version_major": 2,
       "version_minor": 0
      },
      "text/plain": [
       "  0%|          | 0/16 [00:00<?, ?it/s]"
      ]
     },
     "metadata": {},
     "output_type": "display_data"
    },
    {
     "name": "stdout",
     "output_type": "stream",
     "text": [
      "Epoch [1] Mean loss on train: 0.4813332762569189 Mean DICE on train: 0.8311450567689335 Learning Rate: 1.018999999999998e-05\n",
      "Start Validation ...\n"
     ]
    },
    {
     "data": {
      "application/vnd.jupyter.widget-view+json": {
       "model_id": "0bd01589719e4d99bec6af7b3f395056",
       "version_major": 2,
       "version_minor": 0
      },
      "text/plain": [
       "  0%|          | 0/1 [00:00<?, ?it/s]"
      ]
     },
     "metadata": {},
     "output_type": "display_data"
    },
    {
     "name": "stdout",
     "output_type": "stream",
     "text": [
      "Epoch:  1  Threshold:  0.5 Mean Validation DICE Score: 0.8843093189384519\n",
      "Start Train ...\n"
     ]
    },
    {
     "data": {
      "application/vnd.jupyter.widget-view+json": {
       "model_id": "b754c09f425e455380c7ea63443ec18d",
       "version_major": 2,
       "version_minor": 0
      },
      "text/plain": [
       "  0%|          | 0/16 [00:00<?, ?it/s]"
      ]
     },
     "metadata": {},
     "output_type": "display_data"
    },
    {
     "name": "stdout",
     "output_type": "stream",
     "text": [
      "Epoch [2] Mean loss on train: 0.4458827078342438 Mean DICE on train: 0.8432483061174931 Learning Rate: 1.028500000000001e-05\n",
      "Start Validation ...\n"
     ]
    },
    {
     "data": {
      "application/vnd.jupyter.widget-view+json": {
       "model_id": "18fae1f9e0e3469295e4e8e316af9096",
       "version_major": 2,
       "version_minor": 0
      },
      "text/plain": [
       "  0%|          | 0/1 [00:00<?, ?it/s]"
      ]
     },
     "metadata": {},
     "output_type": "display_data"
    },
    {
     "name": "stdout",
     "output_type": "stream",
     "text": [
      "Epoch:  2  Threshold:  0.5 Mean Validation DICE Score: 0.878206628753976\n",
      "Start Train ...\n"
     ]
    },
    {
     "data": {
      "application/vnd.jupyter.widget-view+json": {
       "model_id": "379a11b49701418da44f23bd0436d23f",
       "version_major": 2,
       "version_minor": 0
      },
      "text/plain": [
       "  0%|          | 0/16 [00:00<?, ?it/s]"
      ]
     },
     "metadata": {},
     "output_type": "display_data"
    },
    {
     "name": "stdout",
     "output_type": "stream",
     "text": [
      "Epoch [3] Mean loss on train: 0.5209303386509418 Mean DICE on train: 0.8111375155225942 Learning Rate: 1.0379999999999958e-05\n",
      "Start Validation ...\n"
     ]
    },
    {
     "data": {
      "application/vnd.jupyter.widget-view+json": {
       "model_id": "83446b2814e148ba8cde74b4c3d543f3",
       "version_major": 2,
       "version_minor": 0
      },
      "text/plain": [
       "  0%|          | 0/1 [00:00<?, ?it/s]"
      ]
     },
     "metadata": {},
     "output_type": "display_data"
    },
    {
     "name": "stdout",
     "output_type": "stream",
     "text": [
      "Epoch:  3  Threshold:  0.5 Mean Validation DICE Score: 0.8873842853917363\n",
      "Start Train ...\n"
     ]
    },
    {
     "data": {
      "application/vnd.jupyter.widget-view+json": {
       "model_id": "d5071f76d4094916b485d04ac5f58c76",
       "version_major": 2,
       "version_minor": 0
      },
      "text/plain": [
       "  0%|          | 0/16 [00:00<?, ?it/s]"
      ]
     },
     "metadata": {},
     "output_type": "display_data"
    },
    {
     "name": "stdout",
     "output_type": "stream",
     "text": [
      "Epoch [4] Mean loss on train: 0.48737720772624016 Mean DICE on train: 0.8285409753646135 Learning Rate: 1.047499999999999e-05\n",
      "Start Validation ...\n"
     ]
    },
    {
     "data": {
      "application/vnd.jupyter.widget-view+json": {
       "model_id": "a20f156fc2ad439abc98e7f266c38fcb",
       "version_major": 2,
       "version_minor": 0
      },
      "text/plain": [
       "  0%|          | 0/1 [00:00<?, ?it/s]"
      ]
     },
     "metadata": {},
     "output_type": "display_data"
    },
    {
     "name": "stdout",
     "output_type": "stream",
     "text": [
      "Epoch:  4  Threshold:  0.5 Mean Validation DICE Score: 0.8844528639900301\n",
      "Start Train ...\n"
     ]
    },
    {
     "data": {
      "application/vnd.jupyter.widget-view+json": {
       "model_id": "a9fba32001dc481c8025946ee3b98f2d",
       "version_major": 2,
       "version_minor": 0
      },
      "text/plain": [
       "  0%|          | 0/16 [00:00<?, ?it/s]"
      ]
     },
     "metadata": {},
     "output_type": "display_data"
    },
    {
     "name": "stdout",
     "output_type": "stream",
     "text": [
      "Epoch [5] Mean loss on train: 0.497658034786582 Mean DICE on train: 0.8231725070147706 Learning Rate: 1.0570000000000022e-05\n",
      "Start Validation ...\n"
     ]
    },
    {
     "data": {
      "application/vnd.jupyter.widget-view+json": {
       "model_id": "8ed8b090d14646a38decb7332daddca4",
       "version_major": 2,
       "version_minor": 0
      },
      "text/plain": [
       "  0%|          | 0/1 [00:00<?, ?it/s]"
      ]
     },
     "metadata": {},
     "output_type": "display_data"
    },
    {
     "name": "stdout",
     "output_type": "stream",
     "text": [
      "Epoch:  5  Threshold:  0.5 Mean Validation DICE Score: 0.8880078599086864\n",
      "Start Train ...\n"
     ]
    },
    {
     "data": {
      "application/vnd.jupyter.widget-view+json": {
       "model_id": "326ac6d89eca4e1db505a3701548d679",
       "version_major": 2,
       "version_minor": 0
      },
      "text/plain": [
       "  0%|          | 0/16 [00:00<?, ?it/s]"
      ]
     },
     "metadata": {},
     "output_type": "display_data"
    },
    {
     "name": "stdout",
     "output_type": "stream",
     "text": [
      "Epoch [6] Mean loss on train: 0.5164066385477781 Mean DICE on train: 0.8196086251911145 Learning Rate: 1.066499999999997e-05\n",
      "Start Validation ...\n"
     ]
    },
    {
     "data": {
      "application/vnd.jupyter.widget-view+json": {
       "model_id": "fb7df1a472484beaa1475c00a3e9eb6b",
       "version_major": 2,
       "version_minor": 0
      },
      "text/plain": [
       "  0%|          | 0/1 [00:00<?, ?it/s]"
      ]
     },
     "metadata": {},
     "output_type": "display_data"
    },
    {
     "name": "stdout",
     "output_type": "stream",
     "text": [
      "Epoch:  6  Threshold:  0.5 Mean Validation DICE Score: 0.884471039982062\n",
      "Start Train ...\n"
     ]
    },
    {
     "data": {
      "application/vnd.jupyter.widget-view+json": {
       "model_id": "d2d2fcc37bbc474cae5d2e73af6690c7",
       "version_major": 2,
       "version_minor": 0
      },
      "text/plain": [
       "  0%|          | 0/16 [00:00<?, ?it/s]"
      ]
     },
     "metadata": {},
     "output_type": "display_data"
    },
    {
     "name": "stdout",
     "output_type": "stream",
     "text": [
      "Epoch [7] Mean loss on train: 0.533005328848958 Mean DICE on train: 0.8106583884885193 Learning Rate: 1.0760000000000002e-05\n",
      "Start Validation ...\n"
     ]
    },
    {
     "data": {
      "application/vnd.jupyter.widget-view+json": {
       "model_id": "72857cda5afb457abb19c4236b68d1a9",
       "version_major": 2,
       "version_minor": 0
      },
      "text/plain": [
       "  0%|          | 0/1 [00:00<?, ?it/s]"
      ]
     },
     "metadata": {},
     "output_type": "display_data"
    },
    {
     "name": "stdout",
     "output_type": "stream",
     "text": [
      "Epoch:  7  Threshold:  0.5 Mean Validation DICE Score: 0.8837764221236747\n",
      "\n",
      "Next stage\n",
      "\n",
      "Loaded model: 0.890925_.pth\n",
      "Start Train ...\n"
     ]
    },
    {
     "data": {
      "application/vnd.jupyter.widget-view+json": {
       "model_id": "658363ed1b874a2c9901f8b20e7567fa",
       "version_major": 2,
       "version_minor": 0
      },
      "text/plain": [
       "  0%|          | 0/16 [00:00<?, ?it/s]"
      ]
     },
     "metadata": {},
     "output_type": "display_data"
    },
    {
     "name": "stdout",
     "output_type": "stream",
     "text": [
      "Epoch [0] Mean loss on train: 0.5335618797689676 Mean DICE on train: 0.8129924041501218 Learning Rate: 4.2824116139070415e-05\n",
      "Start Validation ...\n"
     ]
    },
    {
     "data": {
      "application/vnd.jupyter.widget-view+json": {
       "model_id": "c5638e2e6e594b679aed87bbc94f4231",
       "version_major": 2,
       "version_minor": 0
      },
      "text/plain": [
       "  0%|          | 0/1 [00:00<?, ?it/s]"
      ]
     },
     "metadata": {},
     "output_type": "display_data"
    },
    {
     "name": "stdout",
     "output_type": "stream",
     "text": [
      "Epoch:  0  Threshold:  0.5 Mean Validation DICE Score: 0.8814351678454165\n",
      "Start Train ...\n"
     ]
    },
    {
     "data": {
      "application/vnd.jupyter.widget-view+json": {
       "model_id": "5683d2b1ffa345d687f3a6b61aa04770",
       "version_major": 2,
       "version_minor": 0
      },
      "text/plain": [
       "  0%|          | 0/16 [00:00<?, ?it/s]"
      ]
     },
     "metadata": {},
     "output_type": "display_data"
    },
    {
     "name": "stdout",
     "output_type": "stream",
     "text": [
      "Epoch [1] Mean loss on train: 0.4725017212331295 Mean DICE on train: 0.8347265063976577 Learning Rate: 2.5500000000000003e-05\n",
      "Start Validation ...\n"
     ]
    },
    {
     "data": {
      "application/vnd.jupyter.widget-view+json": {
       "model_id": "137c2f4d6c7f426b95db667dfb11a35d",
       "version_major": 2,
       "version_minor": 0
      },
      "text/plain": [
       "  0%|          | 0/1 [00:00<?, ?it/s]"
      ]
     },
     "metadata": {},
     "output_type": "display_data"
    },
    {
     "name": "stdout",
     "output_type": "stream",
     "text": [
      "Epoch:  1  Threshold:  0.5 Mean Validation DICE Score: 0.8772312612719605\n",
      "Start Train ...\n"
     ]
    },
    {
     "data": {
      "application/vnd.jupyter.widget-view+json": {
       "model_id": "a6afab64d3744fc3a9173cfa789903e8",
       "version_major": 2,
       "version_minor": 0
      },
      "text/plain": [
       "  0%|          | 0/16 [00:00<?, ?it/s]"
      ]
     },
     "metadata": {},
     "output_type": "display_data"
    },
    {
     "name": "stdout",
     "output_type": "stream",
     "text": [
      "Epoch [2] Mean loss on train: 0.4610690549015999 Mean DICE on train: 0.8432304128130221 Learning Rate: 8.175883860929588e-06\n",
      "Start Validation ...\n"
     ]
    },
    {
     "data": {
      "application/vnd.jupyter.widget-view+json": {
       "model_id": "6c142f997120453d9f3323bcb8574166",
       "version_major": 2,
       "version_minor": 0
      },
      "text/plain": [
       "  0%|          | 0/1 [00:00<?, ?it/s]"
      ]
     },
     "metadata": {},
     "output_type": "display_data"
    },
    {
     "name": "stdout",
     "output_type": "stream",
     "text": [
      "Epoch:  2  Threshold:  0.5 Mean Validation DICE Score: 0.8893973295648907\n",
      "Start Train ...\n"
     ]
    },
    {
     "data": {
      "application/vnd.jupyter.widget-view+json": {
       "model_id": "f869e6134efb4be9873ef6ac76bba44d",
       "version_major": 2,
       "version_minor": 0
      },
      "text/plain": [
       "  0%|          | 0/16 [00:00<?, ?it/s]"
      ]
     },
     "metadata": {},
     "output_type": "display_data"
    },
    {
     "name": "stdout",
     "output_type": "stream",
     "text": [
      "Epoch [3] Mean loss on train: 0.46818889304995537 Mean DICE on train: 0.8390266511143096 Learning Rate: 1e-06\n",
      "Start Validation ...\n"
     ]
    },
    {
     "data": {
      "application/vnd.jupyter.widget-view+json": {
       "model_id": "5493143519ea40368e38435667cef883",
       "version_major": 2,
       "version_minor": 0
      },
      "text/plain": [
       "  0%|          | 0/1 [00:00<?, ?it/s]"
      ]
     },
     "metadata": {},
     "output_type": "display_data"
    },
    {
     "name": "stdout",
     "output_type": "stream",
     "text": [
      "Epoch:  3  Threshold:  0.5 Mean Validation DICE Score: 0.8938515659493256\n",
      "Start Train ...\n"
     ]
    },
    {
     "data": {
      "application/vnd.jupyter.widget-view+json": {
       "model_id": "3c219fea073e4205b3b871a4695b35c8",
       "version_major": 2,
       "version_minor": 0
      },
      "text/plain": [
       "  0%|          | 0/16 [00:00<?, ?it/s]"
      ]
     },
     "metadata": {},
     "output_type": "display_data"
    },
    {
     "name": "stdout",
     "output_type": "stream",
     "text": [
      "Epoch [4] Mean loss on train: 0.44305187836289406 Mean DICE on train: 0.845757357146974 Learning Rate: 8.175883860929586e-06\n",
      "Start Validation ...\n"
     ]
    },
    {
     "data": {
      "application/vnd.jupyter.widget-view+json": {
       "model_id": "3c51d516fbe746a4a2f241fffc0174aa",
       "version_major": 2,
       "version_minor": 0
      },
      "text/plain": [
       "  0%|          | 0/1 [00:00<?, ?it/s]"
      ]
     },
     "metadata": {},
     "output_type": "display_data"
    },
    {
     "name": "stdout",
     "output_type": "stream",
     "text": [
      "Epoch:  4  Threshold:  0.5 Mean Validation DICE Score: 0.8944979004062905\n",
      "\n",
      "Next stage\n",
      "\n",
      "Loaded model: 0.894498_.pth\n"
     ]
    }
   ],
   "source": [
    "DEVICE = 'cuda'\n",
    "weights_dir = \"weights\"\n",
    "if os.path.exists(weights_dir) == False:\n",
    "    os.mkdir(weights_dir)\n",
    "\n",
    "\n",
    "loss_history = []\n",
    "train_dice_history = []\n",
    "val_dice_history = []\n",
    "lr_history = []\n",
    "\n",
    "for k, (num_epochs, optimizer, lr_scheduler) in enumerate(zip(stage_epoch, stage_optimizer, stage_scheduler)):\n",
    "    for epoch in range(num_epochs):\n",
    "        \n",
    "        \n",
    "        loss, train_dice, lr = train_one_epoch(model, optimizer, lr_scheduler, \n",
    "                                               dice_coef_metric, train_dl, epoch)\n",
    "    \n",
    "        val_dice = val_epoch(model, dice_coef_metric, val_dl, epoch)\n",
    "        \n",
    "        \n",
    "        # train history\n",
    "        loss_history.append(loss)\n",
    "        train_dice_history.append(train_dice)\n",
    "        lr_history.append(lr)\n",
    "        val_dice_history.append(val_dice)\n",
    "\n",
    "        # save best weights\n",
    "        best_dice = max(val_dice_history)\n",
    "        if val_dice >= best_dice:\n",
    "            torch.save({'state_dict': model.state_dict()},\n",
    "                        os.path.join(weights_dir, f\"{val_dice:0.6f}_.pth\"))\n",
    "    \n",
    "    print(\"\\nNext stage\\n\")\n",
    "    # Load the best weights\n",
    "    best_weights =  sorted(glob.glob(weights_dir + \"/*\"),\n",
    "                       key= lambda x: x[8:-5])[-1]\n",
    "    checkpoint = torch.load(best_weights)\n",
    "    model.load_state_dict(checkpoint['state_dict'])\n",
    "\n",
    "    print(f'Loaded model: {best_weights.split(\"/\")[1]}')"
   ]
  },
  {
   "cell_type": "code",
   "execution_count": 70,
   "id": "f4796405",
   "metadata": {
    "ExecuteTime": {
     "end_time": "2021-11-12T07:05:33.979040Z",
     "start_time": "2021-11-12T07:05:33.961674Z"
    }
   },
   "outputs": [],
   "source": [
    "df_logs = pd.DataFrame(\n",
    "    {'loss': loss_history,\n",
    "     \"lr\" : lr_history,\n",
    "     'train_dice':train_dice_history,\n",
    "     'val_dice': val_dice_history\n",
    "    })\n",
    "df_logs.to_csv(\"train_logs.csv\", index=False)"
   ]
  },
  {
   "cell_type": "code",
   "execution_count": null,
   "id": "4323f862",
   "metadata": {},
   "outputs": [],
   "source": [
    "model.load_state_dict(state_dict=torch.load(\"\"))"
   ]
  },
  {
   "cell_type": "code",
   "execution_count": 93,
   "id": "7f9a9739",
   "metadata": {
    "ExecuteTime": {
     "end_time": "2021-11-12T07:49:30.105903Z",
     "start_time": "2021-11-12T07:49:29.203696Z"
    }
   },
   "outputs": [],
   "source": [
    "model.eval()\n",
    "threshold = 0.5\n",
    "\n",
    "# Define the codec and create VideoWrite object\n",
    "with torch.no_grad():\n",
    "    for data_batch,_ in train_dl:\n",
    "\n",
    "        data_batch = data_batch.permute(0,3,1,2).to(DEVICE).float()\n",
    "\n",
    "        outputs = model(data_batch)\n",
    "\n",
    "\n",
    "        out_cut = np.copy(outputs.data.cpu().numpy())\n",
    "        out_cut[np.nonzero(out_cut < threshold)] = 0.0\n",
    "        out_cut[np.nonzero(out_cut >= threshold)] = 1.0\n",
    "        \n",
    "#         for image, mask in zip(data_batch.data.cpu().numpy(), out_cut):\n",
    "\n",
    "#             result = add_colored_mask(image.transpose(1, 2, 0), mask.transpose(1, 2, 0))\n",
    "            \n",
    "        break"
   ]
  },
  {
   "cell_type": "code",
   "execution_count": 96,
   "id": "3f47a594",
   "metadata": {
    "ExecuteTime": {
     "end_time": "2021-11-12T07:50:07.991982Z",
     "start_time": "2021-11-12T07:50:07.983728Z"
    }
   },
   "outputs": [
    {
     "ename": "TypeError",
     "evalue": "transpose() received an invalid combination of arguments - got (int, int, int), but expected one of:\n * (name dim0, name dim1)\n * (int dim0, int dim1)\n",
     "output_type": "error",
     "traceback": [
      "\u001b[0;31m---------------------------------------------------------------------------\u001b[0m",
      "\u001b[0;31mTypeError\u001b[0m                                 Traceback (most recent call last)",
      "\u001b[0;32m<ipython-input-96-ca48d0c10a92>\u001b[0m in \u001b[0;36m<module>\u001b[0;34m\u001b[0m\n\u001b[0;32m----> 1\u001b[0;31m \u001b[0mplt\u001b[0m\u001b[0;34m.\u001b[0m\u001b[0mimshow\u001b[0m\u001b[0;34m(\u001b[0m\u001b[0m_\u001b[0m\u001b[0;34m[\u001b[0m\u001b[0;36m0\u001b[0m\u001b[0;34m]\u001b[0m\u001b[0;34m.\u001b[0m\u001b[0mtranspose\u001b[0m\u001b[0;34m(\u001b[0m\u001b[0;36m1\u001b[0m\u001b[0;34m,\u001b[0m \u001b[0;36m2\u001b[0m\u001b[0;34m,\u001b[0m \u001b[0;36m0\u001b[0m\u001b[0;34m)\u001b[0m\u001b[0;34m)\u001b[0m\u001b[0;34m\u001b[0m\u001b[0;34m\u001b[0m\u001b[0m\n\u001b[0m",
      "\u001b[0;31mTypeError\u001b[0m: transpose() received an invalid combination of arguments - got (int, int, int), but expected one of:\n * (name dim0, name dim1)\n * (int dim0, int dim1)\n"
     ]
    }
   ],
   "source": [
    "plt.imshow(_[0].transpose(1, 2, 0))"
   ]
  },
  {
   "cell_type": "code",
   "execution_count": 94,
   "id": "9874d79f",
   "metadata": {
    "ExecuteTime": {
     "end_time": "2021-11-12T07:49:40.050808Z",
     "start_time": "2021-11-12T07:49:39.914892Z"
    }
   },
   "outputs": [
    {
     "data": {
      "text/plain": [
       "<matplotlib.image.AxesImage at 0x7f3cf592fa30>"
      ]
     },
     "execution_count": 94,
     "metadata": {},
     "output_type": "execute_result"
    },
    {
     "data": {
      "image/png": "[encoded data removed]",
      "text/plain": [
       "<Figure size 432x288 with 1 Axes>"
      ]
     },
     "metadata": {
      "needs_background": "light"
     },
     "output_type": "display_data"
    }
   ],
   "source": [
    "plt.imshow(out_cut[0].transpose(1, 2, 0))"
   ]
  },
  {
   "cell_type": "code",
   "execution_count": 95,
   "id": "64f784aa",
   "metadata": {
    "ExecuteTime": {
     "end_time": "2021-11-12T07:49:49.838395Z",
     "start_time": "2021-11-12T07:49:49.820363Z"
    }
   },
   "outputs": [
    {
     "data": {
      "image/png": "[encoded data removed]",
      "text/plain": [
       "<PIL.Image.Image image mode=RGB size=224x224 at 0x7F3CF58F11F0>"
      ]
     },
     "execution_count": 95,
     "metadata": {},
     "output_type": "execute_result"
    }
   ],
   "source": [
    "Image.fromarray(data_batch.data.cpu().numpy().astype(np.uint8)[0].transpose(1, 2, 0))"
   ]
  },
  {
   "cell_type": "code",
   "execution_count": 105,
   "id": "3abe1f16",
   "metadata": {
    "ExecuteTime": {
     "end_time": "2021-11-12T07:52:23.804628Z",
     "start_time": "2021-11-12T07:52:23.799993Z"
    }
   },
   "outputs": [
    {
     "data": {
      "image/png": "[encoded data removed]",
      "text/plain": [
       "<PIL.Image.Image image mode=L size=224x224 at 0x7F3D1B2D1E80>"
      ]
     },
     "execution_count": 105,
     "metadata": {},
     "output_type": "execute_result"
    }
   ],
   "source": [
    "Image.fromarray(_.data.cpu().numpy().astype(np.uint8)[0].transpose(1, 2, 0))"
   ]
  },
  {
   "cell_type": "code",
   "execution_count": 104,
   "id": "56e77b02",
   "metadata": {
    "ExecuteTime": {
     "end_time": "2021-11-12T07:52:03.465605Z",
     "start_time": "2021-11-12T07:52:03.462058Z"
    }
   },
   "outputs": [
    {
     "data": {
      "text/plain": [
       "(224, 224)"
      ]
     },
     "execution_count": 104,
     "metadata": {},
     "output_type": "execute_result"
    }
   ],
   "source": [
    "_.data.cpu().numpy()[0]"
   ]
  },
  {
   "cell_type": "code",
   "execution_count": 107,
   "id": "ec5ea9de",
   "metadata": {
    "ExecuteTime": {
     "end_time": "2021-11-12T09:38:24.568980Z",
     "start_time": "2021-11-12T09:38:15.967118Z"
    }
   },
   "outputs": [
    {
     "name": "stdout",
     "output_type": "stream",
     "text": [
      "^C\r\n",
      "\u001b[31mERROR: Operation cancelled by user\u001b[0m\r\n"
     ]
    }
   ],
   "source": [
    "!pip install gdown"
   ]
  },
  {
   "cell_type": "code",
   "execution_count": 5,
   "id": "4ad8b162",
   "metadata": {
    "ExecuteTime": {
     "end_time": "2021-11-12T09:52:57.937211Z",
     "start_time": "2021-11-12T09:52:57.097484Z"
    }
   },
   "outputs": [
    {
     "name": "stdout",
     "output_type": "stream",
     "text": [
      "Traceback (most recent call last):\r\n",
      "  File \"/usr/local/bin/gdown\", line 5, in <module>\r\n",
      "    from gdown.cli import main\r\n",
      "  File \"/usr/local/lib/python3.5/dist-packages/gdown/__init__.py\", line 8, in <module>\r\n",
      "    from .download_folder import download_folder\r\n",
      "  File \"/usr/local/lib/python3.5/dist-packages/gdown/download_folder.py\", line 11, in <module>\r\n",
      "    from bs4 import BeautifulSoup\r\n",
      "  File \"/usr/lib/python3/dist-packages/bs4/__init__.py\", line 30, in <module>\r\n",
      "    from .builder import builder_registry, ParserRejectedMarkup\r\n",
      "  File \"/usr/lib/python3/dist-packages/bs4/builder/__init__.py\", line 314, in <module>\r\n",
      "    from . import _html5lib\r\n",
      "  File \"/usr/lib/python3/dist-packages/bs4/builder/_html5lib.py\", line 70, in <module>\r\n",
      "    class TreeBuilderForHtml5lib(html5lib.treebuilders._base.TreeBuilder):\r\n",
      "AttributeError: module 'html5lib.treebuilders' has no attribute '_base'\r\n"
     ]
    }
   ],
   "source": [
    "!gdown --folder https://drive.google.com/drive/u/0/folders/1eVAhWR8fgyu3cUNd3-3TVlLCPXsDM509"
   ]
  },
  {
   "cell_type": "code",
   "execution_count": null,
   "id": "9d5b6282",
   "metadata": {},
   "outputs": [],
   "source": []
  }
 ],
 "metadata": {
  "kernelspec": {
   "display_name": "Python 3",
   "language": "python",
   "name": "python3"
  },
  "language_info": {
   "codemirror_mode": {
    "name": "ipython",
    "version": 3
   },
   "file_extension": ".py",
   "mimetype": "text/x-python",
   "name": "python",
   "nbconvert_exporter": "python",
   "pygments_lexer": "ipython3",
   "version": "3.8.12"
  },
  "toc": {
   "base_numbering": 1,
   "nav_menu": {},
   "number_sections": true,
   "sideBar": true,
   "skip_h1_title": false,
   "title_cell": "Table of Contents",
   "title_sidebar": "Contents",
   "toc_cell": false,
   "toc_position": {},
   "toc_section_display": true,
   "toc_window_display": false
  },
  "varInspector": {
   "cols": {
    "lenName": 16,
    "lenType": 16,
    "lenVar": 40
   },
   "kernels_config": {
    "python": {
     "delete_cmd_postfix": "",
     "delete_cmd_prefix": "del ",
     "library": "var_list.py",
     "varRefreshCmd": "print(var_dic_list())"
    },
    "r": {
     "delete_cmd_postfix": ") ",
     "delete_cmd_prefix": "rm(",
     "library": "var_list.r",
     "varRefreshCmd": "cat(var_dic_list()) "
    }
   },
   "types_to_exclude": [
    "module",
    "function",
    "builtin_function_or_method",
    "instance",
    "_Feature"
   ],
   "window_display": false
  }
 },
 "nbformat": 4,
 "nbformat_minor": 5
}
