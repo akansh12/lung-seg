{
 "cells": [
  {
   "cell_type": "code",
   "execution_count": 1,
   "id": "014c5e76",
   "metadata": {
    "ExecuteTime": {
     "end_time": "2021-11-12T11:13:23.538541Z",
     "start_time": "2021-11-12T11:13:17.935289Z"
    }
   },
   "outputs": [],
   "source": [
    "import torch\n",
    "from PIL import Image\n",
    "import matplotlib.pyplot as plt\n",
    "from tqdm.auto import tqdm\n",
    "import numpy as np\n",
    "import pandas as pd\n",
    "import glob\n",
    "import re\n",
    "import os\n",
    "import cv2\n",
    "import torch\n",
    "import torch.nn as nn\n",
    "from torch.utils.data import Dataset, DataLoader\n",
    "import torchvision\n",
    "import albumentations as A"
   ]
  },
  {
   "cell_type": "code",
   "execution_count": 2,
   "id": "6495ccd5",
   "metadata": {
    "ExecuteTime": {
     "end_time": "2021-11-12T11:43:59.071806Z",
     "start_time": "2021-11-12T11:43:59.069632Z"
    }
   },
   "outputs": [],
   "source": [
    "from torchvision import transforms\n",
    "import torchvision.datasets as datasets"
   ]
  },
  {
   "cell_type": "code",
   "execution_count": 3,
   "id": "0a427398",
   "metadata": {
    "ExecuteTime": {
     "end_time": "2021-11-12T11:43:59.087631Z",
     "start_time": "2021-11-12T11:43:59.073756Z"
    }
   },
   "outputs": [],
   "source": [
    "import warnings\n",
    "warnings.filterwarnings('ignore')"
   ]
  },
  {
   "cell_type": "code",
   "execution_count": 4,
   "id": "d3169ab2",
   "metadata": {
    "ExecuteTime": {
     "end_time": "2021-11-12T11:43:59.102778Z",
     "start_time": "2021-11-12T11:43:59.089357Z"
    }
   },
   "outputs": [],
   "source": [
    "path2img = \"/media/brats/DRIVE1/akansh/lung-seg/data/images/\"\n",
    "path2mask = \"/media/brats/DRIVE1/akansh/lung-seg/data/masks/\""
   ]
  },
  {
   "cell_type": "code",
   "execution_count": 12,
   "id": "0ee2a2a9",
   "metadata": {
    "ExecuteTime": {
     "end_time": "2021-11-12T11:44:48.521174Z",
     "start_time": "2021-11-12T11:44:48.507389Z"
    }
   },
   "outputs": [],
   "source": [
    "class LungDataset(Dataset):\n",
    "    \n",
    "    def __init__(self, img_dir, mask_dir, transform = None):\n",
    "        \n",
    "        self.img_dir = [os.path.join(img_dir,i) for i in os.listdir(img_dir) if i.endswith('png')]\n",
    "        self.img_dir.sort()\n",
    "        self.mask_dir = None\n",
    "        if mask_dir is not None:\n",
    "            self.mask_dir = [os.path.join(mask_dir,i) for i in os.listdir(mask_dir) if i.endswith('png')]\n",
    "            self.mask_dir.sort()\n",
    "        self.transforms = transform\n",
    "        self.norm_transform = A.Normalize()\n",
    "\n",
    "    def __len__(self):\n",
    "        return len(self.img_dir)\n",
    "    \n",
    "    def __getitem__(self,idx):\n",
    "        img = cv2.imread(self.img_dir[idx])\n",
    "        img = cv2.cvtColor(img, cv2.COLOR_BGR2RGB)\n",
    "        ###Normalize\n",
    "#         img = self.norm_transform(img)\n",
    "\n",
    "        if self.mask_dir is not None:\n",
    "            mask = cv2.imread(self.mask_dir[idx])[:, :, 0]\n",
    "            mask = np.clip(mask, 0, 1).astype(\"float32\")\n",
    "            augmented = self.transforms(image=img, mask=mask)\n",
    "            img = augmented['image']\n",
    "            mask = augmented['mask']\n",
    "#             im = self.post_transforms(img)\n",
    "            return  torch.tensor(img), torch.FloatTensor(mask)\n",
    "        \n",
    "        else:\n",
    "            augmented = self.transforms(image=img)\n",
    "            img = augmented['image']\n",
    "            im = self.post_transforms(img)\n",
    "            return torch.tensor(img)  "
   ]
  },
  {
   "cell_type": "code",
   "execution_count": 6,
   "id": "ac3c36be",
   "metadata": {
    "ExecuteTime": {
     "end_time": "2021-11-12T11:44:05.689781Z",
     "start_time": "2021-11-12T11:44:05.684253Z"
    },
    "code_folding": [
     0,
     13
    ]
   },
   "outputs": [],
   "source": [
    "# def get_mean_std(loader):\n",
    "#     channels_sum, channels_squared_sum, num_batches = 0,0,0\n",
    "    \n",
    "#     for data,_ in tqdm(loader):\n",
    "#         channels_sum += torch.mean(data, dim = [0,2,3])\n",
    "#         channels_squared_sum += torch.mean(data**2, dim = [0,2,3])\n",
    "#         num_batches += 1\n",
    "        \n",
    "#     mean = channels_sum/num_batches\n",
    "#     std = (channels_squared_sum/num_batches - mean**2)**0.5\n",
    "    \n",
    "#     return mean, std\n",
    "\n",
    "# class LungDataset(Dataset):\n",
    "    \n",
    "#     def __init__(self, img_dir, mask_dir, transforms = None):\n",
    "        \n",
    "#         self.img_dir = [os.path.join(img_dir,i) for i in os.listdir(img_dir) if i.endswith('png')]\n",
    "#         self.img_dir.sort()\n",
    "#         self.mask_dir = None\n",
    "#         if mask_dir is not None:\n",
    "#             self.mask_dir = [os.path.join(mask_dir,i) for i in os.listdir(mask_dir) if i.endswith('png')]\n",
    "#             self.mask_dir.sort()\n",
    "#         self.transforms = transforms        \n",
    "#     def __len__(self):\n",
    "#         return len(self.img_dir)\n",
    "    \n",
    "#     def __getitem__(self,idx):\n",
    "#         img = cv2.imread(self.img_dir[idx], cv2.IMREAD_GRAYSCALE)\n",
    "#         if self.mask_dir is not None:\n",
    "#             mask = cv2.imread(self.mask_dir[idx], cv2.IMREAD_GRAYSCALE)\n",
    "#             mask = np.clip(mask, 0, 1).astype(\"float32\")\n",
    "#             augmented = self.transforms(image=img, mask=mask)\n",
    "#             img = augmented['image']\n",
    "#             mask = augmented['mask']\n",
    "#             return torch.tensor(img), torch.FloatTensor(mask)\n",
    "        \n",
    "#         else:\n",
    "# #             augmented = self.transforms(image=img)\n",
    "# #             img = augmented['image']\n",
    "#             return self.transforms(img), 0  \n",
    "# trainset = LungDataset(img_dir = path2img, mask_dir = None, transforms = transforms.ToTensor())\n",
    "\n",
    "\n",
    "# train_loader = DataLoader(dataset = trainset, batch_size = 64, shuffle = True)\n",
    "\n",
    "# mean, std = get_mean_std(train_loader)\n",
    "# print(f\"Mean: {mean}, STD: {std}\")"
   ]
  },
  {
   "cell_type": "code",
   "execution_count": 64,
   "id": "4d04aa5e",
   "metadata": {
    "ExecuteTime": {
     "end_time": "2021-11-12T12:09:49.020994Z",
     "start_time": "2021-11-12T12:09:49.013219Z"
    }
   },
   "outputs": [],
   "source": [
    "train_transforms = A.Compose([\n",
    "    A.HorizontalFlip(p=0.5),\n",
    "    A.RandomRotate90(p=0.5),\n",
    "    A.Rotate((-30,30), p = 0.5),\n",
    "#     A.ElasticTransform(p=0.5, alpha=1, sigma=50, alpha_affine=10),\n",
    "#     A.ShiftScaleRotate(shift_limit=0.0625, scale_limit=0.1, rotate_limit=15, p=0.3),\n",
    "#     A.GridDistortion(p=0.5),\n",
    "#     A.OpticalDistortion(distort_limit=0.8, shift_limit=0.6, p=1),\n",
    "#     A.RandomSizedCrop(min_max_height=(150, 200), height=224, width=224, p=0.5),\n",
    "#     A.CLAHE(p=0.5),\n",
    "    A.RandomBrightnessContrast(p=0.5),\n",
    "    A.RandomGamma(p = 0.5),\n",
    "    A.GaussianBlur(p = 0.5),\n",
    "    A.GaussNoise(p = 0.5), \n",
    "    \n",
    "        ])\n",
    "\n",
    "\n",
    "test_transforms = A.Compose([\n",
    "    A.Rotate(0, p = 1)\n",
    "        ])"
   ]
  },
  {
   "cell_type": "code",
   "execution_count": 65,
   "id": "afa62bdd",
   "metadata": {
    "ExecuteTime": {
     "end_time": "2021-11-12T12:09:59.943896Z",
     "start_time": "2021-11-12T12:09:59.940167Z"
    }
   },
   "outputs": [],
   "source": [
    "lung_data_1 = LungDataset(img_dir = path2img, mask_dir = path2mask, transform = train_transforms)\n",
    "lung_data_2 = LungDataset(img_dir = path2img, mask_dir = path2mask, transform = test_transforms)"
   ]
  },
  {
   "cell_type": "code",
   "execution_count": 66,
   "id": "8685aeee",
   "metadata": {
    "ExecuteTime": {
     "end_time": "2021-11-12T12:10:10.658875Z",
     "start_time": "2021-11-12T12:10:10.646007Z"
    }
   },
   "outputs": [
    {
     "name": "stdout",
     "output_type": "stream",
     "text": [
      "torch.Size([224, 224, 3])\n",
      "tensor([[0., 0., 0.,  ..., 0., 0., 0.],\n",
      "        [0., 0., 0.,  ..., 0., 0., 0.],\n",
      "        [0., 0., 0.,  ..., 0., 0., 0.],\n",
      "        ...,\n",
      "        [0., 0., 0.,  ..., 0., 0., 0.],\n",
      "        [0., 0., 0.,  ..., 0., 0., 0.],\n",
      "        [0., 0., 0.,  ..., 0., 0., 0.]])\n"
     ]
    }
   ],
   "source": [
    "for x, y in lung_data_1:\n",
    "    print(x.shape)\n",
    "    print(y)\n",
    "    break"
   ]
  },
  {
   "cell_type": "code",
   "execution_count": 67,
   "id": "a6ca5332",
   "metadata": {
    "ExecuteTime": {
     "end_time": "2021-11-12T12:10:20.514481Z",
     "start_time": "2021-11-12T12:10:20.510263Z"
    }
   },
   "outputs": [
    {
     "data": {
      "image/png": "[encoded data removed]",
      "text/plain": [
       "<PIL.Image.Image image mode=1 size=224x224 at 0x7FBD00A8B490>"
      ]
     },
     "execution_count": 67,
     "metadata": {},
     "output_type": "execute_result"
    }
   ],
   "source": [
    "Image.fromarray(y.numpy().astype('bool'))"
   ]
  },
  {
   "cell_type": "code",
   "execution_count": 68,
   "id": "d2d92299",
   "metadata": {
    "ExecuteTime": {
     "end_time": "2021-11-12T12:10:30.943296Z",
     "start_time": "2021-11-12T12:10:30.938915Z"
    }
   },
   "outputs": [
    {
     "data": {
      "text/plain": [
       "138"
      ]
     },
     "execution_count": 68,
     "metadata": {},
     "output_type": "execute_result"
    }
   ],
   "source": [
    "len(lung_data_1)"
   ]
  },
  {
   "cell_type": "markdown",
   "id": "0cd1cc8d",
   "metadata": {},
   "source": [
    "### Spliting the dataset"
   ]
  },
  {
   "cell_type": "code",
   "execution_count": 36,
   "id": "9e4edf62",
   "metadata": {
    "ExecuteTime": {
     "end_time": "2021-11-12T11:55:42.741721Z",
     "start_time": "2021-11-12T11:55:42.737672Z"
    }
   },
   "outputs": [],
   "source": [
    "from sklearn.model_selection import ShuffleSplit"
   ]
  },
  {
   "cell_type": "code",
   "execution_count": 37,
   "id": "9ed9b2b5",
   "metadata": {
    "ExecuteTime": {
     "end_time": "2021-11-12T11:55:46.410664Z",
     "start_time": "2021-11-12T11:55:46.408367Z"
    }
   },
   "outputs": [],
   "source": [
    "sss = ShuffleSplit(n_splits=1, test_size=0.1, random_state=0)"
   ]
  },
  {
   "cell_type": "code",
   "execution_count": 38,
   "id": "68c1c2ef",
   "metadata": {
    "ExecuteTime": {
     "end_time": "2021-11-12T11:55:50.020818Z",
     "start_time": "2021-11-12T11:55:50.017006Z"
    }
   },
   "outputs": [
    {
     "name": "stdout",
     "output_type": "stream",
     "text": [
      "124\n",
      "----------\n",
      "14\n"
     ]
    }
   ],
   "source": [
    "indices=range(len(lung_data_1))\n",
    "for train_index, val_index in sss.split(indices):\n",
    "    print(len(train_index))\n",
    "    print(\"-\"*10)\n",
    "    print(len(val_index))"
   ]
  },
  {
   "cell_type": "code",
   "execution_count": 39,
   "id": "c0291ddf",
   "metadata": {
    "ExecuteTime": {
     "end_time": "2021-11-12T11:55:53.631096Z",
     "start_time": "2021-11-12T11:55:53.627483Z"
    }
   },
   "outputs": [
    {
     "name": "stdout",
     "output_type": "stream",
     "text": [
      "124\n",
      "----------\n",
      "14\n"
     ]
    }
   ],
   "source": [
    "from torch.utils.data import Subset\n",
    "train_ds=Subset(lung_data_1,train_index)\n",
    "print(len(train_ds))\n",
    "print(\"-\"*10)\n",
    "\n",
    "val_ds=Subset(lung_data_2,val_index)\n",
    "print(len(val_ds))"
   ]
  },
  {
   "cell_type": "code",
   "execution_count": 40,
   "id": "e5333594",
   "metadata": {
    "ExecuteTime": {
     "end_time": "2021-11-12T11:55:57.360552Z",
     "start_time": "2021-11-12T11:55:57.357833Z"
    }
   },
   "outputs": [],
   "source": [
    "from torch.utils.data import DataLoader\n",
    "train_dl = DataLoader(train_ds, batch_size=8, shuffle=True)\n",
    "val_dl = DataLoader(val_ds, batch_size=16, shuffle=False)"
   ]
  },
  {
   "cell_type": "code",
   "execution_count": 41,
   "id": "d98925b2",
   "metadata": {
    "ExecuteTime": {
     "end_time": "2021-11-12T11:56:01.318533Z",
     "start_time": "2021-11-12T11:56:00.970817Z"
    }
   },
   "outputs": [
    {
     "name": "stdout",
     "output_type": "stream",
     "text": [
      "torch.Size([8, 224, 224, 3]) torch.uint8\n",
      "torch.Size([8, 224, 224]) torch.float32\n"
     ]
    }
   ],
   "source": [
    "for img_b, mask_b in train_dl:\n",
    "    print(img_b.shape,img_b.dtype)\n",
    "    print(mask_b.shape, mask_b.dtype)\n",
    "    break"
   ]
  },
  {
   "cell_type": "code",
   "execution_count": null,
   "id": "046ddcc7",
   "metadata": {},
   "outputs": [],
   "source": []
  },
  {
   "cell_type": "markdown",
   "id": "fe7a4e15",
   "metadata": {},
   "source": [
    "### Model"
   ]
  },
  {
   "cell_type": "code",
   "execution_count": 69,
   "id": "038f366b",
   "metadata": {
    "ExecuteTime": {
     "end_time": "2021-11-12T12:10:40.845632Z",
     "start_time": "2021-11-12T12:10:40.833797Z"
    }
   },
   "outputs": [],
   "source": [
    "def convrelu(in_channels, out_channels, kernel, padding):\n",
    "    return nn.Sequential(\n",
    "        nn.Conv2d(in_channels, out_channels, kernel, padding=padding),\n",
    "        nn.ReLU(inplace=True),\n",
    "    )\n",
    "\n",
    "class ResNetUNet(nn.Module):\n",
    "\n",
    "    def __init__(self, n_classes=1):\n",
    "        super().__init__()\n",
    "        \n",
    "        self.base_model = torchvision.models.resnet50(pretrained=False)\n",
    "        \n",
    "        self.base_layers = list(self.base_model.children())                \n",
    "        \n",
    "        self.layer0 = nn.Sequential(*self.base_layers[:3])\n",
    "        self.layer0_1x1 = convrelu(64, 64, 1, 0)\n",
    "        self.layer1 = nn.Sequential(*self.base_layers[3:5])        \n",
    "        self.layer1_1x1 = convrelu(256, 256, 1, 0)       \n",
    "        self.layer2 = self.base_layers[5]         \n",
    "        self.layer2_1x1 = convrelu(512, 512, 1, 0)  \n",
    "        self.layer3 = self.base_layers[6]         \n",
    "        self.layer3_1x1 = convrelu(1024, 1024, 1, 0)  \n",
    "        self.layer4 = self.base_layers[7] \n",
    "        self.layer4_1x1 = convrelu(2048, 2048, 1, 0)  \n",
    "        \n",
    "        self.upsample = nn.Upsample(scale_factor=2, mode='bilinear', align_corners=True)\n",
    "        \n",
    "        self.conv_up3 = convrelu(1024 + 2048, 1024, 3, 1)\n",
    "        self.conv_up2 = convrelu(512 + 1024, 512, 3, 1)\n",
    "        self.conv_up1 = convrelu(256 + 512, 256, 3, 1)\n",
    "        self.conv_up0 = convrelu(64 + 256, 64, 3, 1)\n",
    "        \n",
    "        self.conv_original_size0 = convrelu(3, 64, 3, 1)\n",
    "        self.conv_original_size1 = convrelu(64, 64, 3, 1)\n",
    "        self.conv_original_size2 = convrelu(128, 64, 3, 1)\n",
    "        \n",
    "        self.conv_last = nn.Conv2d(64, n_classes, 1)\n",
    "        \n",
    "    def forward(self, input):\n",
    "        x_original = self.conv_original_size0(input)\n",
    "        x_original = self.conv_original_size1(x_original)\n",
    "        \n",
    "        layer0 = self.layer0(input)\n",
    "        layer1 = self.layer1(layer0)\n",
    "        layer2 = self.layer2(layer1)\n",
    "        layer3 = self.layer3(layer2) \n",
    "        layer4 = self.layer4(layer3)\n",
    "        \n",
    "        layer4 = self.layer4_1x1(layer4)\n",
    "        x = self.upsample(layer4)\n",
    "        layer3 = self.layer3_1x1(layer3)\n",
    "        x = torch.cat([x, layer3], dim=1)\n",
    "        x = self.conv_up3(x)\n",
    "        x = self.upsample(x)\n",
    "        layer2 = self.layer2_1x1(layer2)\n",
    "        x = torch.cat([x, layer2], dim=1)\n",
    "        x = self.conv_up2(x)\n",
    "        x = self.upsample(x)\n",
    "        layer1 = self.layer1_1x1(layer1)\n",
    "        x = torch.cat([x, layer1], dim=1)\n",
    "        x = self.conv_up1(x)\n",
    "        x = self.upsample(x)\n",
    "        layer0 = self.layer0_1x1(layer0)\n",
    "        x = torch.cat([x, layer0], dim=1)\n",
    "        x = self.conv_up0(x)\n",
    "        x = self.upsample(x)\n",
    "        x = torch.cat([x, x_original], dim=1)\n",
    "        x = self.conv_original_size2(x)\n",
    "        \n",
    "        out = torch.sigmoid(self.conv_last(x))  \n",
    "\n",
    "        return out"
   ]
  },
  {
   "cell_type": "code",
   "execution_count": 70,
   "id": "68d9aafa",
   "metadata": {
    "ExecuteTime": {
     "end_time": "2021-11-12T12:10:51.421960Z",
     "start_time": "2021-11-12T12:10:50.485918Z"
    }
   },
   "outputs": [],
   "source": [
    "model = ResNetUNet().to('cuda');"
   ]
  },
  {
   "cell_type": "code",
   "execution_count": 71,
   "id": "2a88c0d2",
   "metadata": {
    "ExecuteTime": {
     "end_time": "2021-11-12T12:11:00.979023Z",
     "start_time": "2021-11-12T12:11:00.973661Z"
    }
   },
   "outputs": [],
   "source": [
    "def jaccard_coef_metric(inputs, target, eps=1e-7):\n",
    "    intersection = (target * inputs).sum()\n",
    "    union = (target.sum() + inputs.sum()) - intersection + eps\n",
    "\n",
    "    if target.sum() == 0 and inputs.sum() == 0:\n",
    "        return 1.0\n",
    "\n",
    "    return (intersection + eps) / union\n",
    "\n",
    "def dice_coef_metric(inputs, target):\n",
    "    intersection = 2.0 * (target * inputs).sum()\n",
    "    union = target.sum() + inputs.sum()\n",
    "    if target.sum() == 0 and inputs.sum() == 0:\n",
    "        return 1.0\n",
    "\n",
    "    return intersection / union\n",
    "\n",
    "## Loss\n",
    "\n",
    "def dice_coef_loss(inputs, target):\n",
    "    smooth = 1.0\n",
    "    intersection = 2.0 * ((target * inputs).sum()) + smooth\n",
    "    union = target.sum() + inputs.sum() + smooth\n",
    "\n",
    "    return 1 - (intersection / union)\n",
    "\n",
    "\n",
    "def bce_dice_loss(inputs, target):\n",
    "    dicescore = dice_coef_loss(inputs, target)\n",
    "    bcescore = nn.BCELoss()\n",
    "    bceloss = bcescore(inputs, target)\n",
    "\n",
    "    return bceloss + dicescore"
   ]
  },
  {
   "cell_type": "code",
   "execution_count": 72,
   "id": "ae246526",
   "metadata": {
    "ExecuteTime": {
     "end_time": "2021-11-12T12:11:10.526827Z",
     "start_time": "2021-11-12T12:11:10.517751Z"
    }
   },
   "outputs": [],
   "source": [
    "def train_one_epoch(model, optimizer, lr_scheduler, metric,\n",
    "                    dataloader, epoch, criterion=bce_dice_loss):\n",
    "    \n",
    "    print(\"Start Train ...\")\n",
    "    model.train()\n",
    "\n",
    "    losses = []\n",
    "    accur = []\n",
    "\n",
    "    for data, target in tqdm(dataloader):\n",
    "\n",
    "        data = data.permute(0,3,1,2).to(DEVICE).float()\n",
    "        targets = target.unsqueeze(1).to(DEVICE)\n",
    "\n",
    "        outputs = model(data)\n",
    "\n",
    "        out_cut = np.copy(outputs.data.cpu().numpy())\n",
    "        out_cut[np.nonzero(out_cut < 0.5)] = 0.0\n",
    "        out_cut[np.nonzero(out_cut >= 0.5)] = 1.0\n",
    "\n",
    "        train_dice = metric(out_cut, targets.data.cpu().numpy())\n",
    "\n",
    "        loss = criterion(outputs, targets)\n",
    "\n",
    "        losses.append(loss.item())\n",
    "        accur.append(train_dice)\n",
    "\n",
    "        optimizer.zero_grad()\n",
    "        loss.backward()\n",
    "        optimizer.step()\n",
    "        \n",
    "    if lr_scheduler is not None:\n",
    "        lr_scheduler.step()\n",
    "\n",
    "    lr = lr_scheduler.get_last_lr()[0]\n",
    "    print(\"Epoch [%d]\" % (epoch),\n",
    "          \"Mean loss on train:\", np.array(losses).mean(), \n",
    "          \"Mean DICE on train:\", np.array(accur).mean(), \n",
    "          \"Learning Rate:\", lr)\n",
    "\n",
    "    \n",
    "    return np.array(losses).mean(), np.array(accur).mean(), lr\n",
    "\n",
    "\n",
    "def val_epoch(model, metric, dataloader, epoch, threshold=0.5):\n",
    "    \n",
    "    print(\"Start Validation ...\")\n",
    "    model.eval()\n",
    "    \n",
    "    val_acc = []\n",
    "\n",
    "    with torch.no_grad():\n",
    "        for data, targets in tqdm(dataloader):\n",
    "\n",
    "            data = data.permute(0,3,1,2).to(DEVICE).float()\n",
    "            targets = targets.unsqueeze(1).to(DEVICE)\n",
    "\n",
    "            outputs = model(data)\n",
    "\n",
    "            out_cut = np.copy(outputs.data.cpu().numpy())\n",
    "            out_cut[np.nonzero(out_cut < threshold)] = 0.0\n",
    "            out_cut[np.nonzero(out_cut >= threshold)] = 1.0\n",
    "\n",
    "            val_dice = metric(out_cut, targets.data.cpu().numpy())\n",
    "            val_acc.append(val_dice)\n",
    "\n",
    "        print(\"Epoch:  \" + str(epoch) + \"  Threshold:  \" + str(threshold)\\\n",
    "              + \" Mean Validation DICE Score:\", np.array(val_acc).mean())\n",
    "        \n",
    "        return  np.array(val_acc).mean()"
   ]
  },
  {
   "cell_type": "code",
   "execution_count": 73,
   "id": "084aacc3",
   "metadata": {
    "ExecuteTime": {
     "end_time": "2021-11-12T12:11:20.062654Z",
     "start_time": "2021-11-12T12:11:20.056672Z"
    }
   },
   "outputs": [],
   "source": [
    "for param in model.parameters():\n",
    "    param.requires_grad = True\n",
    "    \n",
    "params = [p for p in model.parameters() if p.requires_grad]\n",
    "\n",
    "stage_epoch =  [20, 15, 10] #[12, 8, 5]\n",
    "stage_optimizer = [\n",
    "    torch.optim.Adamax(params, lr=0.0002),\n",
    "    torch.optim.SGD(params, lr=0.00009, momentum=0.9),\n",
    "    torch.optim.Adam(params, lr=0.00005),\n",
    "]\n",
    "\n",
    "stage_scheduler = [\n",
    "    torch.optim.lr_scheduler.CosineAnnealingLR(stage_optimizer[0], 4, 1e-6),\n",
    "    torch.optim.lr_scheduler.CyclicLR(stage_optimizer[1], base_lr=1e-5, max_lr=2e-4),\n",
    "    torch.optim.lr_scheduler.CosineAnnealingLR(stage_optimizer[2], 4, 1e-6),\n",
    "]"
   ]
  },
  {
   "cell_type": "code",
   "execution_count": 74,
   "id": "2057733e",
   "metadata": {
    "ExecuteTime": {
     "end_time": "2021-11-12T12:19:04.308107Z",
     "start_time": "2021-11-12T12:11:30.318726Z"
    }
   },
   "outputs": [
    {
     "name": "stdout",
     "output_type": "stream",
     "text": [
      "Start Train ...\n"
     ]
    },
    {
     "data": {
      "application/vnd.jupyter.widget-view+json": {
       "model_id": "843724ed32424d5fa80c48e4e770b89c",
       "version_major": 2,
       "version_minor": 0
      },
      "text/plain": [
       "  0%|          | 0/16 [00:00<?, ?it/s]"
      ]
     },
     "metadata": {},
     "output_type": "display_data"
    },
    {
     "name": "stdout",
     "output_type": "stream",
     "text": [
      "Epoch [0] Mean loss on train: 1.4055516347289085 Mean DICE on train: 0.1318452718457312 Learning Rate: 0.0001708571247280615\n",
      "Start Validation ...\n"
     ]
    },
    {
     "data": {
      "application/vnd.jupyter.widget-view+json": {
       "model_id": "6b62e1ec451548bf83f6608a3c5597ce",
       "version_major": 2,
       "version_minor": 0
      },
      "text/plain": [
       "  0%|          | 0/1 [00:00<?, ?it/s]"
      ]
     },
     "metadata": {},
     "output_type": "display_data"
    },
    {
     "name": "stdout",
     "output_type": "stream",
     "text": [
      "Epoch:  0  Threshold:  0.5 Mean Validation DICE Score: 0.008616402456401115\n",
      "Start Train ...\n"
     ]
    },
    {
     "data": {
      "application/vnd.jupyter.widget-view+json": {
       "model_id": "cd89dba1687f4cbca8ec7911aa4be006",
       "version_major": 2,
       "version_minor": 0
      },
      "text/plain": [
       "  0%|          | 0/16 [00:00<?, ?it/s]"
      ]
     },
     "metadata": {},
     "output_type": "display_data"
    },
    {
     "name": "stdout",
     "output_type": "stream",
     "text": [
      "Epoch [1] Mean loss on train: 1.0423463247716427 Mean DICE on train: 0.6003086544604386 Learning Rate: 0.0001005\n",
      "Start Validation ...\n"
     ]
    },
    {
     "data": {
      "application/vnd.jupyter.widget-view+json": {
       "model_id": "94693d527463469f89ccbb203fed6612",
       "version_major": 2,
       "version_minor": 0
      },
      "text/plain": [
       "  0%|          | 0/1 [00:00<?, ?it/s]"
      ]
     },
     "metadata": {},
     "output_type": "display_data"
    },
    {
     "name": "stdout",
     "output_type": "stream",
     "text": [
      "Epoch:  1  Threshold:  0.5 Mean Validation DICE Score: 0.7550534849138965\n",
      "Start Train ...\n"
     ]
    },
    {
     "data": {
      "application/vnd.jupyter.widget-view+json": {
       "model_id": "4fafb7fe956a4861ab4063ae91cc146e",
       "version_major": 2,
       "version_minor": 0
      },
      "text/plain": [
       "  0%|          | 0/16 [00:00<?, ?it/s]"
      ]
     },
     "metadata": {},
     "output_type": "display_data"
    },
    {
     "name": "stdout",
     "output_type": "stream",
     "text": [
      "Epoch [2] Mean loss on train: 0.8785628415644169 Mean DICE on train: 0.6881280139270357 Learning Rate: 3.014287527193853e-05\n",
      "Start Validation ...\n"
     ]
    },
    {
     "data": {
      "application/vnd.jupyter.widget-view+json": {
       "model_id": "b716f5a1210e4ddd909371a9979e8ffc",
       "version_major": 2,
       "version_minor": 0
      },
      "text/plain": [
       "  0%|          | 0/1 [00:00<?, ?it/s]"
      ]
     },
     "metadata": {},
     "output_type": "display_data"
    },
    {
     "name": "stdout",
     "output_type": "stream",
     "text": [
      "Epoch:  2  Threshold:  0.5 Mean Validation DICE Score: 0.77871427416895\n",
      "Start Train ...\n"
     ]
    },
    {
     "data": {
      "application/vnd.jupyter.widget-view+json": {
       "model_id": "6053432b378d4ff58385ae2cbc665e58",
       "version_major": 2,
       "version_minor": 0
      },
      "text/plain": [
       "  0%|          | 0/16 [00:00<?, ?it/s]"
      ]
     },
     "metadata": {},
     "output_type": "display_data"
    },
    {
     "name": "stdout",
     "output_type": "stream",
     "text": [
      "Epoch [3] Mean loss on train: 0.8120361566543579 Mean DICE on train: 0.7285213086109675 Learning Rate: 1e-06\n",
      "Start Validation ...\n"
     ]
    },
    {
     "data": {
      "application/vnd.jupyter.widget-view+json": {
       "model_id": "a21ec799ea124dc4acc1bf3a9c76ae41",
       "version_major": 2,
       "version_minor": 0
      },
      "text/plain": [
       "  0%|          | 0/1 [00:00<?, ?it/s]"
      ]
     },
     "metadata": {},
     "output_type": "display_data"
    },
    {
     "name": "stdout",
     "output_type": "stream",
     "text": [
      "Epoch:  3  Threshold:  0.5 Mean Validation DICE Score: 0.7751953749885292\n",
      "Start Train ...\n"
     ]
    },
    {
     "data": {
      "application/vnd.jupyter.widget-view+json": {
       "model_id": "60c33c097fad4a4f8d249cc4e796384b",
       "version_major": 2,
       "version_minor": 0
      },
      "text/plain": [
       "  0%|          | 0/16 [00:00<?, ?it/s]"
      ]
     },
     "metadata": {},
     "output_type": "display_data"
    },
    {
     "name": "stdout",
     "output_type": "stream",
     "text": [
      "Epoch [4] Mean loss on train: 0.7890665307641029 Mean DICE on train: 0.7425190326556554 Learning Rate: 3.014287527193852e-05\n",
      "Start Validation ...\n"
     ]
    },
    {
     "data": {
      "application/vnd.jupyter.widget-view+json": {
       "model_id": "99b40c74f0d7498aa81964a095866a2f",
       "version_major": 2,
       "version_minor": 0
      },
      "text/plain": [
       "  0%|          | 0/1 [00:00<?, ?it/s]"
      ]
     },
     "metadata": {},
     "output_type": "display_data"
    },
    {
     "name": "stdout",
     "output_type": "stream",
     "text": [
      "Epoch:  4  Threshold:  0.5 Mean Validation DICE Score: 0.7771797686056933\n",
      "Start Train ...\n"
     ]
    },
    {
     "data": {
      "application/vnd.jupyter.widget-view+json": {
       "model_id": "8bef8b20a01c4cf388924bab6abd13e9",
       "version_major": 2,
       "version_minor": 0
      },
      "text/plain": [
       "  0%|          | 0/16 [00:00<?, ?it/s]"
      ]
     },
     "metadata": {},
     "output_type": "display_data"
    },
    {
     "name": "stdout",
     "output_type": "stream",
     "text": [
      "Epoch [5] Mean loss on train: 0.8144374825060368 Mean DICE on train: 0.7187668204321206 Learning Rate: 0.00010050000000000002\n",
      "Start Validation ...\n"
     ]
    },
    {
     "data": {
      "application/vnd.jupyter.widget-view+json": {
       "model_id": "2cd93cd47c4440ab85d0dd440de817f9",
       "version_major": 2,
       "version_minor": 0
      },
      "text/plain": [
       "  0%|          | 0/1 [00:00<?, ?it/s]"
      ]
     },
     "metadata": {},
     "output_type": "display_data"
    },
    {
     "name": "stdout",
     "output_type": "stream",
     "text": [
      "Epoch:  5  Threshold:  0.5 Mean Validation DICE Score: 0.7801184904102214\n",
      "Start Train ...\n"
     ]
    },
    {
     "data": {
      "application/vnd.jupyter.widget-view+json": {
       "model_id": "787bca54bba04ab3b52cd12623f50619",
       "version_major": 2,
       "version_minor": 0
      },
      "text/plain": [
       "  0%|          | 0/16 [00:00<?, ?it/s]"
      ]
     },
     "metadata": {},
     "output_type": "display_data"
    },
    {
     "name": "stdout",
     "output_type": "stream",
     "text": [
      "Epoch [6] Mean loss on train: 0.8208329901099205 Mean DICE on train: 0.705985923380821 Learning Rate: 0.00017085712472806155\n",
      "Start Validation ...\n"
     ]
    },
    {
     "data": {
      "application/vnd.jupyter.widget-view+json": {
       "model_id": "c55480b759434106b17b270f3bbffc14",
       "version_major": 2,
       "version_minor": 0
      },
      "text/plain": [
       "  0%|          | 0/1 [00:00<?, ?it/s]"
      ]
     },
     "metadata": {},
     "output_type": "display_data"
    },
    {
     "name": "stdout",
     "output_type": "stream",
     "text": [
      "Epoch:  6  Threshold:  0.5 Mean Validation DICE Score: 0.7863521719291384\n",
      "Start Train ...\n"
     ]
    },
    {
     "data": {
      "application/vnd.jupyter.widget-view+json": {
       "model_id": "d2da03c574364c82b300de6109210a6a",
       "version_major": 2,
       "version_minor": 0
      },
      "text/plain": [
       "  0%|          | 0/16 [00:00<?, ?it/s]"
      ]
     },
     "metadata": {},
     "output_type": "display_data"
    },
    {
     "name": "stdout",
     "output_type": "stream",
     "text": [
      "Epoch [7] Mean loss on train: 0.7283273562788963 Mean DICE on train: 0.7524050205027264 Learning Rate: 0.0002000000000000001\n",
      "Start Validation ...\n"
     ]
    },
    {
     "data": {
      "application/vnd.jupyter.widget-view+json": {
       "model_id": "9f5ff2be43d3477aa6e0083f65be2ed6",
       "version_major": 2,
       "version_minor": 0
      },
      "text/plain": [
       "  0%|          | 0/1 [00:00<?, ?it/s]"
      ]
     },
     "metadata": {},
     "output_type": "display_data"
    },
    {
     "name": "stdout",
     "output_type": "stream",
     "text": [
      "Epoch:  7  Threshold:  0.5 Mean Validation DICE Score: 0.7612090342470343\n",
      "Start Train ...\n"
     ]
    },
    {
     "data": {
      "application/vnd.jupyter.widget-view+json": {
       "model_id": "6f5b9912419547988e8d91888354cb6d",
       "version_major": 2,
       "version_minor": 0
      },
      "text/plain": [
       "  0%|          | 0/16 [00:00<?, ?it/s]"
      ]
     },
     "metadata": {},
     "output_type": "display_data"
    },
    {
     "name": "stdout",
     "output_type": "stream",
     "text": [
      "Epoch [8] Mean loss on train: 0.6663663685321808 Mean DICE on train: 0.7700146126676329 Learning Rate: 0.00017085712472806157\n",
      "Start Validation ...\n"
     ]
    },
    {
     "data": {
      "application/vnd.jupyter.widget-view+json": {
       "model_id": "abd9dda2dd084769ab33a9e902d9344c",
       "version_major": 2,
       "version_minor": 0
      },
      "text/plain": [
       "  0%|          | 0/1 [00:00<?, ?it/s]"
      ]
     },
     "metadata": {},
     "output_type": "display_data"
    },
    {
     "name": "stdout",
     "output_type": "stream",
     "text": [
      "Epoch:  8  Threshold:  0.5 Mean Validation DICE Score: 0.84518192212375\n",
      "Start Train ...\n"
     ]
    },
    {
     "data": {
      "application/vnd.jupyter.widget-view+json": {
       "model_id": "a688bccc681b4586b40a3fad6f2d33b5",
       "version_major": 2,
       "version_minor": 0
      },
      "text/plain": [
       "  0%|          | 0/16 [00:00<?, ?it/s]"
      ]
     },
     "metadata": {},
     "output_type": "display_data"
    },
    {
     "name": "stdout",
     "output_type": "stream",
     "text": [
      "Epoch [9] Mean loss on train: 0.6533088963478804 Mean DICE on train: 0.7611935710148587 Learning Rate: 0.00010050000000000007\n",
      "Start Validation ...\n"
     ]
    },
    {
     "data": {
      "application/vnd.jupyter.widget-view+json": {
       "model_id": "b96b1425ce1e49b181ab6e490828bce0",
       "version_major": 2,
       "version_minor": 0
      },
      "text/plain": [
       "  0%|          | 0/1 [00:00<?, ?it/s]"
      ]
     },
     "metadata": {},
     "output_type": "display_data"
    },
    {
     "name": "stdout",
     "output_type": "stream",
     "text": [
      "Epoch:  9  Threshold:  0.5 Mean Validation DICE Score: 0.8624767711714181\n",
      "Start Train ...\n"
     ]
    },
    {
     "data": {
      "application/vnd.jupyter.widget-view+json": {
       "model_id": "9c72a9d24ea14fef8bfd6a91f2bdf4b9",
       "version_major": 2,
       "version_minor": 0
      },
      "text/plain": [
       "  0%|          | 0/16 [00:00<?, ?it/s]"
      ]
     },
     "metadata": {},
     "output_type": "display_data"
    },
    {
     "name": "stdout",
     "output_type": "stream",
     "text": [
      "Epoch [10] Mean loss on train: 0.5704137235879898 Mean DICE on train: 0.7927352037688661 Learning Rate: 3.014287527193862e-05\n",
      "Start Validation ...\n"
     ]
    },
    {
     "data": {
      "application/vnd.jupyter.widget-view+json": {
       "model_id": "2a709bd23d5d45afbf3d99b039be5c16",
       "version_major": 2,
       "version_minor": 0
      },
      "text/plain": [
       "  0%|          | 0/1 [00:00<?, ?it/s]"
      ]
     },
     "metadata": {},
     "output_type": "display_data"
    },
    {
     "name": "stdout",
     "output_type": "stream",
     "text": [
      "Epoch:  10  Threshold:  0.5 Mean Validation DICE Score: 0.8644335260115606\n",
      "Start Train ...\n"
     ]
    },
    {
     "data": {
      "application/vnd.jupyter.widget-view+json": {
       "model_id": "c97089e0191b478faffc543e67c07035",
       "version_major": 2,
       "version_minor": 0
      },
      "text/plain": [
       "  0%|          | 0/16 [00:00<?, ?it/s]"
      ]
     },
     "metadata": {},
     "output_type": "display_data"
    },
    {
     "name": "stdout",
     "output_type": "stream",
     "text": [
      "Epoch [11] Mean loss on train: 0.5698880031704903 Mean DICE on train: 0.7990873227078489 Learning Rate: 1e-06\n",
      "Start Validation ...\n"
     ]
    },
    {
     "data": {
      "application/vnd.jupyter.widget-view+json": {
       "model_id": "5e8fde0fd4854df1bb06f2fd2ea65176",
       "version_major": 2,
       "version_minor": 0
      },
      "text/plain": [
       "  0%|          | 0/1 [00:00<?, ?it/s]"
      ]
     },
     "metadata": {},
     "output_type": "display_data"
    },
    {
     "name": "stdout",
     "output_type": "stream",
     "text": [
      "Epoch:  11  Threshold:  0.5 Mean Validation DICE Score: 0.8552181138564291\n",
      "Start Train ...\n"
     ]
    },
    {
     "data": {
      "application/vnd.jupyter.widget-view+json": {
       "model_id": "b0ec37701aa24c5f876bb2f0815c83d4",
       "version_major": 2,
       "version_minor": 0
      },
      "text/plain": [
       "  0%|          | 0/16 [00:00<?, ?it/s]"
      ]
     },
     "metadata": {},
     "output_type": "display_data"
    },
    {
     "name": "stdout",
     "output_type": "stream",
     "text": [
      "Epoch [12] Mean loss on train: 0.6020003650337458 Mean DICE on train: 0.7785352795542979 Learning Rate: 3.014287527193852e-05\n",
      "Start Validation ...\n"
     ]
    },
    {
     "data": {
      "application/vnd.jupyter.widget-view+json": {
       "model_id": "e6c7a7eb68c545d29f4896bd5c58b5b6",
       "version_major": 2,
       "version_minor": 0
      },
      "text/plain": [
       "  0%|          | 0/1 [00:00<?, ?it/s]"
      ]
     },
     "metadata": {},
     "output_type": "display_data"
    },
    {
     "name": "stdout",
     "output_type": "stream",
     "text": [
      "Epoch:  12  Threshold:  0.5 Mean Validation DICE Score: 0.8523112434575775\n",
      "Start Train ...\n"
     ]
    },
    {
     "data": {
      "application/vnd.jupyter.widget-view+json": {
       "model_id": "945e6e92b32a45eab99a76863efdd9fe",
       "version_major": 2,
       "version_minor": 0
      },
      "text/plain": [
       "  0%|          | 0/16 [00:00<?, ?it/s]"
      ]
     },
     "metadata": {},
     "output_type": "display_data"
    },
    {
     "name": "stdout",
     "output_type": "stream",
     "text": [
      "Epoch [13] Mean loss on train: 0.5186501536518335 Mean DICE on train: 0.8136396499236691 Learning Rate: 0.0001004999999999998\n",
      "Start Validation ...\n"
     ]
    },
    {
     "data": {
      "application/vnd.jupyter.widget-view+json": {
       "model_id": "0fa84bb0c833462da3e3b76212127bbf",
       "version_major": 2,
       "version_minor": 0
      },
      "text/plain": [
       "  0%|          | 0/1 [00:00<?, ?it/s]"
      ]
     },
     "metadata": {},
     "output_type": "display_data"
    },
    {
     "name": "stdout",
     "output_type": "stream",
     "text": [
      "Epoch:  13  Threshold:  0.5 Mean Validation DICE Score: 0.8645377153573212\n",
      "Start Train ...\n"
     ]
    },
    {
     "data": {
      "application/vnd.jupyter.widget-view+json": {
       "model_id": "ab8061b4f271410fb43117d9d3c4abbd",
       "version_major": 2,
       "version_minor": 0
      },
      "text/plain": [
       "  0%|          | 0/16 [00:00<?, ?it/s]"
      ]
     },
     "metadata": {},
     "output_type": "display_data"
    },
    {
     "name": "stdout",
     "output_type": "stream",
     "text": [
      "Epoch [14] Mean loss on train: 0.5207688044756651 Mean DICE on train: 0.8139574609142648 Learning Rate: 0.0001708571247280611\n",
      "Start Validation ...\n"
     ]
    },
    {
     "data": {
      "application/vnd.jupyter.widget-view+json": {
       "model_id": "c03f6b58fad841d4b7ad399eb8872b13",
       "version_major": 2,
       "version_minor": 0
      },
      "text/plain": [
       "  0%|          | 0/1 [00:00<?, ?it/s]"
      ]
     },
     "metadata": {},
     "output_type": "display_data"
    },
    {
     "name": "stdout",
     "output_type": "stream",
     "text": [
      "Epoch:  14  Threshold:  0.5 Mean Validation DICE Score: 0.8627514140333253\n",
      "Start Train ...\n"
     ]
    },
    {
     "data": {
      "application/vnd.jupyter.widget-view+json": {
       "model_id": "989d2973d412402681195b98fdb2ce06",
       "version_major": 2,
       "version_minor": 0
      },
      "text/plain": [
       "  0%|          | 0/16 [00:00<?, ?it/s]"
      ]
     },
     "metadata": {},
     "output_type": "display_data"
    },
    {
     "name": "stdout",
     "output_type": "stream",
     "text": [
      "Epoch [15] Mean loss on train: 0.5237710364162922 Mean DICE on train: 0.8143260494189403 Learning Rate: 0.00019999999999999968\n",
      "Start Validation ...\n"
     ]
    },
    {
     "data": {
      "application/vnd.jupyter.widget-view+json": {
       "model_id": "0c63b4adba6949daa41605aa2686ff4c",
       "version_major": 2,
       "version_minor": 0
      },
      "text/plain": [
       "  0%|          | 0/1 [00:00<?, ?it/s]"
      ]
     },
     "metadata": {},
     "output_type": "display_data"
    },
    {
     "name": "stdout",
     "output_type": "stream",
     "text": [
      "Epoch:  15  Threshold:  0.5 Mean Validation DICE Score: 0.86943623373337\n",
      "Start Train ...\n"
     ]
    },
    {
     "data": {
      "application/vnd.jupyter.widget-view+json": {
       "model_id": "fc996be8539a4ddf94dc2b58c9bb4343",
       "version_major": 2,
       "version_minor": 0
      },
      "text/plain": [
       "  0%|          | 0/16 [00:00<?, ?it/s]"
      ]
     },
     "metadata": {},
     "output_type": "display_data"
    },
    {
     "name": "stdout",
     "output_type": "stream",
     "text": [
      "Epoch [16] Mean loss on train: 0.5391942951828241 Mean DICE on train: 0.8091812005172214 Learning Rate: 0.0001708571247280612\n",
      "Start Validation ...\n"
     ]
    },
    {
     "data": {
      "application/vnd.jupyter.widget-view+json": {
       "model_id": "9d92ee1e828d4f0aa0291f49e740a8ce",
       "version_major": 2,
       "version_minor": 0
      },
      "text/plain": [
       "  0%|          | 0/1 [00:00<?, ?it/s]"
      ]
     },
     "metadata": {},
     "output_type": "display_data"
    },
    {
     "name": "stdout",
     "output_type": "stream",
     "text": [
      "Epoch:  16  Threshold:  0.5 Mean Validation DICE Score: 0.8612337652565203\n",
      "Start Train ...\n"
     ]
    },
    {
     "data": {
      "application/vnd.jupyter.widget-view+json": {
       "model_id": "da27637762f149bc9780bd48d472526e",
       "version_major": 2,
       "version_minor": 0
      },
      "text/plain": [
       "  0%|          | 0/16 [00:00<?, ?it/s]"
      ]
     },
     "metadata": {},
     "output_type": "display_data"
    },
    {
     "name": "stdout",
     "output_type": "stream",
     "text": [
      "Epoch [17] Mean loss on train: 0.5394517909735441 Mean DICE on train: 0.8038096852845034 Learning Rate: 0.0001004999999999999\n",
      "Start Validation ...\n"
     ]
    },
    {
     "data": {
      "application/vnd.jupyter.widget-view+json": {
       "model_id": "bb6adfe9b78543db9432dc0fa264ada4",
       "version_major": 2,
       "version_minor": 0
      },
      "text/plain": [
       "  0%|          | 0/1 [00:00<?, ?it/s]"
      ]
     },
     "metadata": {},
     "output_type": "display_data"
    },
    {
     "name": "stdout",
     "output_type": "stream",
     "text": [
      "Epoch:  17  Threshold:  0.5 Mean Validation DICE Score: 0.854546414517717\n",
      "Start Train ...\n"
     ]
    },
    {
     "data": {
      "application/vnd.jupyter.widget-view+json": {
       "model_id": "bfd982e7503f46839912886f2550c81f",
       "version_major": 2,
       "version_minor": 0
      },
      "text/plain": [
       "  0%|          | 0/16 [00:00<?, ?it/s]"
      ]
     },
     "metadata": {},
     "output_type": "display_data"
    },
    {
     "name": "stdout",
     "output_type": "stream",
     "text": [
      "Epoch [18] Mean loss on train: 0.5051568411290646 Mean DICE on train: 0.8222023241915835 Learning Rate: 3.0142875271938587e-05\n",
      "Start Validation ...\n"
     ]
    },
    {
     "data": {
      "application/vnd.jupyter.widget-view+json": {
       "model_id": "969b17d34ec04101a12e1537c0967a17",
       "version_major": 2,
       "version_minor": 0
      },
      "text/plain": [
       "  0%|          | 0/1 [00:00<?, ?it/s]"
      ]
     },
     "metadata": {},
     "output_type": "display_data"
    },
    {
     "name": "stdout",
     "output_type": "stream",
     "text": [
      "Epoch:  18  Threshold:  0.5 Mean Validation DICE Score: 0.8812999083649692\n",
      "Start Train ...\n"
     ]
    },
    {
     "data": {
      "application/vnd.jupyter.widget-view+json": {
       "model_id": "84133a2bdf9d4e518642c317e32093ca",
       "version_major": 2,
       "version_minor": 0
      },
      "text/plain": [
       "  0%|          | 0/16 [00:00<?, ?it/s]"
      ]
     },
     "metadata": {},
     "output_type": "display_data"
    },
    {
     "name": "stdout",
     "output_type": "stream",
     "text": [
      "Epoch [19] Mean loss on train: 0.4667902495712042 Mean DICE on train: 0.8377336872230318 Learning Rate: 1e-06\n",
      "Start Validation ...\n"
     ]
    },
    {
     "data": {
      "application/vnd.jupyter.widget-view+json": {
       "model_id": "16a425eb7e234a09b71b68bdf7bb3a11",
       "version_major": 2,
       "version_minor": 0
      },
      "text/plain": [
       "  0%|          | 0/1 [00:00<?, ?it/s]"
      ]
     },
     "metadata": {},
     "output_type": "display_data"
    },
    {
     "name": "stdout",
     "output_type": "stream",
     "text": [
      "Epoch:  19  Threshold:  0.5 Mean Validation DICE Score: 0.8788418076011836\n",
      "\n",
      "Next stage\n",
      "\n",
      "Loaded model: 91_25_best.pth\n",
      "Start Train ...\n"
     ]
    },
    {
     "data": {
      "application/vnd.jupyter.widget-view+json": {
       "model_id": "ca637830673645f1b4659c61cbdbc9af",
       "version_major": 2,
       "version_minor": 0
      },
      "text/plain": [
       "  0%|          | 0/16 [00:00<?, ?it/s]"
      ]
     },
     "metadata": {},
     "output_type": "display_data"
    },
    {
     "name": "stdout",
     "output_type": "stream",
     "text": [
      "Epoch [0] Mean loss on train: 0.3994599673897028 Mean DICE on train: 0.8640366583642113 Learning Rate: 1.0095000000000033e-05\n",
      "Start Validation ...\n"
     ]
    },
    {
     "data": {
      "application/vnd.jupyter.widget-view+json": {
       "model_id": "c05db5ee431849bc9af7951f116cab3a",
       "version_major": 2,
       "version_minor": 0
      },
      "text/plain": [
       "  0%|          | 0/1 [00:00<?, ?it/s]"
      ]
     },
     "metadata": {},
     "output_type": "display_data"
    },
    {
     "name": "stdout",
     "output_type": "stream",
     "text": [
      "Epoch:  0  Threshold:  0.5 Mean Validation DICE Score: 0.9078855681287181\n",
      "Start Train ...\n"
     ]
    },
    {
     "data": {
      "application/vnd.jupyter.widget-view+json": {
       "model_id": "8c9896c79b264c8fb094df3c2d0a1855",
       "version_major": 2,
       "version_minor": 0
      },
      "text/plain": [
       "  0%|          | 0/16 [00:00<?, ?it/s]"
      ]
     },
     "metadata": {},
     "output_type": "display_data"
    },
    {
     "name": "stdout",
     "output_type": "stream",
     "text": [
      "Epoch [1] Mean loss on train: 0.4117865674197674 Mean DICE on train: 0.8613866552856458 Learning Rate: 1.018999999999998e-05\n",
      "Start Validation ...\n"
     ]
    },
    {
     "data": {
      "application/vnd.jupyter.widget-view+json": {
       "model_id": "6169cefc281b4b17a63ca890f7ccc813",
       "version_major": 2,
       "version_minor": 0
      },
      "text/plain": [
       "  0%|          | 0/1 [00:00<?, ?it/s]"
      ]
     },
     "metadata": {},
     "output_type": "display_data"
    },
    {
     "name": "stdout",
     "output_type": "stream",
     "text": [
      "Epoch:  1  Threshold:  0.5 Mean Validation DICE Score: 0.9080968582893163\n",
      "Start Train ...\n"
     ]
    },
    {
     "data": {
      "application/vnd.jupyter.widget-view+json": {
       "model_id": "9b7ce3c7d8f54cdcb27ffd08fd91bd09",
       "version_major": 2,
       "version_minor": 0
      },
      "text/plain": [
       "  0%|          | 0/16 [00:00<?, ?it/s]"
      ]
     },
     "metadata": {},
     "output_type": "display_data"
    },
    {
     "name": "stdout",
     "output_type": "stream",
     "text": [
      "Epoch [2] Mean loss on train: 0.3916571605950594 Mean DICE on train: 0.864897111581459 Learning Rate: 1.028500000000001e-05\n",
      "Start Validation ...\n"
     ]
    },
    {
     "data": {
      "application/vnd.jupyter.widget-view+json": {
       "model_id": "c80ff1a7b7b944b383d40f1a8587c3b4",
       "version_major": 2,
       "version_minor": 0
      },
      "text/plain": [
       "  0%|          | 0/1 [00:00<?, ?it/s]"
      ]
     },
     "metadata": {},
     "output_type": "display_data"
    },
    {
     "name": "stdout",
     "output_type": "stream",
     "text": [
      "Epoch:  2  Threshold:  0.5 Mean Validation DICE Score: 0.9077558815297739\n",
      "Start Train ...\n"
     ]
    },
    {
     "data": {
      "application/vnd.jupyter.widget-view+json": {
       "model_id": "4fc5182195784c8b98aeed2400cfd8a5",
       "version_major": 2,
       "version_minor": 0
      },
      "text/plain": [
       "  0%|          | 0/16 [00:00<?, ?it/s]"
      ]
     },
     "metadata": {},
     "output_type": "display_data"
    },
    {
     "name": "stdout",
     "output_type": "stream",
     "text": [
      "Epoch [3] Mean loss on train: 0.3922948334366083 Mean DICE on train: 0.8607504437016923 Learning Rate: 1.0379999999999958e-05\n",
      "Start Validation ...\n"
     ]
    },
    {
     "data": {
      "application/vnd.jupyter.widget-view+json": {
       "model_id": "f62670493cad4a989066950a18f2cca5",
       "version_major": 2,
       "version_minor": 0
      },
      "text/plain": [
       "  0%|          | 0/1 [00:00<?, ?it/s]"
      ]
     },
     "metadata": {},
     "output_type": "display_data"
    },
    {
     "name": "stdout",
     "output_type": "stream",
     "text": [
      "Epoch:  3  Threshold:  0.5 Mean Validation DICE Score: 0.9100306150848873\n",
      "Start Train ...\n"
     ]
    },
    {
     "data": {
      "application/vnd.jupyter.widget-view+json": {
       "model_id": "303b0278e643424dbaedc0f020fbc3c8",
       "version_major": 2,
       "version_minor": 0
      },
      "text/plain": [
       "  0%|          | 0/16 [00:00<?, ?it/s]"
      ]
     },
     "metadata": {},
     "output_type": "display_data"
    },
    {
     "name": "stdout",
     "output_type": "stream",
     "text": [
      "Epoch [4] Mean loss on train: 0.41440912149846554 Mean DICE on train: 0.8589108601195521 Learning Rate: 1.047499999999999e-05\n",
      "Start Validation ...\n"
     ]
    },
    {
     "data": {
      "application/vnd.jupyter.widget-view+json": {
       "model_id": "4f58ddabdc014901945dc2acc89384d7",
       "version_major": 2,
       "version_minor": 0
      },
      "text/plain": [
       "  0%|          | 0/1 [00:00<?, ?it/s]"
      ]
     },
     "metadata": {},
     "output_type": "display_data"
    },
    {
     "name": "stdout",
     "output_type": "stream",
     "text": [
      "Epoch:  4  Threshold:  0.5 Mean Validation DICE Score: 0.8979007555086315\n",
      "Start Train ...\n"
     ]
    },
    {
     "data": {
      "application/vnd.jupyter.widget-view+json": {
       "model_id": "c9aa185b2f9c46daa626101b3622edd7",
       "version_major": 2,
       "version_minor": 0
      },
      "text/plain": [
       "  0%|          | 0/16 [00:00<?, ?it/s]"
      ]
     },
     "metadata": {},
     "output_type": "display_data"
    },
    {
     "name": "stdout",
     "output_type": "stream",
     "text": [
      "Epoch [5] Mean loss on train: 0.4089446496218443 Mean DICE on train: 0.8575258376353263 Learning Rate: 1.0570000000000022e-05\n",
      "Start Validation ...\n"
     ]
    },
    {
     "data": {
      "application/vnd.jupyter.widget-view+json": {
       "model_id": "5c99bada537047869fa89b8bc9928d03",
       "version_major": 2,
       "version_minor": 0
      },
      "text/plain": [
       "  0%|          | 0/1 [00:00<?, ?it/s]"
      ]
     },
     "metadata": {},
     "output_type": "display_data"
    },
    {
     "name": "stdout",
     "output_type": "stream",
     "text": [
      "Epoch:  5  Threshold:  0.5 Mean Validation DICE Score: 0.9123533045089561\n",
      "Start Train ...\n"
     ]
    },
    {
     "data": {
      "application/vnd.jupyter.widget-view+json": {
       "model_id": "0edcfce9d85e4f929a67abc2cc42a765",
       "version_major": 2,
       "version_minor": 0
      },
      "text/plain": [
       "  0%|          | 0/16 [00:00<?, ?it/s]"
      ]
     },
     "metadata": {},
     "output_type": "display_data"
    },
    {
     "name": "stdout",
     "output_type": "stream",
     "text": [
      "Epoch [6] Mean loss on train: 0.3962280675768852 Mean DICE on train: 0.8615100881037621 Learning Rate: 1.066499999999997e-05\n",
      "Start Validation ...\n"
     ]
    },
    {
     "data": {
      "application/vnd.jupyter.widget-view+json": {
       "model_id": "b97a5dc185bb429294b421049a7a0b03",
       "version_major": 2,
       "version_minor": 0
      },
      "text/plain": [
       "  0%|          | 0/1 [00:00<?, ?it/s]"
      ]
     },
     "metadata": {},
     "output_type": "display_data"
    },
    {
     "name": "stdout",
     "output_type": "stream",
     "text": [
      "Epoch:  6  Threshold:  0.5 Mean Validation DICE Score: 0.9063858296022745\n",
      "Start Train ...\n"
     ]
    },
    {
     "data": {
      "application/vnd.jupyter.widget-view+json": {
       "model_id": "6549b04f2e594eecb3894baf8540c9ee",
       "version_major": 2,
       "version_minor": 0
      },
      "text/plain": [
       "  0%|          | 0/16 [00:00<?, ?it/s]"
      ]
     },
     "metadata": {},
     "output_type": "display_data"
    },
    {
     "name": "stdout",
     "output_type": "stream",
     "text": [
      "Epoch [7] Mean loss on train: 0.38875364884734154 Mean DICE on train: 0.8619538327651792 Learning Rate: 1.0760000000000002e-05\n",
      "Start Validation ...\n"
     ]
    },
    {
     "data": {
      "application/vnd.jupyter.widget-view+json": {
       "model_id": "28b0106f8c4245e4b77e86b8c0bf5f15",
       "version_major": 2,
       "version_minor": 0
      },
      "text/plain": [
       "  0%|          | 0/1 [00:00<?, ?it/s]"
      ]
     },
     "metadata": {},
     "output_type": "display_data"
    },
    {
     "name": "stdout",
     "output_type": "stream",
     "text": [
      "Epoch:  7  Threshold:  0.5 Mean Validation DICE Score: 0.9186913788261725\n",
      "Start Train ...\n"
     ]
    },
    {
     "data": {
      "application/vnd.jupyter.widget-view+json": {
       "model_id": "7f4731aed18b41dc9c86f2253dce5067",
       "version_major": 2,
       "version_minor": 0
      },
      "text/plain": [
       "  0%|          | 0/16 [00:00<?, ?it/s]"
      ]
     },
     "metadata": {},
     "output_type": "display_data"
    },
    {
     "name": "stdout",
     "output_type": "stream",
     "text": [
      "Epoch [8] Mean loss on train: 0.3970256205648184 Mean DICE on train: 0.8594613923577417 Learning Rate: 1.0855000000000034e-05\n",
      "Start Validation ...\n"
     ]
    },
    {
     "data": {
      "application/vnd.jupyter.widget-view+json": {
       "model_id": "b7bca2f26c89491f8dc3d227f0e5735f",
       "version_major": 2,
       "version_minor": 0
      },
      "text/plain": [
       "  0%|          | 0/1 [00:00<?, ?it/s]"
      ]
     },
     "metadata": {},
     "output_type": "display_data"
    },
    {
     "name": "stdout",
     "output_type": "stream",
     "text": [
      "Epoch:  8  Threshold:  0.5 Mean Validation DICE Score: 0.9123466463564982\n",
      "Start Train ...\n"
     ]
    },
    {
     "data": {
      "application/vnd.jupyter.widget-view+json": {
       "model_id": "fd2f14a096024cdeba2c1b0cf0734ca1",
       "version_major": 2,
       "version_minor": 0
      },
      "text/plain": [
       "  0%|          | 0/16 [00:00<?, ?it/s]"
      ]
     },
     "metadata": {},
     "output_type": "display_data"
    },
    {
     "name": "stdout",
     "output_type": "stream",
     "text": [
      "Epoch [9] Mean loss on train: 0.41894908621907234 Mean DICE on train: 0.8521176842872857 Learning Rate: 1.094999999999998e-05\n",
      "Start Validation ...\n"
     ]
    },
    {
     "data": {
      "application/vnd.jupyter.widget-view+json": {
       "model_id": "384461d1ef7e44ed877eb67e5ac4fdbb",
       "version_major": 2,
       "version_minor": 0
      },
      "text/plain": [
       "  0%|          | 0/1 [00:00<?, ?it/s]"
      ]
     },
     "metadata": {},
     "output_type": "display_data"
    },
    {
     "name": "stdout",
     "output_type": "stream",
     "text": [
      "Epoch:  9  Threshold:  0.5 Mean Validation DICE Score: 0.9042791053149366\n",
      "Start Train ...\n"
     ]
    },
    {
     "data": {
      "application/vnd.jupyter.widget-view+json": {
       "model_id": "6c318b7f74024a098e622148a2cad3da",
       "version_major": 2,
       "version_minor": 0
      },
      "text/plain": [
       "  0%|          | 0/16 [00:00<?, ?it/s]"
      ]
     },
     "metadata": {},
     "output_type": "display_data"
    },
    {
     "name": "stdout",
     "output_type": "stream",
     "text": [
      "Epoch [10] Mean loss on train: 0.43038296699523926 Mean DICE on train: 0.8536125077775717 Learning Rate: 1.1045000000000012e-05\n",
      "Start Validation ...\n"
     ]
    },
    {
     "data": {
      "application/vnd.jupyter.widget-view+json": {
       "model_id": "84d9ad9e4c26477a94c6033745d3b924",
       "version_major": 2,
       "version_minor": 0
      },
      "text/plain": [
       "  0%|          | 0/1 [00:00<?, ?it/s]"
      ]
     },
     "metadata": {},
     "output_type": "display_data"
    },
    {
     "name": "stdout",
     "output_type": "stream",
     "text": [
      "Epoch:  10  Threshold:  0.5 Mean Validation DICE Score: 0.9026673579123656\n",
      "Start Train ...\n"
     ]
    },
    {
     "data": {
      "application/vnd.jupyter.widget-view+json": {
       "model_id": "fca80d8b4f63465bac3fd3d1dcd2e4e4",
       "version_major": 2,
       "version_minor": 0
      },
      "text/plain": [
       "  0%|          | 0/16 [00:00<?, ?it/s]"
      ]
     },
     "metadata": {},
     "output_type": "display_data"
    },
    {
     "name": "stdout",
     "output_type": "stream",
     "text": [
      "Epoch [11] Mean loss on train: 0.37195941619575024 Mean DICE on train: 0.8708070793914335 Learning Rate: 1.113999999999996e-05\n",
      "Start Validation ...\n"
     ]
    },
    {
     "data": {
      "application/vnd.jupyter.widget-view+json": {
       "model_id": "ab904762895641f9bfee3f8796d6981e",
       "version_major": 2,
       "version_minor": 0
      },
      "text/plain": [
       "  0%|          | 0/1 [00:00<?, ?it/s]"
      ]
     },
     "metadata": {},
     "output_type": "display_data"
    },
    {
     "name": "stdout",
     "output_type": "stream",
     "text": [
      "Epoch:  11  Threshold:  0.5 Mean Validation DICE Score: 0.9083451233288367\n",
      "Start Train ...\n"
     ]
    },
    {
     "data": {
      "application/vnd.jupyter.widget-view+json": {
       "model_id": "8438e5f50f3a433e8706ed0383c40eed",
       "version_major": 2,
       "version_minor": 0
      },
      "text/plain": [
       "  0%|          | 0/16 [00:00<?, ?it/s]"
      ]
     },
     "metadata": {},
     "output_type": "display_data"
    },
    {
     "name": "stdout",
     "output_type": "stream",
     "text": [
      "Epoch [12] Mean loss on train: 0.4209891241043806 Mean DICE on train: 0.856304443630467 Learning Rate: 1.1234999999999992e-05\n",
      "Start Validation ...\n"
     ]
    },
    {
     "data": {
      "application/vnd.jupyter.widget-view+json": {
       "model_id": "ed94db26317641fca8302d34651ae5d0",
       "version_major": 2,
       "version_minor": 0
      },
      "text/plain": [
       "  0%|          | 0/1 [00:00<?, ?it/s]"
      ]
     },
     "metadata": {},
     "output_type": "display_data"
    },
    {
     "name": "stdout",
     "output_type": "stream",
     "text": [
      "Epoch:  12  Threshold:  0.5 Mean Validation DICE Score: 0.9093346051376509\n",
      "Start Train ...\n"
     ]
    },
    {
     "data": {
      "application/vnd.jupyter.widget-view+json": {
       "model_id": "414a2e04d6ef4d4abd957d2eda60d0c2",
       "version_major": 2,
       "version_minor": 0
      },
      "text/plain": [
       "  0%|          | 0/16 [00:00<?, ?it/s]"
      ]
     },
     "metadata": {},
     "output_type": "display_data"
    },
    {
     "name": "stdout",
     "output_type": "stream",
     "text": [
      "Epoch [13] Mean loss on train: 0.4325765036046505 Mean DICE on train: 0.8529060072124998 Learning Rate: 1.1330000000000024e-05\n",
      "Start Validation ...\n"
     ]
    },
    {
     "data": {
      "application/vnd.jupyter.widget-view+json": {
       "model_id": "b99f1a3906cd477182b957fa88710867",
       "version_major": 2,
       "version_minor": 0
      },
      "text/plain": [
       "  0%|          | 0/1 [00:00<?, ?it/s]"
      ]
     },
     "metadata": {},
     "output_type": "display_data"
    },
    {
     "name": "stdout",
     "output_type": "stream",
     "text": [
      "Epoch:  13  Threshold:  0.5 Mean Validation DICE Score: 0.912084724457817\n",
      "Start Train ...\n"
     ]
    },
    {
     "data": {
      "application/vnd.jupyter.widget-view+json": {
       "model_id": "05988bf6dcad413b847268f26015b814",
       "version_major": 2,
       "version_minor": 0
      },
      "text/plain": [
       "  0%|          | 0/16 [00:00<?, ?it/s]"
      ]
     },
     "metadata": {},
     "output_type": "display_data"
    },
    {
     "name": "stdout",
     "output_type": "stream",
     "text": [
      "Epoch [14] Mean loss on train: 0.45143776200711727 Mean DICE on train: 0.8455468941623032 Learning Rate: 1.1424999999999971e-05\n",
      "Start Validation ...\n"
     ]
    },
    {
     "data": {
      "application/vnd.jupyter.widget-view+json": {
       "model_id": "e48c6ce296e4458abd75ad7351759ed2",
       "version_major": 2,
       "version_minor": 0
      },
      "text/plain": [
       "  0%|          | 0/1 [00:00<?, ?it/s]"
      ]
     },
     "metadata": {},
     "output_type": "display_data"
    },
    {
     "name": "stdout",
     "output_type": "stream",
     "text": [
      "Epoch:  14  Threshold:  0.5 Mean Validation DICE Score: 0.9126750452860452\n",
      "\n",
      "Next stage\n",
      "\n",
      "Loaded model: 91_25_best.pth\n",
      "Start Train ...\n"
     ]
    },
    {
     "data": {
      "application/vnd.jupyter.widget-view+json": {
       "model_id": "0c5b06a8622945309ccaf7617721f646",
       "version_major": 2,
       "version_minor": 0
      },
      "text/plain": [
       "  0%|          | 0/16 [00:00<?, ?it/s]"
      ]
     },
     "metadata": {},
     "output_type": "display_data"
    },
    {
     "name": "stdout",
     "output_type": "stream",
     "text": [
      "Epoch [0] Mean loss on train: 0.4856260959059 Mean DICE on train: 0.8299902781515973 Learning Rate: 4.2824116139070415e-05\n",
      "Start Validation ...\n"
     ]
    },
    {
     "data": {
      "application/vnd.jupyter.widget-view+json": {
       "model_id": "1e02518daa434311a6792cb9cde404f3",
       "version_major": 2,
       "version_minor": 0
      },
      "text/plain": [
       "  0%|          | 0/1 [00:00<?, ?it/s]"
      ]
     },
     "metadata": {},
     "output_type": "display_data"
    },
    {
     "name": "stdout",
     "output_type": "stream",
     "text": [
      "Epoch:  0  Threshold:  0.5 Mean Validation DICE Score: 0.9015750938637797\n",
      "Start Train ...\n"
     ]
    },
    {
     "data": {
      "application/vnd.jupyter.widget-view+json": {
       "model_id": "575da6330a20498ebe76f5ed4a4af58f",
       "version_major": 2,
       "version_minor": 0
      },
      "text/plain": [
       "  0%|          | 0/16 [00:00<?, ?it/s]"
      ]
     },
     "metadata": {},
     "output_type": "display_data"
    },
    {
     "name": "stdout",
     "output_type": "stream",
     "text": [
      "Epoch [1] Mean loss on train: 0.3946703001856804 Mean DICE on train: 0.8649341019658421 Learning Rate: 2.5500000000000003e-05\n",
      "Start Validation ...\n"
     ]
    },
    {
     "data": {
      "application/vnd.jupyter.widget-view+json": {
       "model_id": "36e9f7f295c94b9e8a44b9bc909925e2",
       "version_major": 2,
       "version_minor": 0
      },
      "text/plain": [
       "  0%|          | 0/1 [00:00<?, ?it/s]"
      ]
     },
     "metadata": {},
     "output_type": "display_data"
    },
    {
     "name": "stdout",
     "output_type": "stream",
     "text": [
      "Epoch:  1  Threshold:  0.5 Mean Validation DICE Score: 0.9056371266813146\n",
      "Start Train ...\n"
     ]
    },
    {
     "data": {
      "application/vnd.jupyter.widget-view+json": {
       "model_id": "aa2c0ea220b64da3904ca7dfd2be8da2",
       "version_major": 2,
       "version_minor": 0
      },
      "text/plain": [
       "  0%|          | 0/16 [00:00<?, ?it/s]"
      ]
     },
     "metadata": {},
     "output_type": "display_data"
    },
    {
     "name": "stdout",
     "output_type": "stream",
     "text": [
      "Epoch [2] Mean loss on train: 0.4102182984352112 Mean DICE on train: 0.85201884377398 Learning Rate: 8.175883860929588e-06\n",
      "Start Validation ...\n"
     ]
    },
    {
     "data": {
      "application/vnd.jupyter.widget-view+json": {
       "model_id": "1f7f4159cf3e41d29afea730663b65ea",
       "version_major": 2,
       "version_minor": 0
      },
      "text/plain": [
       "  0%|          | 0/1 [00:00<?, ?it/s]"
      ]
     },
     "metadata": {},
     "output_type": "display_data"
    },
    {
     "name": "stdout",
     "output_type": "stream",
     "text": [
      "Epoch:  2  Threshold:  0.5 Mean Validation DICE Score: 0.9104167589843577\n",
      "Start Train ...\n"
     ]
    },
    {
     "data": {
      "application/vnd.jupyter.widget-view+json": {
       "model_id": "a40207057eac4fefa186fddc6d74a87b",
       "version_major": 2,
       "version_minor": 0
      },
      "text/plain": [
       "  0%|          | 0/16 [00:00<?, ?it/s]"
      ]
     },
     "metadata": {},
     "output_type": "display_data"
    },
    {
     "name": "stdout",
     "output_type": "stream",
     "text": [
      "Epoch [3] Mean loss on train: 0.39869955368340015 Mean DICE on train: 0.8633892122467925 Learning Rate: 1e-06\n",
      "Start Validation ...\n"
     ]
    },
    {
     "data": {
      "application/vnd.jupyter.widget-view+json": {
       "model_id": "92952f1467c9450fab3ea559b2e88c0f",
       "version_major": 2,
       "version_minor": 0
      },
      "text/plain": [
       "  0%|          | 0/1 [00:00<?, ?it/s]"
      ]
     },
     "metadata": {},
     "output_type": "display_data"
    },
    {
     "name": "stdout",
     "output_type": "stream",
     "text": [
      "Epoch:  3  Threshold:  0.5 Mean Validation DICE Score: 0.9114973751249102\n",
      "Start Train ...\n"
     ]
    },
    {
     "data": {
      "application/vnd.jupyter.widget-view+json": {
       "model_id": "60fc3edafa984167a125b7e398e702ee",
       "version_major": 2,
       "version_minor": 0
      },
      "text/plain": [
       "  0%|          | 0/16 [00:00<?, ?it/s]"
      ]
     },
     "metadata": {},
     "output_type": "display_data"
    },
    {
     "name": "stdout",
     "output_type": "stream",
     "text": [
      "Epoch [4] Mean loss on train: 0.3965758830308914 Mean DICE on train: 0.8633692463197317 Learning Rate: 8.175883860929586e-06\n",
      "Start Validation ...\n"
     ]
    },
    {
     "data": {
      "application/vnd.jupyter.widget-view+json": {
       "model_id": "511439e1d3d44afeafaf5698cf6d97f4",
       "version_major": 2,
       "version_minor": 0
      },
      "text/plain": [
       "  0%|          | 0/1 [00:00<?, ?it/s]"
      ]
     },
     "metadata": {},
     "output_type": "display_data"
    },
    {
     "name": "stdout",
     "output_type": "stream",
     "text": [
      "Epoch:  4  Threshold:  0.5 Mean Validation DICE Score: 0.907172458663951\n",
      "Start Train ...\n"
     ]
    },
    {
     "data": {
      "application/vnd.jupyter.widget-view+json": {
       "model_id": "ca8bc5395ff4481185742de2c95a9477",
       "version_major": 2,
       "version_minor": 0
      },
      "text/plain": [
       "  0%|          | 0/16 [00:00<?, ?it/s]"
      ]
     },
     "metadata": {},
     "output_type": "display_data"
    },
    {
     "name": "stdout",
     "output_type": "stream",
     "text": [
      "Epoch [5] Mean loss on train: 0.3981112837791443 Mean DICE on train: 0.8583634005769816 Learning Rate: 2.550000000000001e-05\n",
      "Start Validation ...\n"
     ]
    },
    {
     "data": {
      "application/vnd.jupyter.widget-view+json": {
       "model_id": "7a97250bdc514e268278a511fa6fce13",
       "version_major": 2,
       "version_minor": 0
      },
      "text/plain": [
       "  0%|          | 0/1 [00:00<?, ?it/s]"
      ]
     },
     "metadata": {},
     "output_type": "display_data"
    },
    {
     "name": "stdout",
     "output_type": "stream",
     "text": [
      "Epoch:  5  Threshold:  0.5 Mean Validation DICE Score: 0.9144203640679068\n",
      "Start Train ...\n"
     ]
    },
    {
     "data": {
      "application/vnd.jupyter.widget-view+json": {
       "model_id": "519cf11d42a04c6aa472a7aa5f873c56",
       "version_major": 2,
       "version_minor": 0
      },
      "text/plain": [
       "  0%|          | 0/16 [00:00<?, ?it/s]"
      ]
     },
     "metadata": {},
     "output_type": "display_data"
    },
    {
     "name": "stdout",
     "output_type": "stream",
     "text": [
      "Epoch [6] Mean loss on train: 0.4072437584400177 Mean DICE on train: 0.857462462276743 Learning Rate: 4.2824116139070436e-05\n",
      "Start Validation ...\n"
     ]
    },
    {
     "data": {
      "application/vnd.jupyter.widget-view+json": {
       "model_id": "f4f64ac665ca4b75a8b438f005aa6f40",
       "version_major": 2,
       "version_minor": 0
      },
      "text/plain": [
       "  0%|          | 0/1 [00:00<?, ?it/s]"
      ]
     },
     "metadata": {},
     "output_type": "display_data"
    },
    {
     "name": "stdout",
     "output_type": "stream",
     "text": [
      "Epoch:  6  Threshold:  0.5 Mean Validation DICE Score: 0.9048240122426267\n",
      "Start Train ...\n"
     ]
    },
    {
     "data": {
      "application/vnd.jupyter.widget-view+json": {
       "model_id": "2f1e89787d1a4364806eba3dc68786f3",
       "version_major": 2,
       "version_minor": 0
      },
      "text/plain": [
       "  0%|          | 0/16 [00:00<?, ?it/s]"
      ]
     },
     "metadata": {},
     "output_type": "display_data"
    },
    {
     "name": "stdout",
     "output_type": "stream",
     "text": [
      "Epoch [7] Mean loss on train: 0.41629175655543804 Mean DICE on train: 0.8582018732458743 Learning Rate: 5.000000000000003e-05\n",
      "Start Validation ...\n"
     ]
    },
    {
     "data": {
      "application/vnd.jupyter.widget-view+json": {
       "model_id": "9426f48ac0d347e59996046d1f8ca46c",
       "version_major": 2,
       "version_minor": 0
      },
      "text/plain": [
       "  0%|          | 0/1 [00:00<?, ?it/s]"
      ]
     },
     "metadata": {},
     "output_type": "display_data"
    },
    {
     "name": "stdout",
     "output_type": "stream",
     "text": [
      "Epoch:  7  Threshold:  0.5 Mean Validation DICE Score: 0.9109333830508847\n",
      "Start Train ...\n"
     ]
    },
    {
     "data": {
      "application/vnd.jupyter.widget-view+json": {
       "model_id": "0543a3c48748403e95c0d0363e18eea4",
       "version_major": 2,
       "version_minor": 0
      },
      "text/plain": [
       "  0%|          | 0/16 [00:00<?, ?it/s]"
      ]
     },
     "metadata": {},
     "output_type": "display_data"
    },
    {
     "name": "stdout",
     "output_type": "stream",
     "text": [
      "Epoch [8] Mean loss on train: 0.4219701513648033 Mean DICE on train: 0.8578149727524668 Learning Rate: 4.282411613907044e-05\n",
      "Start Validation ...\n"
     ]
    },
    {
     "data": {
      "application/vnd.jupyter.widget-view+json": {
       "model_id": "a177ca0ded534e5b81f95926e1623be9",
       "version_major": 2,
       "version_minor": 0
      },
      "text/plain": [
       "  0%|          | 0/1 [00:00<?, ?it/s]"
      ]
     },
     "metadata": {},
     "output_type": "display_data"
    },
    {
     "name": "stdout",
     "output_type": "stream",
     "text": [
      "Epoch:  8  Threshold:  0.5 Mean Validation DICE Score: 0.8858702270638901\n",
      "Start Train ...\n"
     ]
    },
    {
     "data": {
      "application/vnd.jupyter.widget-view+json": {
       "model_id": "52021cd3d7574acb8c4409f34d9c75f0",
       "version_major": 2,
       "version_minor": 0
      },
      "text/plain": [
       "  0%|          | 0/16 [00:00<?, ?it/s]"
      ]
     },
     "metadata": {},
     "output_type": "display_data"
    },
    {
     "name": "stdout",
     "output_type": "stream",
     "text": [
      "Epoch [9] Mean loss on train: 0.4240384753793478 Mean DICE on train: 0.8524324502529398 Learning Rate: 2.5500000000000024e-05\n",
      "Start Validation ...\n"
     ]
    },
    {
     "data": {
      "application/vnd.jupyter.widget-view+json": {
       "model_id": "183edb9efdf045aca8f58fc9ceec8622",
       "version_major": 2,
       "version_minor": 0
      },
      "text/plain": [
       "  0%|          | 0/1 [00:00<?, ?it/s]"
      ]
     },
     "metadata": {},
     "output_type": "display_data"
    },
    {
     "name": "stdout",
     "output_type": "stream",
     "text": [
      "Epoch:  9  Threshold:  0.5 Mean Validation DICE Score: 0.9191983718695235\n",
      "\n",
      "Next stage\n",
      "\n",
      "Loaded model: 91_25_best.pth\n"
     ]
    }
   ],
   "source": [
    "DEVICE = 'cuda'\n",
    "weights_dir = \"weights\"\n",
    "if os.path.exists(weights_dir) == False:\n",
    "    os.mkdir(weights_dir)\n",
    "\n",
    "\n",
    "loss_history = []\n",
    "train_dice_history = []\n",
    "val_dice_history = []\n",
    "lr_history = []\n",
    "\n",
    "for k, (num_epochs, optimizer, lr_scheduler) in enumerate(zip(stage_epoch, stage_optimizer, stage_scheduler)):\n",
    "    for epoch in range(num_epochs):\n",
    "        \n",
    "        \n",
    "        loss, train_dice, lr = train_one_epoch(model, optimizer, lr_scheduler, \n",
    "                                               dice_coef_metric, train_dl, epoch)\n",
    "    \n",
    "        val_dice = val_epoch(model, dice_coef_metric, val_dl, epoch)\n",
    "        \n",
    "        \n",
    "        # train history\n",
    "        loss_history.append(loss)\n",
    "        train_dice_history.append(train_dice)\n",
    "        lr_history.append(lr)\n",
    "        val_dice_history.append(val_dice)\n",
    "\n",
    "        # save best weights\n",
    "        best_dice = max(val_dice_history)\n",
    "        if val_dice >= best_dice:\n",
    "            torch.save({'state_dict': model.state_dict()},\n",
    "                        os.path.join(weights_dir, f\"{val_dice:0.6f}_.pth\"))\n",
    "    \n",
    "    print(\"\\nNext stage\\n\")\n",
    "    # Load the best weights\n",
    "    best_weights =  sorted(glob.glob(weights_dir + \"/*\"),\n",
    "                       key= lambda x: x[8:-5])[-1]\n",
    "    checkpoint = torch.load(best_weights)\n",
    "    model.load_state_dict(checkpoint['state_dict'])\n",
    "\n",
    "    print(f'Loaded model: {best_weights.split(\"/\")[1]}')"
   ]
  },
  {
   "cell_type": "code",
   "execution_count": 48,
   "id": "f4796405",
   "metadata": {
    "ExecuteTime": {
     "end_time": "2021-11-12T12:04:39.484809Z",
     "start_time": "2021-11-12T12:04:39.466315Z"
    }
   },
   "outputs": [],
   "source": [
    "df_logs = pd.DataFrame(\n",
    "    {'loss': loss_history,\n",
    "     \"lr\" : lr_history,\n",
    "     'train_dice':train_dice_history,\n",
    "     'val_dice': val_dice_history\n",
    "    })\n",
    "df_logs.to_csv(\"train_logs.csv\", index=False)"
   ]
  },
  {
   "cell_type": "code",
   "execution_count": 56,
   "id": "4323f862",
   "metadata": {
    "ExecuteTime": {
     "end_time": "2021-11-12T12:07:33.022655Z",
     "start_time": "2021-11-12T12:07:32.762297Z"
    }
   },
   "outputs": [
    {
     "data": {
      "text/plain": [
       "<All keys matched successfully>"
      ]
     },
     "execution_count": 56,
     "metadata": {},
     "output_type": "execute_result"
    }
   ],
   "source": [
    "model.load_state_dict(state_dict=torch.load(\"/media/brats/DRIVE1/akansh/lung-seg/notebook/models/0.894498_.pth\")['state_dict'])"
   ]
  },
  {
   "cell_type": "code",
   "execution_count": 79,
   "id": "7f9a9739",
   "metadata": {
    "ExecuteTime": {
     "end_time": "2021-11-12T12:20:25.192225Z",
     "start_time": "2021-11-12T12:20:24.695532Z"
    }
   },
   "outputs": [],
   "source": [
    "model.eval()\n",
    "threshold = 0.5\n",
    "DEVICE = 'cuda'\n",
    "# Define the codec and create VideoWrite object\n",
    "with torch.no_grad():\n",
    "    for data_batch,_ in train_dl:\n",
    "\n",
    "        data_batch = data_batch.permute(0,3,1,2).to(DEVICE).float()\n",
    "\n",
    "        outputs = model(data_batch)\n",
    "\n",
    "\n",
    "        out_cut = np.copy(outputs.data.cpu().numpy())\n",
    "        out_cut[np.nonzero(out_cut < threshold)] = 0.0\n",
    "        out_cut[np.nonzero(out_cut >= threshold)] = 1.0\n",
    "        \n",
    "#         for image, mask in zip(data_batch.data.cpu().numpy(), out_cut):\n",
    "\n",
    "#             result = add_colored_mask(image.transpose(1, 2, 0), mask.transpose(1, 2, 0))\n",
    "            \n",
    "        break"
   ]
  },
  {
   "cell_type": "code",
   "execution_count": 76,
   "id": "5dc4de3f",
   "metadata": {
    "ExecuteTime": {
     "end_time": "2021-11-12T12:19:26.392762Z",
     "start_time": "2021-11-12T12:19:26.375108Z"
    }
   },
   "outputs": [
    {
     "data": {
      "image/png": "[encoded data removed]",
      "text/plain": [
       "<PIL.Image.Image image mode=RGB size=224x224 at 0x7FBD0498AFD0>"
      ]
     },
     "execution_count": 76,
     "metadata": {},
     "output_type": "execute_result"
    }
   ],
   "source": [
    "Image.fromarray(data_batch.data.cpu().numpy().astype(np.uint8)[1].transpose(1, 2, 0))"
   ]
  },
  {
   "cell_type": "code",
   "execution_count": 77,
   "id": "4f37dc03",
   "metadata": {
    "ExecuteTime": {
     "end_time": "2021-11-12T12:19:37.116417Z",
     "start_time": "2021-11-12T12:19:36.992586Z"
    }
   },
   "outputs": [
    {
     "data": {
      "text/plain": [
       "<matplotlib.image.AxesImage at 0x7fbcf9b829d0>"
      ]
     },
     "execution_count": 77,
     "metadata": {},
     "output_type": "execute_result"
    },
    {
     "data": {
      "image/png": "[encoded data removed]",
      "text/plain": [
       "<Figure size 432x288 with 1 Axes>"
      ]
     },
     "metadata": {
      "needs_background": "light"
     },
     "output_type": "display_data"
    }
   ],
   "source": [
    "plt.imshow(out_cut[1].transpose(1, 2, 0))"
   ]
  },
  {
   "cell_type": "code",
   "execution_count": 78,
   "id": "055bee90",
   "metadata": {
    "ExecuteTime": {
     "end_time": "2021-11-12T12:19:58.590467Z",
     "start_time": "2021-11-12T12:19:58.445889Z"
    }
   },
   "outputs": [
    {
     "data": {
      "text/plain": [
       "<matplotlib.image.AxesImage at 0x7fbcf9b2cf40>"
      ]
     },
     "execution_count": 78,
     "metadata": {},
     "output_type": "execute_result"
    },
    {
     "data": {
      "image/png": "[encoded data removed]",
      "text/plain": [
       "<Figure size 432x288 with 1 Axes>"
      ]
     },
     "metadata": {
      "needs_background": "light"
     },
     "output_type": "display_data"
    }
   ],
   "source": [
    "plt.imshow(_[1].numpy())"
   ]
  },
  {
   "cell_type": "code",
   "execution_count": 80,
   "id": "70a52a67",
   "metadata": {
    "ExecuteTime": {
     "end_time": "2021-11-12T12:20:35.031551Z",
     "start_time": "2021-11-12T12:20:35.016289Z"
    }
   },
   "outputs": [
    {
     "data": {
      "image/png": "[encoded data removed]",
      "text/plain": [
       "<PIL.Image.Image image mode=RGB size=224x224 at 0x7FBD0503AC70>"
      ]
     },
     "execution_count": 80,
     "metadata": {},
     "output_type": "execute_result"
    }
   ],
   "source": [
    "Image.fromarray(data_batch.data.cpu().numpy().astype(np.uint8)[1].transpose(1, 2, 0))"
   ]
  },
  {
   "cell_type": "code",
   "execution_count": 81,
   "id": "c9c8b54f",
   "metadata": {
    "ExecuteTime": {
     "end_time": "2021-11-12T12:20:44.868510Z",
     "start_time": "2021-11-12T12:20:44.744141Z"
    }
   },
   "outputs": [
    {
     "data": {
      "text/plain": [
       "<matplotlib.image.AxesImage at 0x7fbcf9a35a30>"
      ]
     },
     "execution_count": 81,
     "metadata": {},
     "output_type": "execute_result"
    },
    {
     "data": {
      "image/png": "[encoded data removed]",
      "text/plain": [
       "<Figure size 432x288 with 1 Axes>"
      ]
     },
     "metadata": {
      "needs_background": "light"
     },
     "output_type": "display_data"
    }
   ],
   "source": [
    "plt.imshow(out_cut[1].transpose(1, 2, 0))"
   ]
  },
  {
   "cell_type": "code",
   "execution_count": 82,
   "id": "2e24f1b9",
   "metadata": {
    "ExecuteTime": {
     "end_time": "2021-11-12T12:20:54.751882Z",
     "start_time": "2021-11-12T12:20:54.627400Z"
    }
   },
   "outputs": [
    {
     "data": {
      "text/plain": [
       "<matplotlib.image.AxesImage at 0x7fbcf819ff70>"
      ]
     },
     "execution_count": 82,
     "metadata": {},
     "output_type": "execute_result"
    },
    {
     "data": {
      "image/png": "[encoded data removed]",
      "text/plain": [
       "<Figure size 432x288 with 1 Axes>"
      ]
     },
     "metadata": {
      "needs_background": "light"
     },
     "output_type": "display_data"
    }
   ],
   "source": [
    "plt.imshow(_[1].numpy())"
   ]
  },
  {
   "cell_type": "code",
   "execution_count": null,
   "id": "39c8f700",
   "metadata": {},
   "outputs": [],
   "source": []
  }
 ],
 "metadata": {
  "kernelspec": {
   "display_name": "Python 3",
   "language": "python",
   "name": "python3"
  },
  "language_info": {
   "codemirror_mode": {
    "name": "ipython",
    "version": 3
   },
   "file_extension": ".py",
   "mimetype": "text/x-python",
   "name": "python",
   "nbconvert_exporter": "python",
   "pygments_lexer": "ipython3",
   "version": "3.8.12"
  },
  "toc": {
   "base_numbering": 1,
   "nav_menu": {},
   "number_sections": true,
   "sideBar": true,
   "skip_h1_title": false,
   "title_cell": "Table of Contents",
   "title_sidebar": "Contents",
   "toc_cell": false,
   "toc_position": {},
   "toc_section_display": true,
   "toc_window_display": false
  },
  "varInspector": {
   "cols": {
    "lenName": 16,
    "lenType": 16,
    "lenVar": 40
   },
   "kernels_config": {
    "python": {
     "delete_cmd_postfix": "",
     "delete_cmd_prefix": "del ",
     "library": "var_list.py",
     "varRefreshCmd": "print(var_dic_list())"
    },
    "r": {
     "delete_cmd_postfix": ") ",
     "delete_cmd_prefix": "rm(",
     "library": "var_list.r",
     "varRefreshCmd": "cat(var_dic_list()) "
    }
   },
   "types_to_exclude": [
    "module",
    "function",
    "builtin_function_or_method",
    "instance",
    "_Feature"
   ],
   "window_display": false
  }
 },
 "nbformat": 4,
 "nbformat_minor": 5
}
