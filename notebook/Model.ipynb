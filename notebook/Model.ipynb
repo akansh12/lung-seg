{
 "cells": [
  {
   "cell_type": "code",
   "execution_count": 1,
   "id": "014c5e76",
   "metadata": {
    "ExecuteTime": {
     "end_time": "2021-11-13T06:10:23.532800Z",
     "start_time": "2021-11-13T06:10:22.067636Z"
    }
   },
   "outputs": [],
   "source": [
    "import torch\n",
    "from PIL import Image\n",
    "import matplotlib.pyplot as plt\n",
    "from tqdm.auto import tqdm\n",
    "import numpy as np\n",
    "import pandas as pd\n",
    "import glob\n",
    "import re\n",
    "import os\n",
    "import cv2\n",
    "import torch\n",
    "import torch.nn as nn\n",
    "from torch.utils.data import Dataset, DataLoader\n",
    "import torchvision\n",
    "import albumentations as A"
   ]
  },
  {
   "cell_type": "code",
   "execution_count": 2,
   "id": "6495ccd5",
   "metadata": {
    "ExecuteTime": {
     "end_time": "2021-11-13T06:10:23.540563Z",
     "start_time": "2021-11-13T06:10:23.538598Z"
    }
   },
   "outputs": [],
   "source": [
    "from torchvision import transforms\n",
    "import torchvision.datasets as datasets"
   ]
  },
  {
   "cell_type": "code",
   "execution_count": 3,
   "id": "0a427398",
   "metadata": {
    "ExecuteTime": {
     "end_time": "2021-11-13T06:10:23.568512Z",
     "start_time": "2021-11-13T06:10:23.545964Z"
    }
   },
   "outputs": [],
   "source": [
    "import warnings\n",
    "warnings.filterwarnings('ignore')"
   ]
  },
  {
   "cell_type": "code",
   "execution_count": 4,
   "id": "d3169ab2",
   "metadata": {
    "ExecuteTime": {
     "end_time": "2021-11-13T06:10:23.587556Z",
     "start_time": "2021-11-13T06:10:23.574038Z"
    }
   },
   "outputs": [],
   "source": [
    "path2img = \"/media/brats/DRIVE1/akansh/lung-seg/data/images/\"\n",
    "path2mask = \"/media/brats/DRIVE1/akansh/lung-seg/data/masks/\""
   ]
  },
  {
   "cell_type": "code",
   "execution_count": 130,
   "id": "0ee2a2a9",
   "metadata": {
    "ExecuteTime": {
     "end_time": "2021-11-13T06:41:45.983658Z",
     "start_time": "2021-11-13T06:41:45.966855Z"
    }
   },
   "outputs": [],
   "source": [
    "class LungDataset(Dataset):\n",
    "    \n",
    "    def __init__(self, img_dir, mask_dir, transform = None):\n",
    "        \n",
    "        self.img_dir = [os.path.join(img_dir,i) for i in os.listdir(img_dir) if i.endswith('png')]\n",
    "        self.img_dir.sort()\n",
    "        self.mask_dir = None\n",
    "        if mask_dir is not None:\n",
    "            self.mask_dir = [os.path.join(mask_dir,i) for i in os.listdir(mask_dir) if i.endswith('png')]\n",
    "            self.mask_dir.sort()\n",
    "        self.transforms = transform\n",
    "        self.norm_transform = A.Normalize()\n",
    "\n",
    "    def __len__(self):\n",
    "        return len(self.img_dir)\n",
    "    \n",
    "    def __getitem__(self,idx):\n",
    "        img = cv2.imread(self.img_dir[idx])\n",
    "        img = cv2.cvtColor(img, cv2.COLOR_BGR2RGB)\n",
    "        ###Normalize\n",
    "#         img = self.norm_transform(img)\n",
    "\n",
    "        if self.mask_dir is not None:\n",
    "            mask = cv2.imread(self.mask_dir[idx])[:, :, 0]\n",
    "            mask = np.clip(mask, 0, 1).astype(\"float32\")\n",
    "            augmented = self.transforms(image=img, mask=mask)\n",
    "            img = augmented['image']\n",
    "            mask = augmented['mask']\n",
    "            img = self.norm_transform(image=img)[\"image\"]\n",
    "            return  torch.tensor(img), torch.FloatTensor(mask)\n",
    "        \n",
    "        else:\n",
    "            augmented = self.transforms(image=img)\n",
    "            img = augmented['image']\n",
    "            im = self.post_transforms(img)\n",
    "            return torch.tensor(img)  "
   ]
  },
  {
   "cell_type": "code",
   "execution_count": 131,
   "id": "ac3c36be",
   "metadata": {
    "ExecuteTime": {
     "end_time": "2021-11-13T06:41:51.251681Z",
     "start_time": "2021-11-13T06:41:51.248359Z"
    },
    "code_folding": [
     0,
     13
    ]
   },
   "outputs": [],
   "source": [
    "# def get_mean_std(loader):\n",
    "#     channels_sum, channels_squared_sum, num_batches = 0,0,0\n",
    "    \n",
    "#     for data,_ in tqdm(loader):\n",
    "#         channels_sum += torch.mean(data, dim = [0,2,3])\n",
    "#         channels_squared_sum += torch.mean(data**2, dim = [0,2,3])\n",
    "#         num_batches += 1\n",
    "        \n",
    "#     mean = channels_sum/num_batches\n",
    "#     std = (channels_squared_sum/num_batches - mean**2)**0.5\n",
    "    \n",
    "#     return mean, std\n",
    "\n",
    "# class LungDataset(Dataset):\n",
    "    \n",
    "#     def __init__(self, img_dir, mask_dir, transforms = None):\n",
    "        \n",
    "#         self.img_dir = [os.path.join(img_dir,i) for i in os.listdir(img_dir) if i.endswith('png')]\n",
    "#         self.img_dir.sort()\n",
    "#         self.mask_dir = None\n",
    "#         if mask_dir is not None:\n",
    "#             self.mask_dir = [os.path.join(mask_dir,i) for i in os.listdir(mask_dir) if i.endswith('png')]\n",
    "#             self.mask_dir.sort()\n",
    "#         self.transforms = transforms        \n",
    "#     def __len__(self):\n",
    "#         return len(self.img_dir)\n",
    "    \n",
    "#     def __getitem__(self,idx):\n",
    "#         img = cv2.imread(self.img_dir[idx], cv2.IMREAD_GRAYSCALE)\n",
    "#         if self.mask_dir is not None:\n",
    "#             mask = cv2.imread(self.mask_dir[idx], cv2.IMREAD_GRAYSCALE)\n",
    "#             mask = np.clip(mask, 0, 1).astype(\"float32\")\n",
    "#             augmented = self.transforms(image=img, mask=mask)\n",
    "#             img = augmented['image']\n",
    "#             mask = augmented['mask']\n",
    "#             return torch.tensor(img), torch.FloatTensor(mask)\n",
    "        \n",
    "#         else:\n",
    "# #             augmented = self.transforms(image=img)\n",
    "# #             img = augmented['image']\n",
    "#             return self.transforms(img), 0  \n",
    "# trainset = LungDataset(img_dir = path2img, mask_dir = None, transforms = transforms.ToTensor())\n",
    "\n",
    "\n",
    "# train_loader = DataLoader(dataset = trainset, batch_size = 64, shuffle = True)\n",
    "\n",
    "# mean, std = get_mean_std(train_loader)\n",
    "# print(f\"Mean: {mean}, STD: {std}\")"
   ]
  },
  {
   "cell_type": "code",
   "execution_count": 132,
   "id": "4d04aa5e",
   "metadata": {
    "ExecuteTime": {
     "end_time": "2021-11-13T06:41:56.472770Z",
     "start_time": "2021-11-13T06:41:56.467624Z"
    }
   },
   "outputs": [],
   "source": [
    "train_transforms = A.Compose([\n",
    "    A.HorizontalFlip(p=0.3),\n",
    "    A.VerticalFlip(p = 0.2),\n",
    "    A.RandomRotate90(p=0.1),\n",
    "    A.Rotate((-30,30), p = 0.5),\n",
    "    A.ElasticTransform(p=0.5, alpha=1, sigma=50, alpha_affine=10),\n",
    "    A.ShiftScaleRotate(shift_limit=0.0625, scale_limit=0.1, rotate_limit=15, p=0.3),\n",
    "    A.GridDistortion(p=0.5),\n",
    "    A.OpticalDistortion(distort_limit=0.8, shift_limit=0.6, p=0.5),\n",
    "    A.RandomSizedCrop(min_max_height=(150, 200), height=224, width=224, p=0.5),\n",
    "    A.CLAHE(p=0.5),\n",
    "    A.RandomBrightnessContrast(p=0.5),\n",
    "    A.RandomGamma(p = 0.5),\n",
    "    A.GaussianBlur(p = 0.5),\n",
    "    A.GaussNoise(p = 0.5), \n",
    "    \n",
    "        ])\n",
    "\n",
    "\n",
    "test_transforms = A.Compose([\n",
    "    A.Rotate(0, p = 1)\n",
    "        ])"
   ]
  },
  {
   "cell_type": "code",
   "execution_count": 133,
   "id": "afa62bdd",
   "metadata": {
    "ExecuteTime": {
     "end_time": "2021-11-13T06:42:01.683505Z",
     "start_time": "2021-11-13T06:42:01.679963Z"
    }
   },
   "outputs": [],
   "source": [
    "lung_data_1 = LungDataset(img_dir = path2img, mask_dir = path2mask, transform = train_transforms)\n",
    "lung_data_2 = LungDataset(img_dir = path2img, mask_dir = path2mask, transform = test_transforms)"
   ]
  },
  {
   "cell_type": "code",
   "execution_count": 134,
   "id": "8685aeee",
   "metadata": {
    "ExecuteTime": {
     "end_time": "2021-11-13T06:42:06.883037Z",
     "start_time": "2021-11-13T06:42:06.868696Z"
    }
   },
   "outputs": [
    {
     "name": "stdout",
     "output_type": "stream",
     "text": [
      "torch.Size([224, 224, 3])\n",
      "tensor([[0., 0., 0.,  ..., 0., 0., 0.],\n",
      "        [0., 0., 0.,  ..., 0., 0., 0.],\n",
      "        [0., 0., 0.,  ..., 0., 0., 0.],\n",
      "        ...,\n",
      "        [0., 0., 0.,  ..., 0., 0., 0.],\n",
      "        [0., 0., 0.,  ..., 0., 0., 0.],\n",
      "        [0., 0., 0.,  ..., 0., 0., 0.]])\n"
     ]
    }
   ],
   "source": [
    "for x, y in lung_data_1:\n",
    "    print(x.shape)\n",
    "    print(y)\n",
    "    break"
   ]
  },
  {
   "cell_type": "code",
   "execution_count": 140,
   "id": "1304ba11",
   "metadata": {
    "ExecuteTime": {
     "end_time": "2021-11-13T06:43:06.085251Z",
     "start_time": "2021-11-13T06:43:05.924510Z"
    }
   },
   "outputs": [
    {
     "name": "stderr",
     "output_type": "stream",
     "text": [
      "Clipping input data to the valid range for imshow with RGB data ([0..1] for floats or [0..255] for integers).\n"
     ]
    },
    {
     "data": {
      "text/plain": [
       "<matplotlib.image.AxesImage at 0x7fbca2ca6340>"
      ]
     },
     "execution_count": 140,
     "metadata": {},
     "output_type": "execute_result"
    },
    {
     "data": {
      "image/png": "[encoded data removed]",
      "text/plain": [
       "<Figure size 432x288 with 1 Axes>"
      ]
     },
     "metadata": {
      "needs_background": "light"
     },
     "output_type": "display_data"
    }
   ],
   "source": [
    "plt.imshow(x.numpy())"
   ]
  },
  {
   "cell_type": "code",
   "execution_count": 135,
   "id": "a6ca5332",
   "metadata": {
    "ExecuteTime": {
     "end_time": "2021-11-13T06:42:12.213061Z",
     "start_time": "2021-11-13T06:42:12.209125Z"
    }
   },
   "outputs": [
    {
     "data": {
      "image/png": "[encoded data removed]",
      "text/plain": [
       "<PIL.Image.Image image mode=1 size=224x224 at 0x7FBCE854B670>"
      ]
     },
     "execution_count": 135,
     "metadata": {},
     "output_type": "execute_result"
    }
   ],
   "source": [
    "Image.fromarray(y.numpy().astype('bool'))"
   ]
  },
  {
   "cell_type": "code",
   "execution_count": 141,
   "id": "d2d92299",
   "metadata": {
    "ExecuteTime": {
     "end_time": "2021-11-13T06:43:21.367838Z",
     "start_time": "2021-11-13T06:43:21.359560Z"
    }
   },
   "outputs": [
    {
     "data": {
      "text/plain": [
       "138"
      ]
     },
     "execution_count": 141,
     "metadata": {},
     "output_type": "execute_result"
    }
   ],
   "source": [
    "len(lung_data_1)"
   ]
  },
  {
   "cell_type": "markdown",
   "id": "0cd1cc8d",
   "metadata": {},
   "source": [
    "### Spliting the dataset"
   ]
  },
  {
   "cell_type": "code",
   "execution_count": 142,
   "id": "9e4edf62",
   "metadata": {
    "ExecuteTime": {
     "end_time": "2021-11-13T06:43:26.690821Z",
     "start_time": "2021-11-13T06:43:26.688673Z"
    }
   },
   "outputs": [],
   "source": [
    "from sklearn.model_selection import ShuffleSplit"
   ]
  },
  {
   "cell_type": "code",
   "execution_count": 143,
   "id": "9ed9b2b5",
   "metadata": {
    "ExecuteTime": {
     "end_time": "2021-11-13T06:43:31.984056Z",
     "start_time": "2021-11-13T06:43:31.981764Z"
    }
   },
   "outputs": [],
   "source": [
    "sss = ShuffleSplit(n_splits=1, test_size=0.1, random_state=0)"
   ]
  },
  {
   "cell_type": "code",
   "execution_count": 144,
   "id": "68c1c2ef",
   "metadata": {
    "ExecuteTime": {
     "end_time": "2021-11-13T06:43:37.267943Z",
     "start_time": "2021-11-13T06:43:37.264124Z"
    }
   },
   "outputs": [
    {
     "name": "stdout",
     "output_type": "stream",
     "text": [
      "124\n",
      "----------\n",
      "14\n"
     ]
    }
   ],
   "source": [
    "indices=range(len(lung_data_1))\n",
    "for train_index, val_index in sss.split(indices):\n",
    "    print(len(train_index))\n",
    "    print(\"-\"*10)\n",
    "    print(len(val_index))"
   ]
  },
  {
   "cell_type": "code",
   "execution_count": 145,
   "id": "c0291ddf",
   "metadata": {
    "ExecuteTime": {
     "end_time": "2021-11-13T06:43:42.572905Z",
     "start_time": "2021-11-13T06:43:42.569147Z"
    }
   },
   "outputs": [
    {
     "name": "stdout",
     "output_type": "stream",
     "text": [
      "124\n",
      "----------\n",
      "14\n"
     ]
    }
   ],
   "source": [
    "from torch.utils.data import Subset\n",
    "train_ds=Subset(lung_data_1,train_index)\n",
    "print(len(train_ds))\n",
    "print(\"-\"*10)\n",
    "\n",
    "val_ds=Subset(lung_data_2,val_index)\n",
    "print(len(val_ds))"
   ]
  },
  {
   "cell_type": "code",
   "execution_count": 146,
   "id": "e5333594",
   "metadata": {
    "ExecuteTime": {
     "end_time": "2021-11-13T06:43:47.866011Z",
     "start_time": "2021-11-13T06:43:47.862678Z"
    }
   },
   "outputs": [],
   "source": [
    "from torch.utils.data import DataLoader\n",
    "train_dl = DataLoader(train_ds, batch_size=8, shuffle=True)\n",
    "val_dl = DataLoader(val_ds, batch_size=16, shuffle=False)"
   ]
  },
  {
   "cell_type": "code",
   "execution_count": 147,
   "id": "d98925b2",
   "metadata": {
    "ExecuteTime": {
     "end_time": "2021-11-13T06:43:53.712821Z",
     "start_time": "2021-11-13T06:43:53.125973Z"
    }
   },
   "outputs": [
    {
     "name": "stdout",
     "output_type": "stream",
     "text": [
      "torch.Size([8, 224, 224, 3]) torch.float32\n",
      "torch.Size([8, 224, 224]) torch.float32\n"
     ]
    }
   ],
   "source": [
    "for img_b, mask_b in train_dl:\n",
    "    print(img_b.shape,img_b.dtype)\n",
    "    print(mask_b.shape, mask_b.dtype)\n",
    "    break"
   ]
  },
  {
   "cell_type": "code",
   "execution_count": null,
   "id": "046ddcc7",
   "metadata": {},
   "outputs": [],
   "source": []
  },
  {
   "cell_type": "markdown",
   "id": "fe7a4e15",
   "metadata": {},
   "source": [
    "### Model"
   ]
  },
  {
   "cell_type": "code",
   "execution_count": 148,
   "id": "038f366b",
   "metadata": {
    "ExecuteTime": {
     "end_time": "2021-11-13T06:43:59.035639Z",
     "start_time": "2021-11-13T06:43:59.022858Z"
    }
   },
   "outputs": [],
   "source": [
    "def convrelu(in_channels, out_channels, kernel, padding):\n",
    "    return nn.Sequential(\n",
    "        nn.Conv2d(in_channels, out_channels, kernel, padding=padding),\n",
    "        nn.ReLU(inplace=True),\n",
    "    )\n",
    "\n",
    "class ResNetUNet(nn.Module):\n",
    "\n",
    "    def __init__(self, n_classes=1):\n",
    "        super().__init__()\n",
    "        \n",
    "        self.base_model = torchvision.models.resnet50(pretrained=False)\n",
    "        \n",
    "        self.base_layers = list(self.base_model.children())                \n",
    "        \n",
    "        self.layer0 = nn.Sequential(*self.base_layers[:3])\n",
    "        self.layer0_1x1 = convrelu(64, 64, 1, 0)\n",
    "        self.layer1 = nn.Sequential(*self.base_layers[3:5])        \n",
    "        self.layer1_1x1 = convrelu(256, 256, 1, 0)       \n",
    "        self.layer2 = self.base_layers[5]         \n",
    "        self.layer2_1x1 = convrelu(512, 512, 1, 0)  \n",
    "        self.layer3 = self.base_layers[6]         \n",
    "        self.layer3_1x1 = convrelu(1024, 1024, 1, 0)  \n",
    "        self.layer4 = self.base_layers[7] \n",
    "        self.layer4_1x1 = convrelu(2048, 2048, 1, 0)  \n",
    "        \n",
    "        self.upsample = nn.Upsample(scale_factor=2, mode='bilinear', align_corners=True)\n",
    "        \n",
    "        self.conv_up3 = convrelu(1024 + 2048, 1024, 3, 1)\n",
    "        self.conv_up2 = convrelu(512 + 1024, 512, 3, 1)\n",
    "        self.conv_up1 = convrelu(256 + 512, 256, 3, 1)\n",
    "        self.conv_up0 = convrelu(64 + 256, 64, 3, 1)\n",
    "        \n",
    "        self.conv_original_size0 = convrelu(3, 64, 3, 1)\n",
    "        self.conv_original_size1 = convrelu(64, 64, 3, 1)\n",
    "        self.conv_original_size2 = convrelu(128, 64, 3, 1)\n",
    "        \n",
    "        self.conv_last = nn.Conv2d(64, n_classes, 1)\n",
    "        \n",
    "    def forward(self, input):\n",
    "        x_original = self.conv_original_size0(input)\n",
    "        x_original = self.conv_original_size1(x_original)\n",
    "        \n",
    "        layer0 = self.layer0(input)\n",
    "        layer1 = self.layer1(layer0)\n",
    "        layer2 = self.layer2(layer1)\n",
    "        layer3 = self.layer3(layer2) \n",
    "        layer4 = self.layer4(layer3)\n",
    "        \n",
    "        layer4 = self.layer4_1x1(layer4)\n",
    "        x = self.upsample(layer4)\n",
    "        layer3 = self.layer3_1x1(layer3)\n",
    "        x = torch.cat([x, layer3], dim=1)\n",
    "        x = self.conv_up3(x)\n",
    "        x = self.upsample(x)\n",
    "        layer2 = self.layer2_1x1(layer2)\n",
    "        x = torch.cat([x, layer2], dim=1)\n",
    "        x = self.conv_up2(x)\n",
    "        x = self.upsample(x)\n",
    "        layer1 = self.layer1_1x1(layer1)\n",
    "        x = torch.cat([x, layer1], dim=1)\n",
    "        x = self.conv_up1(x)\n",
    "        x = self.upsample(x)\n",
    "        layer0 = self.layer0_1x1(layer0)\n",
    "        x = torch.cat([x, layer0], dim=1)\n",
    "        x = self.conv_up0(x)\n",
    "        x = self.upsample(x)\n",
    "        x = torch.cat([x, x_original], dim=1)\n",
    "        x = self.conv_original_size2(x)\n",
    "        \n",
    "        out = torch.sigmoid(self.conv_last(x))  \n",
    "\n",
    "        return out"
   ]
  },
  {
   "cell_type": "code",
   "execution_count": 149,
   "id": "68d9aafa",
   "metadata": {
    "ExecuteTime": {
     "end_time": "2021-11-13T06:44:05.365450Z",
     "start_time": "2021-11-13T06:44:04.317941Z"
    }
   },
   "outputs": [],
   "source": [
    "model = ResNetUNet().to('cuda');"
   ]
  },
  {
   "cell_type": "code",
   "execution_count": 150,
   "id": "2a88c0d2",
   "metadata": {
    "ExecuteTime": {
     "end_time": "2021-11-13T06:44:10.693953Z",
     "start_time": "2021-11-13T06:44:10.688292Z"
    }
   },
   "outputs": [],
   "source": [
    "def jaccard_coef_metric(inputs, target, eps=1e-7):\n",
    "    intersection = (target * inputs).sum()\n",
    "    union = (target.sum() + inputs.sum()) - intersection + eps\n",
    "\n",
    "    if target.sum() == 0 and inputs.sum() == 0:\n",
    "        return 1.0\n",
    "\n",
    "    return (intersection + eps) / union\n",
    "\n",
    "def dice_coef_metric(inputs, target):\n",
    "    intersection = 2.0 * (target * inputs).sum()\n",
    "    union = target.sum() + inputs.sum()\n",
    "    if target.sum() == 0 and inputs.sum() == 0:\n",
    "        return 1.0\n",
    "\n",
    "    return intersection / union\n",
    "\n",
    "## Loss\n",
    "\n",
    "def dice_coef_loss(inputs, target):\n",
    "    smooth = 1.0\n",
    "    intersection = 2.0 * ((target * inputs).sum()) + smooth\n",
    "    union = target.sum() + inputs.sum() + smooth\n",
    "\n",
    "    return 1 - (intersection / union)\n",
    "\n",
    "\n",
    "def bce_dice_loss(inputs, target):\n",
    "    dicescore = dice_coef_loss(inputs, target)\n",
    "    bcescore = nn.BCELoss()\n",
    "    bceloss = bcescore(inputs, target)\n",
    "\n",
    "    return bceloss + dicescore"
   ]
  },
  {
   "cell_type": "code",
   "execution_count": 151,
   "id": "ae246526",
   "metadata": {
    "ExecuteTime": {
     "end_time": "2021-11-13T06:44:16.157669Z",
     "start_time": "2021-11-13T06:44:16.147624Z"
    }
   },
   "outputs": [],
   "source": [
    "def train_one_epoch(model, optimizer, lr_scheduler, metric,\n",
    "                    dataloader, epoch, criterion=bce_dice_loss):\n",
    "    \n",
    "    print(\"Start Train ...\")\n",
    "    model.train()\n",
    "\n",
    "    losses = []\n",
    "    accur = []\n",
    "\n",
    "    for data, target in tqdm(dataloader):\n",
    "\n",
    "        data = data.permute(0,3,1,2).to(DEVICE).float()\n",
    "        targets = target.unsqueeze(1).to(DEVICE)\n",
    "\n",
    "        outputs = model(data)\n",
    "\n",
    "        out_cut = np.copy(outputs.data.cpu().numpy())\n",
    "        out_cut[np.nonzero(out_cut < 0.5)] = 0.0\n",
    "        out_cut[np.nonzero(out_cut >= 0.5)] = 1.0\n",
    "\n",
    "        train_dice = metric(out_cut, targets.data.cpu().numpy())\n",
    "\n",
    "        loss = criterion(outputs, targets)\n",
    "\n",
    "        losses.append(loss.item())\n",
    "        accur.append(train_dice)\n",
    "\n",
    "        optimizer.zero_grad()\n",
    "        loss.backward()\n",
    "        optimizer.step()\n",
    "        \n",
    "    if lr_scheduler is not None:\n",
    "        lr_scheduler.step()\n",
    "\n",
    "    lr = lr_scheduler.get_last_lr()[0]\n",
    "    print(\"Epoch [%d]\" % (epoch),\n",
    "          \"Mean loss on train:\", np.array(losses).mean(), \n",
    "          \"Mean DICE on train:\", np.array(accur).mean(), \n",
    "          \"Learning Rate:\", lr)\n",
    "\n",
    "    \n",
    "    return np.array(losses).mean(), np.array(accur).mean(), lr\n",
    "\n",
    "\n",
    "def val_epoch(model, metric, dataloader, epoch, threshold=0.5):\n",
    "    \n",
    "    print(\"Start Validation ...\")\n",
    "    model.eval()\n",
    "    \n",
    "    val_acc = []\n",
    "\n",
    "    with torch.no_grad():\n",
    "        for data, targets in tqdm(dataloader):\n",
    "\n",
    "            data = data.permute(0,3,1,2).to(DEVICE).float()\n",
    "            targets = targets.unsqueeze(1).to(DEVICE)\n",
    "\n",
    "            outputs = model(data)\n",
    "\n",
    "            out_cut = np.copy(outputs.data.cpu().numpy())\n",
    "            out_cut[np.nonzero(out_cut < threshold)] = 0.0\n",
    "            out_cut[np.nonzero(out_cut >= threshold)] = 1.0\n",
    "\n",
    "            val_dice = metric(out_cut, targets.data.cpu().numpy())\n",
    "            val_acc.append(val_dice)\n",
    "\n",
    "        print(\"Epoch:  \" + str(epoch) + \"  Threshold:  \" + str(threshold)\\\n",
    "              + \" Mean Validation DICE Score:\", np.array(val_acc).mean())\n",
    "        \n",
    "        return  np.array(val_acc).mean()"
   ]
  },
  {
   "cell_type": "code",
   "execution_count": 181,
   "id": "084aacc3",
   "metadata": {
    "ExecuteTime": {
     "end_time": "2021-11-13T08:23:10.375360Z",
     "start_time": "2021-11-13T08:23:10.360648Z"
    }
   },
   "outputs": [],
   "source": [
    "for param in model.parameters():\n",
    "    param.requires_grad = True\n",
    "    \n",
    "params = [p for p in model.parameters() if p.requires_grad]\n",
    "\n",
    "stage_epoch =  [30, 10, 60] #[12, 8, 5]\n",
    "stage_optimizer = [\n",
    "    torch.optim.Adamax(params, lr=0.0002),\n",
    "    torch.optim.SGD(params, lr=0.00009, momentum=0.9),\n",
    "    torch.optim.Adam(params, lr=0.00005),\n",
    "]\n",
    "\n",
    "stage_scheduler = [\n",
    "    torch.optim.lr_scheduler.CosineAnnealingLR(stage_optimizer[0], 4, 1e-6),\n",
    "    torch.optim.lr_scheduler.CyclicLR(stage_optimizer[1], base_lr=1e-5, max_lr=2e-4),\n",
    "    torch.optim.lr_scheduler.CosineAnnealingLR(stage_optimizer[2], 4, 1e-6),\n",
    "]"
   ]
  },
  {
   "cell_type": "code",
   "execution_count": 182,
   "id": "2057733e",
   "metadata": {
    "ExecuteTime": {
     "end_time": "2021-11-13T08:39:50.444167Z",
     "start_time": "2021-11-13T08:23:19.520732Z"
    }
   },
   "outputs": [
    {
     "name": "stdout",
     "output_type": "stream",
     "text": [
      "Start Train ...\n"
     ]
    },
    {
     "data": {
      "application/vnd.jupyter.widget-view+json": {
       "model_id": "d89e4bc0923a4fcdb80b2f5e8f89f443",
       "version_major": 2,
       "version_minor": 0
      },
      "text/plain": [
       "  0%|          | 0/16 [00:00<?, ?it/s]"
      ]
     },
     "metadata": {},
     "output_type": "display_data"
    },
    {
     "name": "stdout",
     "output_type": "stream",
     "text": [
      "Epoch [0] Mean loss on train: 0.19387991726398468 Mean DICE on train: 0.9342538788268815 Learning Rate: 0.0001708571247280615\n",
      "Start Validation ...\n"
     ]
    },
    {
     "data": {
      "application/vnd.jupyter.widget-view+json": {
       "model_id": "d8afcbdafdf24460bbcf970dc33afab3",
       "version_major": 2,
       "version_minor": 0
      },
      "text/plain": [
       "  0%|          | 0/1 [00:00<?, ?it/s]"
      ]
     },
     "metadata": {},
     "output_type": "display_data"
    },
    {
     "name": "stdout",
     "output_type": "stream",
     "text": [
      "Epoch:  0  Threshold:  0.5 Mean Validation DICE Score: 0.9690150359368336\n",
      "Start Train ...\n"
     ]
    },
    {
     "data": {
      "application/vnd.jupyter.widget-view+json": {
       "model_id": "cfb98fc5b0a644859b0d62552a378be4",
       "version_major": 2,
       "version_minor": 0
      },
      "text/plain": [
       "  0%|          | 0/16 [00:00<?, ?it/s]"
      ]
     },
     "metadata": {},
     "output_type": "display_data"
    },
    {
     "name": "stdout",
     "output_type": "stream",
     "text": [
      "Epoch [1] Mean loss on train: 0.18392439745366573 Mean DICE on train: 0.9380220137386973 Learning Rate: 0.0001005\n",
      "Start Validation ...\n"
     ]
    },
    {
     "data": {
      "application/vnd.jupyter.widget-view+json": {
       "model_id": "353a70e1c78f49e1a5d84dd50eb1df3b",
       "version_major": 2,
       "version_minor": 0
      },
      "text/plain": [
       "  0%|          | 0/1 [00:00<?, ?it/s]"
      ]
     },
     "metadata": {},
     "output_type": "display_data"
    },
    {
     "name": "stdout",
     "output_type": "stream",
     "text": [
      "Epoch:  1  Threshold:  0.5 Mean Validation DICE Score: 0.9683243176443493\n",
      "Start Train ...\n"
     ]
    },
    {
     "data": {
      "application/vnd.jupyter.widget-view+json": {
       "model_id": "89972da4983b4e0e9047dd9589a4fb4a",
       "version_major": 2,
       "version_minor": 0
      },
      "text/plain": [
       "  0%|          | 0/16 [00:00<?, ?it/s]"
      ]
     },
     "metadata": {},
     "output_type": "display_data"
    },
    {
     "name": "stdout",
     "output_type": "stream",
     "text": [
      "Epoch [2] Mean loss on train: 0.17257605213671923 Mean DICE on train: 0.940666560110936 Learning Rate: 3.014287527193853e-05\n",
      "Start Validation ...\n"
     ]
    },
    {
     "data": {
      "application/vnd.jupyter.widget-view+json": {
       "model_id": "e806bbded8e94c0aa504bdb8aaf140de",
       "version_major": 2,
       "version_minor": 0
      },
      "text/plain": [
       "  0%|          | 0/1 [00:00<?, ?it/s]"
      ]
     },
     "metadata": {},
     "output_type": "display_data"
    },
    {
     "name": "stdout",
     "output_type": "stream",
     "text": [
      "Epoch:  2  Threshold:  0.5 Mean Validation DICE Score: 0.974049961804645\n",
      "Start Train ...\n"
     ]
    },
    {
     "data": {
      "application/vnd.jupyter.widget-view+json": {
       "model_id": "d29a34749cff43d8b81e54053a6eebb2",
       "version_major": 2,
       "version_minor": 0
      },
      "text/plain": [
       "  0%|          | 0/16 [00:00<?, ?it/s]"
      ]
     },
     "metadata": {},
     "output_type": "display_data"
    },
    {
     "name": "stdout",
     "output_type": "stream",
     "text": [
      "Epoch [3] Mean loss on train: 0.14904512465000153 Mean DICE on train: 0.9487032831786059 Learning Rate: 1e-06\n",
      "Start Validation ...\n"
     ]
    },
    {
     "data": {
      "application/vnd.jupyter.widget-view+json": {
       "model_id": "30c9b5ce2ca541c598c5db3dbb685086",
       "version_major": 2,
       "version_minor": 0
      },
      "text/plain": [
       "  0%|          | 0/1 [00:00<?, ?it/s]"
      ]
     },
     "metadata": {},
     "output_type": "display_data"
    },
    {
     "name": "stdout",
     "output_type": "stream",
     "text": [
      "Epoch:  3  Threshold:  0.5 Mean Validation DICE Score: 0.9749440969175465\n",
      "Start Train ...\n"
     ]
    },
    {
     "data": {
      "application/vnd.jupyter.widget-view+json": {
       "model_id": "9e90ff66b83e436ab59289f81f7acd0d",
       "version_major": 2,
       "version_minor": 0
      },
      "text/plain": [
       "  0%|          | 0/16 [00:00<?, ?it/s]"
      ]
     },
     "metadata": {},
     "output_type": "display_data"
    },
    {
     "name": "stdout",
     "output_type": "stream",
     "text": [
      "Epoch [4] Mean loss on train: 0.15904479380697012 Mean DICE on train: 0.9460887711115704 Learning Rate: 3.014287527193852e-05\n",
      "Start Validation ...\n"
     ]
    },
    {
     "data": {
      "application/vnd.jupyter.widget-view+json": {
       "model_id": "f2021f6285c247738a15701c1eef07b7",
       "version_major": 2,
       "version_minor": 0
      },
      "text/plain": [
       "  0%|          | 0/1 [00:00<?, ?it/s]"
      ]
     },
     "metadata": {},
     "output_type": "display_data"
    },
    {
     "name": "stdout",
     "output_type": "stream",
     "text": [
      "Epoch:  4  Threshold:  0.5 Mean Validation DICE Score: 0.9748507471140666\n",
      "Start Train ...\n"
     ]
    },
    {
     "data": {
      "application/vnd.jupyter.widget-view+json": {
       "model_id": "1af12ea3fe084e21b13b1ab8bab8b2b7",
       "version_major": 2,
       "version_minor": 0
      },
      "text/plain": [
       "  0%|          | 0/16 [00:00<?, ?it/s]"
      ]
     },
     "metadata": {},
     "output_type": "display_data"
    },
    {
     "name": "stdout",
     "output_type": "stream",
     "text": [
      "Epoch [5] Mean loss on train: 0.14697457943111658 Mean DICE on train: 0.9506328219932652 Learning Rate: 0.00010050000000000002\n",
      "Start Validation ...\n"
     ]
    },
    {
     "data": {
      "application/vnd.jupyter.widget-view+json": {
       "model_id": "fa1410d94874467b820cff1c8ec9690c",
       "version_major": 2,
       "version_minor": 0
      },
      "text/plain": [
       "  0%|          | 0/1 [00:00<?, ?it/s]"
      ]
     },
     "metadata": {},
     "output_type": "display_data"
    },
    {
     "name": "stdout",
     "output_type": "stream",
     "text": [
      "Epoch:  5  Threshold:  0.5 Mean Validation DICE Score: 0.9742118882090031\n",
      "Start Train ...\n"
     ]
    },
    {
     "data": {
      "application/vnd.jupyter.widget-view+json": {
       "model_id": "e152fd3a3f4744da9bfcd3f51599caec",
       "version_major": 2,
       "version_minor": 0
      },
      "text/plain": [
       "  0%|          | 0/16 [00:00<?, ?it/s]"
      ]
     },
     "metadata": {},
     "output_type": "display_data"
    },
    {
     "name": "stdout",
     "output_type": "stream",
     "text": [
      "Epoch [6] Mean loss on train: 0.1539367800578475 Mean DICE on train: 0.9492947861896548 Learning Rate: 0.00017085712472806155\n",
      "Start Validation ...\n"
     ]
    },
    {
     "data": {
      "application/vnd.jupyter.widget-view+json": {
       "model_id": "4c33474926e7496ebf76397d8fc3f503",
       "version_major": 2,
       "version_minor": 0
      },
      "text/plain": [
       "  0%|          | 0/1 [00:00<?, ?it/s]"
      ]
     },
     "metadata": {},
     "output_type": "display_data"
    },
    {
     "name": "stdout",
     "output_type": "stream",
     "text": [
      "Epoch:  6  Threshold:  0.5 Mean Validation DICE Score: 0.9751059972305101\n",
      "Start Train ...\n"
     ]
    },
    {
     "data": {
      "application/vnd.jupyter.widget-view+json": {
       "model_id": "34601bc6a1a849f6ab294458d8dd5e00",
       "version_major": 2,
       "version_minor": 0
      },
      "text/plain": [
       "  0%|          | 0/16 [00:00<?, ?it/s]"
      ]
     },
     "metadata": {},
     "output_type": "display_data"
    },
    {
     "name": "stdout",
     "output_type": "stream",
     "text": [
      "Epoch [7] Mean loss on train: 0.13888729037716985 Mean DICE on train: 0.9518372973085392 Learning Rate: 0.0002000000000000001\n",
      "Start Validation ...\n"
     ]
    },
    {
     "data": {
      "application/vnd.jupyter.widget-view+json": {
       "model_id": "9b72b8bbb16745c198df04d222a6914c",
       "version_major": 2,
       "version_minor": 0
      },
      "text/plain": [
       "  0%|          | 0/1 [00:00<?, ?it/s]"
      ]
     },
     "metadata": {},
     "output_type": "display_data"
    },
    {
     "name": "stdout",
     "output_type": "stream",
     "text": [
      "Epoch:  7  Threshold:  0.5 Mean Validation DICE Score: 0.974736341019727\n",
      "Start Train ...\n"
     ]
    },
    {
     "data": {
      "application/vnd.jupyter.widget-view+json": {
       "model_id": "c6418b6083524c76b6020fef4d9f19ff",
       "version_major": 2,
       "version_minor": 0
      },
      "text/plain": [
       "  0%|          | 0/16 [00:00<?, ?it/s]"
      ]
     },
     "metadata": {},
     "output_type": "display_data"
    },
    {
     "name": "stdout",
     "output_type": "stream",
     "text": [
      "Epoch [8] Mean loss on train: 0.1596123706549406 Mean DICE on train: 0.9464118679788676 Learning Rate: 0.00017085712472806157\n",
      "Start Validation ...\n"
     ]
    },
    {
     "data": {
      "application/vnd.jupyter.widget-view+json": {
       "model_id": "2ab91a7dfe1f40269b3b7f65baeb0ba8",
       "version_major": 2,
       "version_minor": 0
      },
      "text/plain": [
       "  0%|          | 0/1 [00:00<?, ?it/s]"
      ]
     },
     "metadata": {},
     "output_type": "display_data"
    },
    {
     "name": "stdout",
     "output_type": "stream",
     "text": [
      "Epoch:  8  Threshold:  0.5 Mean Validation DICE Score: 0.9754502502422391\n",
      "Start Train ...\n"
     ]
    },
    {
     "data": {
      "application/vnd.jupyter.widget-view+json": {
       "model_id": "bb1ee91c01c341baae2289bfc4677edf",
       "version_major": 2,
       "version_minor": 0
      },
      "text/plain": [
       "  0%|          | 0/16 [00:00<?, ?it/s]"
      ]
     },
     "metadata": {},
     "output_type": "display_data"
    },
    {
     "name": "stdout",
     "output_type": "stream",
     "text": [
      "Epoch [9] Mean loss on train: 0.15645506465807557 Mean DICE on train: 0.9472703193657133 Learning Rate: 0.00010050000000000007\n",
      "Start Validation ...\n"
     ]
    },
    {
     "data": {
      "application/vnd.jupyter.widget-view+json": {
       "model_id": "606c406587d34d00a99bf4a54cfb09bc",
       "version_major": 2,
       "version_minor": 0
      },
      "text/plain": [
       "  0%|          | 0/1 [00:00<?, ?it/s]"
      ]
     },
     "metadata": {},
     "output_type": "display_data"
    },
    {
     "name": "stdout",
     "output_type": "stream",
     "text": [
      "Epoch:  9  Threshold:  0.5 Mean Validation DICE Score: 0.9744883308465415\n",
      "Start Train ...\n"
     ]
    },
    {
     "data": {
      "application/vnd.jupyter.widget-view+json": {
       "model_id": "3bafc2323b9d49c18f2d3bbd9074f046",
       "version_major": 2,
       "version_minor": 0
      },
      "text/plain": [
       "  0%|          | 0/16 [00:00<?, ?it/s]"
      ]
     },
     "metadata": {},
     "output_type": "display_data"
    },
    {
     "name": "stdout",
     "output_type": "stream",
     "text": [
      "Epoch [10] Mean loss on train: 0.13765470404177904 Mean DICE on train: 0.9542819777227546 Learning Rate: 3.014287527193862e-05\n",
      "Start Validation ...\n"
     ]
    },
    {
     "data": {
      "application/vnd.jupyter.widget-view+json": {
       "model_id": "7255a8172bc842709a3fca11426e2082",
       "version_major": 2,
       "version_minor": 0
      },
      "text/plain": [
       "  0%|          | 0/1 [00:00<?, ?it/s]"
      ]
     },
     "metadata": {},
     "output_type": "display_data"
    },
    {
     "name": "stdout",
     "output_type": "stream",
     "text": [
      "Epoch:  10  Threshold:  0.5 Mean Validation DICE Score: 0.9743908038158723\n",
      "Start Train ...\n"
     ]
    },
    {
     "data": {
      "application/vnd.jupyter.widget-view+json": {
       "model_id": "24bb7df60dbb46b7976389e37722aad7",
       "version_major": 2,
       "version_minor": 0
      },
      "text/plain": [
       "  0%|          | 0/16 [00:00<?, ?it/s]"
      ]
     },
     "metadata": {},
     "output_type": "display_data"
    },
    {
     "name": "stdout",
     "output_type": "stream",
     "text": [
      "Epoch [11] Mean loss on train: 0.14757292298600078 Mean DICE on train: 0.949980687987704 Learning Rate: 1e-06\n",
      "Start Validation ...\n"
     ]
    },
    {
     "data": {
      "application/vnd.jupyter.widget-view+json": {
       "model_id": "bf3e281efb654209b4adf2abd65db39d",
       "version_major": 2,
       "version_minor": 0
      },
      "text/plain": [
       "  0%|          | 0/1 [00:00<?, ?it/s]"
      ]
     },
     "metadata": {},
     "output_type": "display_data"
    },
    {
     "name": "stdout",
     "output_type": "stream",
     "text": [
      "Epoch:  11  Threshold:  0.5 Mean Validation DICE Score: 0.9749368531165219\n",
      "Start Train ...\n"
     ]
    },
    {
     "data": {
      "application/vnd.jupyter.widget-view+json": {
       "model_id": "b18902b2e6664304b6db262495275d44",
       "version_major": 2,
       "version_minor": 0
      },
      "text/plain": [
       "  0%|          | 0/16 [00:00<?, ?it/s]"
      ]
     },
     "metadata": {},
     "output_type": "display_data"
    },
    {
     "name": "stdout",
     "output_type": "stream",
     "text": [
      "Epoch [12] Mean loss on train: 0.14022636227309704 Mean DICE on train: 0.9526809485677936 Learning Rate: 3.014287527193852e-05\n",
      "Start Validation ...\n"
     ]
    },
    {
     "data": {
      "application/vnd.jupyter.widget-view+json": {
       "model_id": "bfdc1eb8fe5c49c4a12e7a7f2e1be4b4",
       "version_major": 2,
       "version_minor": 0
      },
      "text/plain": [
       "  0%|          | 0/1 [00:00<?, ?it/s]"
      ]
     },
     "metadata": {},
     "output_type": "display_data"
    },
    {
     "name": "stdout",
     "output_type": "stream",
     "text": [
      "Epoch:  12  Threshold:  0.5 Mean Validation DICE Score: 0.9750055284958522\n",
      "Start Train ...\n"
     ]
    },
    {
     "data": {
      "application/vnd.jupyter.widget-view+json": {
       "model_id": "d6daacdd11c94c58b4a3142896f3bceb",
       "version_major": 2,
       "version_minor": 0
      },
      "text/plain": [
       "  0%|          | 0/16 [00:00<?, ?it/s]"
      ]
     },
     "metadata": {},
     "output_type": "display_data"
    },
    {
     "name": "stdout",
     "output_type": "stream",
     "text": [
      "Epoch [13] Mean loss on train: 0.15880079939961433 Mean DICE on train: 0.946463417347366 Learning Rate: 0.0001004999999999998\n",
      "Start Validation ...\n"
     ]
    },
    {
     "data": {
      "application/vnd.jupyter.widget-view+json": {
       "model_id": "d823f98744ad48aba491dea6223066bd",
       "version_major": 2,
       "version_minor": 0
      },
      "text/plain": [
       "  0%|          | 0/1 [00:00<?, ?it/s]"
      ]
     },
     "metadata": {},
     "output_type": "display_data"
    },
    {
     "name": "stdout",
     "output_type": "stream",
     "text": [
      "Epoch:  13  Threshold:  0.5 Mean Validation DICE Score: 0.9756814287054062\n",
      "Start Train ...\n"
     ]
    },
    {
     "data": {
      "application/vnd.jupyter.widget-view+json": {
       "model_id": "13eee63466254586981e7872c493ab85",
       "version_major": 2,
       "version_minor": 0
      },
      "text/plain": [
       "  0%|          | 0/16 [00:00<?, ?it/s]"
      ]
     },
     "metadata": {},
     "output_type": "display_data"
    },
    {
     "name": "stdout",
     "output_type": "stream",
     "text": [
      "Epoch [14] Mean loss on train: 0.1376654622144997 Mean DICE on train: 0.9527370647126823 Learning Rate: 0.0001708571247280611\n",
      "Start Validation ...\n"
     ]
    },
    {
     "data": {
      "application/vnd.jupyter.widget-view+json": {
       "model_id": "eac9fb129cea426caec59037952d8646",
       "version_major": 2,
       "version_minor": 0
      },
      "text/plain": [
       "  0%|          | 0/1 [00:00<?, ?it/s]"
      ]
     },
     "metadata": {},
     "output_type": "display_data"
    },
    {
     "name": "stdout",
     "output_type": "stream",
     "text": [
      "Epoch:  14  Threshold:  0.5 Mean Validation DICE Score: 0.974573581577713\n",
      "Start Train ...\n"
     ]
    },
    {
     "data": {
      "application/vnd.jupyter.widget-view+json": {
       "model_id": "f7e2c5b555bd48dfa0579ebf8715fd88",
       "version_major": 2,
       "version_minor": 0
      },
      "text/plain": [
       "  0%|          | 0/16 [00:00<?, ?it/s]"
      ]
     },
     "metadata": {},
     "output_type": "display_data"
    },
    {
     "name": "stdout",
     "output_type": "stream",
     "text": [
      "Epoch [15] Mean loss on train: 0.1310628936626017 Mean DICE on train: 0.9534783466499044 Learning Rate: 0.00019999999999999968\n",
      "Start Validation ...\n"
     ]
    },
    {
     "data": {
      "application/vnd.jupyter.widget-view+json": {
       "model_id": "294babeb65f64729afa5ac8862de266e",
       "version_major": 2,
       "version_minor": 0
      },
      "text/plain": [
       "  0%|          | 0/1 [00:00<?, ?it/s]"
      ]
     },
     "metadata": {},
     "output_type": "display_data"
    },
    {
     "name": "stdout",
     "output_type": "stream",
     "text": [
      "Epoch:  15  Threshold:  0.5 Mean Validation DICE Score: 0.9763218658494676\n",
      "Start Train ...\n"
     ]
    },
    {
     "data": {
      "application/vnd.jupyter.widget-view+json": {
       "model_id": "4918276bf2ea4880b1f8143b51494c6e",
       "version_major": 2,
       "version_minor": 0
      },
      "text/plain": [
       "  0%|          | 0/16 [00:00<?, ?it/s]"
      ]
     },
     "metadata": {},
     "output_type": "display_data"
    },
    {
     "name": "stdout",
     "output_type": "stream",
     "text": [
      "Epoch [16] Mean loss on train: 0.14033863972872496 Mean DICE on train: 0.9519482462453819 Learning Rate: 0.0001708571247280612\n",
      "Start Validation ...\n"
     ]
    },
    {
     "data": {
      "application/vnd.jupyter.widget-view+json": {
       "model_id": "4f828b3bc9b641f8b34f8895314b8d90",
       "version_major": 2,
       "version_minor": 0
      },
      "text/plain": [
       "  0%|          | 0/1 [00:00<?, ?it/s]"
      ]
     },
     "metadata": {},
     "output_type": "display_data"
    },
    {
     "name": "stdout",
     "output_type": "stream",
     "text": [
      "Epoch:  16  Threshold:  0.5 Mean Validation DICE Score: 0.9758401699550252\n",
      "Start Train ...\n"
     ]
    },
    {
     "data": {
      "application/vnd.jupyter.widget-view+json": {
       "model_id": "c54a6d81448f40acb7e8ac1f6b4515b0",
       "version_major": 2,
       "version_minor": 0
      },
      "text/plain": [
       "  0%|          | 0/16 [00:00<?, ?it/s]"
      ]
     },
     "metadata": {},
     "output_type": "display_data"
    },
    {
     "name": "stdout",
     "output_type": "stream",
     "text": [
      "Epoch [17] Mean loss on train: 0.13610221352428198 Mean DICE on train: 0.9528753624109534 Learning Rate: 0.0001004999999999999\n",
      "Start Validation ...\n"
     ]
    },
    {
     "data": {
      "application/vnd.jupyter.widget-view+json": {
       "model_id": "4df1401ddf2f474f9015e70c74088456",
       "version_major": 2,
       "version_minor": 0
      },
      "text/plain": [
       "  0%|          | 0/1 [00:00<?, ?it/s]"
      ]
     },
     "metadata": {},
     "output_type": "display_data"
    },
    {
     "name": "stdout",
     "output_type": "stream",
     "text": [
      "Epoch:  17  Threshold:  0.5 Mean Validation DICE Score: 0.9755032646121755\n",
      "Start Train ...\n"
     ]
    },
    {
     "data": {
      "application/vnd.jupyter.widget-view+json": {
       "model_id": "9f0bd1fce2f64118bffaafbc00000766",
       "version_major": 2,
       "version_minor": 0
      },
      "text/plain": [
       "  0%|          | 0/16 [00:00<?, ?it/s]"
      ]
     },
     "metadata": {},
     "output_type": "display_data"
    },
    {
     "name": "stdout",
     "output_type": "stream",
     "text": [
      "Epoch [18] Mean loss on train: 0.14309702813625336 Mean DICE on train: 0.9513705454257726 Learning Rate: 3.0142875271938587e-05\n",
      "Start Validation ...\n"
     ]
    },
    {
     "data": {
      "application/vnd.jupyter.widget-view+json": {
       "model_id": "0b4bbcfbb50d44f4ad8a0a1a70c2c70d",
       "version_major": 2,
       "version_minor": 0
      },
      "text/plain": [
       "  0%|          | 0/1 [00:00<?, ?it/s]"
      ]
     },
     "metadata": {},
     "output_type": "display_data"
    },
    {
     "name": "stdout",
     "output_type": "stream",
     "text": [
      "Epoch:  18  Threshold:  0.5 Mean Validation DICE Score: 0.9755466388358847\n",
      "Start Train ...\n"
     ]
    },
    {
     "data": {
      "application/vnd.jupyter.widget-view+json": {
       "model_id": "a078ad4763874db1badb4025b79fb98a",
       "version_major": 2,
       "version_minor": 0
      },
      "text/plain": [
       "  0%|          | 0/16 [00:00<?, ?it/s]"
      ]
     },
     "metadata": {},
     "output_type": "display_data"
    },
    {
     "name": "stdout",
     "output_type": "stream",
     "text": [
      "Epoch [19] Mean loss on train: 0.1319237039424479 Mean DICE on train: 0.954445081362395 Learning Rate: 1e-06\n",
      "Start Validation ...\n"
     ]
    },
    {
     "data": {
      "application/vnd.jupyter.widget-view+json": {
       "model_id": "3f430289da134f428c2e06a5e0b70a1a",
       "version_major": 2,
       "version_minor": 0
      },
      "text/plain": [
       "  0%|          | 0/1 [00:00<?, ?it/s]"
      ]
     },
     "metadata": {},
     "output_type": "display_data"
    },
    {
     "name": "stdout",
     "output_type": "stream",
     "text": [
      "Epoch:  19  Threshold:  0.5 Mean Validation DICE Score: 0.9764343856592546\n",
      "Start Train ...\n"
     ]
    },
    {
     "data": {
      "application/vnd.jupyter.widget-view+json": {
       "model_id": "46d40c3f9ec546d2b77d36fe51977253",
       "version_major": 2,
       "version_minor": 0
      },
      "text/plain": [
       "  0%|          | 0/16 [00:00<?, ?it/s]"
      ]
     },
     "metadata": {},
     "output_type": "display_data"
    },
    {
     "name": "stdout",
     "output_type": "stream",
     "text": [
      "Epoch [20] Mean loss on train: 0.1294493325985968 Mean DICE on train: 0.955957762186707 Learning Rate: 3.014287527193852e-05\n",
      "Start Validation ...\n"
     ]
    },
    {
     "data": {
      "application/vnd.jupyter.widget-view+json": {
       "model_id": "fe9adf3d924646148cb589f6755a7155",
       "version_major": 2,
       "version_minor": 0
      },
      "text/plain": [
       "  0%|          | 0/1 [00:00<?, ?it/s]"
      ]
     },
     "metadata": {},
     "output_type": "display_data"
    },
    {
     "name": "stdout",
     "output_type": "stream",
     "text": [
      "Epoch:  20  Threshold:  0.5 Mean Validation DICE Score: 0.9765295933059696\n",
      "Start Train ...\n"
     ]
    },
    {
     "data": {
      "application/vnd.jupyter.widget-view+json": {
       "model_id": "b0fd9362e3f640d2b2a0888d15fe9028",
       "version_major": 2,
       "version_minor": 0
      },
      "text/plain": [
       "  0%|          | 0/16 [00:00<?, ?it/s]"
      ]
     },
     "metadata": {},
     "output_type": "display_data"
    },
    {
     "name": "stdout",
     "output_type": "stream",
     "text": [
      "Epoch [21] Mean loss on train: 0.13665135437622666 Mean DICE on train: 0.9530669541600955 Learning Rate: 0.00010049999999999969\n",
      "Start Validation ...\n"
     ]
    },
    {
     "data": {
      "application/vnd.jupyter.widget-view+json": {
       "model_id": "463f8c99480347608a066da223adcfc9",
       "version_major": 2,
       "version_minor": 0
      },
      "text/plain": [
       "  0%|          | 0/1 [00:00<?, ?it/s]"
      ]
     },
     "metadata": {},
     "output_type": "display_data"
    },
    {
     "name": "stdout",
     "output_type": "stream",
     "text": [
      "Epoch:  21  Threshold:  0.5 Mean Validation DICE Score: 0.9768389856730434\n",
      "Start Train ...\n"
     ]
    },
    {
     "data": {
      "application/vnd.jupyter.widget-view+json": {
       "model_id": "a28c185872a4448d9e04041acba293d2",
       "version_major": 2,
       "version_minor": 0
      },
      "text/plain": [
       "  0%|          | 0/16 [00:00<?, ?it/s]"
      ]
     },
     "metadata": {},
     "output_type": "display_data"
    },
    {
     "name": "stdout",
     "output_type": "stream",
     "text": [
      "Epoch [22] Mean loss on train: 0.13284238427877426 Mean DICE on train: 0.9543749544706444 Learning Rate: 0.00017085712472806125\n",
      "Start Validation ...\n"
     ]
    },
    {
     "data": {
      "application/vnd.jupyter.widget-view+json": {
       "model_id": "9e5bc4d963a5417698e2018f9fba9cfa",
       "version_major": 2,
       "version_minor": 0
      },
      "text/plain": [
       "  0%|          | 0/1 [00:00<?, ?it/s]"
      ]
     },
     "metadata": {},
     "output_type": "display_data"
    },
    {
     "name": "stdout",
     "output_type": "stream",
     "text": [
      "Epoch:  22  Threshold:  0.5 Mean Validation DICE Score: 0.9766356199152446\n",
      "Start Train ...\n"
     ]
    },
    {
     "data": {
      "application/vnd.jupyter.widget-view+json": {
       "model_id": "732d176e7cdd438ea270b057b584f623",
       "version_major": 2,
       "version_minor": 0
      },
      "text/plain": [
       "  0%|          | 0/16 [00:00<?, ?it/s]"
      ]
     },
     "metadata": {},
     "output_type": "display_data"
    },
    {
     "name": "stdout",
     "output_type": "stream",
     "text": [
      "Epoch [23] Mean loss on train: 0.12966435588896275 Mean DICE on train: 0.9553730861411134 Learning Rate: 0.00019999999999999985\n",
      "Start Validation ...\n"
     ]
    },
    {
     "data": {
      "application/vnd.jupyter.widget-view+json": {
       "model_id": "fe0ec11eca0a4f12965c93d207912c01",
       "version_major": 2,
       "version_minor": 0
      },
      "text/plain": [
       "  0%|          | 0/1 [00:00<?, ?it/s]"
      ]
     },
     "metadata": {},
     "output_type": "display_data"
    },
    {
     "name": "stdout",
     "output_type": "stream",
     "text": [
      "Epoch:  23  Threshold:  0.5 Mean Validation DICE Score: 0.9757383283778576\n",
      "Start Train ...\n"
     ]
    },
    {
     "data": {
      "application/vnd.jupyter.widget-view+json": {
       "model_id": "f69dae9741a34cababe03b8cb21780cc",
       "version_major": 2,
       "version_minor": 0
      },
      "text/plain": [
       "  0%|          | 0/16 [00:00<?, ?it/s]"
      ]
     },
     "metadata": {},
     "output_type": "display_data"
    },
    {
     "name": "stdout",
     "output_type": "stream",
     "text": [
      "Epoch [24] Mean loss on train: 0.13671148428693414 Mean DICE on train: 0.9531821984376024 Learning Rate: 0.00017085712472806133\n",
      "Start Validation ...\n"
     ]
    },
    {
     "data": {
      "application/vnd.jupyter.widget-view+json": {
       "model_id": "0d9d5ff5f20f4e05ab5a124f83519762",
       "version_major": 2,
       "version_minor": 0
      },
      "text/plain": [
       "  0%|          | 0/1 [00:00<?, ?it/s]"
      ]
     },
     "metadata": {},
     "output_type": "display_data"
    },
    {
     "name": "stdout",
     "output_type": "stream",
     "text": [
      "Epoch:  24  Threshold:  0.5 Mean Validation DICE Score: 0.9732036846340406\n",
      "Start Train ...\n"
     ]
    },
    {
     "data": {
      "application/vnd.jupyter.widget-view+json": {
       "model_id": "48960935e03b4f0abbd62002fb659c28",
       "version_major": 2,
       "version_minor": 0
      },
      "text/plain": [
       "  0%|          | 0/16 [00:00<?, ?it/s]"
      ]
     },
     "metadata": {},
     "output_type": "display_data"
    },
    {
     "name": "stdout",
     "output_type": "stream",
     "text": [
      "Epoch [25] Mean loss on train: 0.13593747094273567 Mean DICE on train: 0.9537580434559042 Learning Rate: 0.00010049999999999981\n",
      "Start Validation ...\n"
     ]
    },
    {
     "data": {
      "application/vnd.jupyter.widget-view+json": {
       "model_id": "01647f166d8c44f78079d9cfb9422148",
       "version_major": 2,
       "version_minor": 0
      },
      "text/plain": [
       "  0%|          | 0/1 [00:00<?, ?it/s]"
      ]
     },
     "metadata": {},
     "output_type": "display_data"
    },
    {
     "name": "stdout",
     "output_type": "stream",
     "text": [
      "Epoch:  25  Threshold:  0.5 Mean Validation DICE Score: 0.9762668523613284\n",
      "Start Train ...\n"
     ]
    },
    {
     "data": {
      "application/vnd.jupyter.widget-view+json": {
       "model_id": "bf44682290434eaeb90e3e190f19218b",
       "version_major": 2,
       "version_minor": 0
      },
      "text/plain": [
       "  0%|          | 0/16 [00:00<?, ?it/s]"
      ]
     },
     "metadata": {},
     "output_type": "display_data"
    },
    {
     "name": "stdout",
     "output_type": "stream",
     "text": [
      "Epoch [26] Mean loss on train: 0.146524575073272 Mean DICE on train: 0.9493815326728525 Learning Rate: 3.0142875271938614e-05\n",
      "Start Validation ...\n"
     ]
    },
    {
     "data": {
      "application/vnd.jupyter.widget-view+json": {
       "model_id": "b94c6263d6704daf8221f6da33388b3b",
       "version_major": 2,
       "version_minor": 0
      },
      "text/plain": [
       "  0%|          | 0/1 [00:00<?, ?it/s]"
      ]
     },
     "metadata": {},
     "output_type": "display_data"
    },
    {
     "name": "stdout",
     "output_type": "stream",
     "text": [
      "Epoch:  26  Threshold:  0.5 Mean Validation DICE Score: 0.9758992643408404\n",
      "Start Train ...\n"
     ]
    },
    {
     "data": {
      "application/vnd.jupyter.widget-view+json": {
       "model_id": "1de9c549cfe14ece843874ddd8602536",
       "version_major": 2,
       "version_minor": 0
      },
      "text/plain": [
       "  0%|          | 0/16 [00:00<?, ?it/s]"
      ]
     },
     "metadata": {},
     "output_type": "display_data"
    },
    {
     "name": "stdout",
     "output_type": "stream",
     "text": [
      "Epoch [27] Mean loss on train: 0.1288330485112965 Mean DICE on train: 0.9554704280223902 Learning Rate: 1e-06\n",
      "Start Validation ...\n"
     ]
    },
    {
     "data": {
      "application/vnd.jupyter.widget-view+json": {
       "model_id": "9809c2ca0557427aa9f436bca37724ab",
       "version_major": 2,
       "version_minor": 0
      },
      "text/plain": [
       "  0%|          | 0/1 [00:00<?, ?it/s]"
      ]
     },
     "metadata": {},
     "output_type": "display_data"
    },
    {
     "name": "stdout",
     "output_type": "stream",
     "text": [
      "Epoch:  27  Threshold:  0.5 Mean Validation DICE Score: 0.9770714518206133\n",
      "Start Train ...\n"
     ]
    },
    {
     "data": {
      "application/vnd.jupyter.widget-view+json": {
       "model_id": "d52b0dc099ee4d90a255a1a9a1949e1b",
       "version_major": 2,
       "version_minor": 0
      },
      "text/plain": [
       "  0%|          | 0/16 [00:00<?, ?it/s]"
      ]
     },
     "metadata": {},
     "output_type": "display_data"
    },
    {
     "name": "stdout",
     "output_type": "stream",
     "text": [
      "Epoch [28] Mean loss on train: 0.12384125590324402 Mean DICE on train: 0.9574365724335542 Learning Rate: 3.014287527193852e-05\n",
      "Start Validation ...\n"
     ]
    },
    {
     "data": {
      "application/vnd.jupyter.widget-view+json": {
       "model_id": "3ac22fc8aece446ea9099db273d09824",
       "version_major": 2,
       "version_minor": 0
      },
      "text/plain": [
       "  0%|          | 0/1 [00:00<?, ?it/s]"
      ]
     },
     "metadata": {},
     "output_type": "display_data"
    },
    {
     "name": "stdout",
     "output_type": "stream",
     "text": [
      "Epoch:  28  Threshold:  0.5 Mean Validation DICE Score: 0.9769372223951113\n",
      "Start Train ...\n"
     ]
    },
    {
     "data": {
      "application/vnd.jupyter.widget-view+json": {
       "model_id": "18279be9c35e4d298586b9d492dd8edd",
       "version_major": 2,
       "version_minor": 0
      },
      "text/plain": [
       "  0%|          | 0/16 [00:00<?, ?it/s]"
      ]
     },
     "metadata": {},
     "output_type": "display_data"
    },
    {
     "name": "stdout",
     "output_type": "stream",
     "text": [
      "Epoch [29] Mean loss on train: 0.13853268837556243 Mean DICE on train: 0.9532769665904791 Learning Rate: 0.00010049999999999973\n",
      "Start Validation ...\n"
     ]
    },
    {
     "data": {
      "application/vnd.jupyter.widget-view+json": {
       "model_id": "f58fdd54aa1149b4831a0303edc68c5a",
       "version_major": 2,
       "version_minor": 0
      },
      "text/plain": [
       "  0%|          | 0/1 [00:00<?, ?it/s]"
      ]
     },
     "metadata": {},
     "output_type": "display_data"
    },
    {
     "name": "stdout",
     "output_type": "stream",
     "text": [
      "Epoch:  29  Threshold:  0.5 Mean Validation DICE Score: 0.9766514211134433\n",
      "\n",
      "Next stage\n",
      "\n",
      "Loaded model: 0.977071_.pth\n",
      "Start Train ...\n"
     ]
    },
    {
     "data": {
      "application/vnd.jupyter.widget-view+json": {
       "model_id": "260ec8edfc054075a63e7d15748da5d9",
       "version_major": 2,
       "version_minor": 0
      },
      "text/plain": [
       "  0%|          | 0/16 [00:00<?, ?it/s]"
      ]
     },
     "metadata": {},
     "output_type": "display_data"
    },
    {
     "name": "stdout",
     "output_type": "stream",
     "text": [
      "Epoch [0] Mean loss on train: 0.16975990450009704 Mean DICE on train: 0.9452195915358126 Learning Rate: 1.0095000000000033e-05\n",
      "Start Validation ...\n"
     ]
    },
    {
     "data": {
      "application/vnd.jupyter.widget-view+json": {
       "model_id": "d9809dc14b0c43b0969c16acb79f8f01",
       "version_major": 2,
       "version_minor": 0
      },
      "text/plain": [
       "  0%|          | 0/1 [00:00<?, ?it/s]"
      ]
     },
     "metadata": {},
     "output_type": "display_data"
    },
    {
     "name": "stdout",
     "output_type": "stream",
     "text": [
      "Epoch:  0  Threshold:  0.5 Mean Validation DICE Score: 0.9769645778726344\n",
      "Start Train ...\n"
     ]
    },
    {
     "data": {
      "application/vnd.jupyter.widget-view+json": {
       "model_id": "cb820707815641c2bdee23a20a9306ef",
       "version_major": 2,
       "version_minor": 0
      },
      "text/plain": [
       "  0%|          | 0/16 [00:00<?, ?it/s]"
      ]
     },
     "metadata": {},
     "output_type": "display_data"
    },
    {
     "name": "stdout",
     "output_type": "stream",
     "text": [
      "Epoch [1] Mean loss on train: 0.1298419302329421 Mean DICE on train: 0.9564268464449664 Learning Rate: 1.018999999999998e-05\n",
      "Start Validation ...\n"
     ]
    },
    {
     "data": {
      "application/vnd.jupyter.widget-view+json": {
       "model_id": "53a340df77444077aafa7c7178fdbcd0",
       "version_major": 2,
       "version_minor": 0
      },
      "text/plain": [
       "  0%|          | 0/1 [00:00<?, ?it/s]"
      ]
     },
     "metadata": {},
     "output_type": "display_data"
    },
    {
     "name": "stdout",
     "output_type": "stream",
     "text": [
      "Epoch:  1  Threshold:  0.5 Mean Validation DICE Score: 0.9767735613400588\n",
      "Start Train ...\n"
     ]
    },
    {
     "data": {
      "application/vnd.jupyter.widget-view+json": {
       "model_id": "d5408be8df114660b097491dcf71156b",
       "version_major": 2,
       "version_minor": 0
      },
      "text/plain": [
       "  0%|          | 0/16 [00:00<?, ?it/s]"
      ]
     },
     "metadata": {},
     "output_type": "display_data"
    },
    {
     "name": "stdout",
     "output_type": "stream",
     "text": [
      "Epoch [2] Mean loss on train: 0.14354293188080192 Mean DICE on train: 0.9495447453377606 Learning Rate: 1.028500000000001e-05\n",
      "Start Validation ...\n"
     ]
    },
    {
     "data": {
      "application/vnd.jupyter.widget-view+json": {
       "model_id": "e5abe544c9c64cd4ab8037bdf8c7db7c",
       "version_major": 2,
       "version_minor": 0
      },
      "text/plain": [
       "  0%|          | 0/1 [00:00<?, ?it/s]"
      ]
     },
     "metadata": {},
     "output_type": "display_data"
    },
    {
     "name": "stdout",
     "output_type": "stream",
     "text": [
      "Epoch:  2  Threshold:  0.5 Mean Validation DICE Score: 0.976601431548428\n",
      "Start Train ...\n"
     ]
    },
    {
     "data": {
      "application/vnd.jupyter.widget-view+json": {
       "model_id": "4dfe61b83d11489681530dde5f7a6af3",
       "version_major": 2,
       "version_minor": 0
      },
      "text/plain": [
       "  0%|          | 0/16 [00:00<?, ?it/s]"
      ]
     },
     "metadata": {},
     "output_type": "display_data"
    },
    {
     "name": "stdout",
     "output_type": "stream",
     "text": [
      "Epoch [3] Mean loss on train: 0.1301362686790526 Mean DICE on train: 0.9566450077902258 Learning Rate: 1.0379999999999958e-05\n",
      "Start Validation ...\n"
     ]
    },
    {
     "data": {
      "application/vnd.jupyter.widget-view+json": {
       "model_id": "c2061d2bc96a48e698a01b40f75ecaed",
       "version_major": 2,
       "version_minor": 0
      },
      "text/plain": [
       "  0%|          | 0/1 [00:00<?, ?it/s]"
      ]
     },
     "metadata": {},
     "output_type": "display_data"
    },
    {
     "name": "stdout",
     "output_type": "stream",
     "text": [
      "Epoch:  3  Threshold:  0.5 Mean Validation DICE Score: 0.9767919537140513\n",
      "Start Train ...\n"
     ]
    },
    {
     "data": {
      "application/vnd.jupyter.widget-view+json": {
       "model_id": "0bc49c8aadff4cc2a1424b559be6f35e",
       "version_major": 2,
       "version_minor": 0
      },
      "text/plain": [
       "  0%|          | 0/16 [00:00<?, ?it/s]"
      ]
     },
     "metadata": {},
     "output_type": "display_data"
    },
    {
     "name": "stdout",
     "output_type": "stream",
     "text": [
      "Epoch [4] Mean loss on train: 0.13390755327418447 Mean DICE on train: 0.9544194873018519 Learning Rate: 1.047499999999999e-05\n",
      "Start Validation ...\n"
     ]
    },
    {
     "data": {
      "application/vnd.jupyter.widget-view+json": {
       "model_id": "0e37f0418e504a5ca1c729471ed982a9",
       "version_major": 2,
       "version_minor": 0
      },
      "text/plain": [
       "  0%|          | 0/1 [00:00<?, ?it/s]"
      ]
     },
     "metadata": {},
     "output_type": "display_data"
    },
    {
     "name": "stdout",
     "output_type": "stream",
     "text": [
      "Epoch:  4  Threshold:  0.5 Mean Validation DICE Score: 0.9768217262705028\n",
      "Start Train ...\n"
     ]
    },
    {
     "data": {
      "application/vnd.jupyter.widget-view+json": {
       "model_id": "b77a96f6d62f4369867164cde34ae006",
       "version_major": 2,
       "version_minor": 0
      },
      "text/plain": [
       "  0%|          | 0/16 [00:00<?, ?it/s]"
      ]
     },
     "metadata": {},
     "output_type": "display_data"
    },
    {
     "name": "stdout",
     "output_type": "stream",
     "text": [
      "Epoch [5] Mean loss on train: 0.1229719347320497 Mean DICE on train: 0.9579745410926654 Learning Rate: 1.0570000000000022e-05\n",
      "Start Validation ...\n"
     ]
    },
    {
     "data": {
      "application/vnd.jupyter.widget-view+json": {
       "model_id": "8548b1cf2df6449cbe3757d158c3fba5",
       "version_major": 2,
       "version_minor": 0
      },
      "text/plain": [
       "  0%|          | 0/1 [00:00<?, ?it/s]"
      ]
     },
     "metadata": {},
     "output_type": "display_data"
    },
    {
     "name": "stdout",
     "output_type": "stream",
     "text": [
      "Epoch:  5  Threshold:  0.5 Mean Validation DICE Score: 0.9766828304445181\n",
      "Start Train ...\n"
     ]
    },
    {
     "data": {
      "application/vnd.jupyter.widget-view+json": {
       "model_id": "47cedc0c63a947aa9ebd5798e778071b",
       "version_major": 2,
       "version_minor": 0
      },
      "text/plain": [
       "  0%|          | 0/16 [00:00<?, ?it/s]"
      ]
     },
     "metadata": {},
     "output_type": "display_data"
    },
    {
     "name": "stdout",
     "output_type": "stream",
     "text": [
      "Epoch [6] Mean loss on train: 0.12818192737177014 Mean DICE on train: 0.9568880448550005 Learning Rate: 1.066499999999997e-05\n",
      "Start Validation ...\n"
     ]
    },
    {
     "data": {
      "application/vnd.jupyter.widget-view+json": {
       "model_id": "fbe527da76914a3ea311667babdbca73",
       "version_major": 2,
       "version_minor": 0
      },
      "text/plain": [
       "  0%|          | 0/1 [00:00<?, ?it/s]"
      ]
     },
     "metadata": {},
     "output_type": "display_data"
    },
    {
     "name": "stdout",
     "output_type": "stream",
     "text": [
      "Epoch:  6  Threshold:  0.5 Mean Validation DICE Score: 0.9769251887051444\n",
      "Start Train ...\n"
     ]
    },
    {
     "data": {
      "application/vnd.jupyter.widget-view+json": {
       "model_id": "5f3ab7bbdd4440d4adb0e6905996f9e8",
       "version_major": 2,
       "version_minor": 0
      },
      "text/plain": [
       "  0%|          | 0/16 [00:00<?, ?it/s]"
      ]
     },
     "metadata": {},
     "output_type": "display_data"
    },
    {
     "name": "stdout",
     "output_type": "stream",
     "text": [
      "Epoch [7] Mean loss on train: 0.14302497450262308 Mean DICE on train: 0.9506848960695722 Learning Rate: 1.0760000000000002e-05\n",
      "Start Validation ...\n"
     ]
    },
    {
     "data": {
      "application/vnd.jupyter.widget-view+json": {
       "model_id": "dd171e0c79c2454382cd3eba905ffd21",
       "version_major": 2,
       "version_minor": 0
      },
      "text/plain": [
       "  0%|          | 0/1 [00:00<?, ?it/s]"
      ]
     },
     "metadata": {},
     "output_type": "display_data"
    },
    {
     "name": "stdout",
     "output_type": "stream",
     "text": [
      "Epoch:  7  Threshold:  0.5 Mean Validation DICE Score: 0.9768420100411597\n",
      "Start Train ...\n"
     ]
    },
    {
     "data": {
      "application/vnd.jupyter.widget-view+json": {
       "model_id": "2fab65992705404f94de0cc27ed1ff24",
       "version_major": 2,
       "version_minor": 0
      },
      "text/plain": [
       "  0%|          | 0/16 [00:00<?, ?it/s]"
      ]
     },
     "metadata": {},
     "output_type": "display_data"
    },
    {
     "name": "stdout",
     "output_type": "stream",
     "text": [
      "Epoch [8] Mean loss on train: 0.12674698885530233 Mean DICE on train: 0.9561183885159936 Learning Rate: 1.0855000000000034e-05\n",
      "Start Validation ...\n"
     ]
    },
    {
     "data": {
      "application/vnd.jupyter.widget-view+json": {
       "model_id": "7ca3b682db5f432aba521075450a4a8a",
       "version_major": 2,
       "version_minor": 0
      },
      "text/plain": [
       "  0%|          | 0/1 [00:00<?, ?it/s]"
      ]
     },
     "metadata": {},
     "output_type": "display_data"
    },
    {
     "name": "stdout",
     "output_type": "stream",
     "text": [
      "Epoch:  8  Threshold:  0.5 Mean Validation DICE Score: 0.976919315126965\n",
      "Start Train ...\n"
     ]
    },
    {
     "data": {
      "application/vnd.jupyter.widget-view+json": {
       "model_id": "14de71d0740b42c0a9bb4e88e866d34c",
       "version_major": 2,
       "version_minor": 0
      },
      "text/plain": [
       "  0%|          | 0/16 [00:00<?, ?it/s]"
      ]
     },
     "metadata": {},
     "output_type": "display_data"
    },
    {
     "name": "stdout",
     "output_type": "stream",
     "text": [
      "Epoch [9] Mean loss on train: 0.13559922901913524 Mean DICE on train: 0.9539729077871151 Learning Rate: 1.094999999999998e-05\n",
      "Start Validation ...\n"
     ]
    },
    {
     "data": {
      "application/vnd.jupyter.widget-view+json": {
       "model_id": "e31c526799b14ab4aa61a99cd1248b9d",
       "version_major": 2,
       "version_minor": 0
      },
      "text/plain": [
       "  0%|          | 0/1 [00:00<?, ?it/s]"
      ]
     },
     "metadata": {},
     "output_type": "display_data"
    },
    {
     "name": "stdout",
     "output_type": "stream",
     "text": [
      "Epoch:  9  Threshold:  0.5 Mean Validation DICE Score: 0.977078052185512\n",
      "\n",
      "Next stage\n",
      "\n",
      "Loaded model: 0.977078_.pth\n",
      "Start Train ...\n"
     ]
    },
    {
     "data": {
      "application/vnd.jupyter.widget-view+json": {
       "model_id": "b893cdc3b3684fb0b75c0639c23d9e87",
       "version_major": 2,
       "version_minor": 0
      },
      "text/plain": [
       "  0%|          | 0/16 [00:00<?, ?it/s]"
      ]
     },
     "metadata": {},
     "output_type": "display_data"
    },
    {
     "name": "stdout",
     "output_type": "stream",
     "text": [
      "Epoch [0] Mean loss on train: 0.16479346388950944 Mean DICE on train: 0.9472270325020047 Learning Rate: 4.2824116139070415e-05\n",
      "Start Validation ...\n"
     ]
    },
    {
     "data": {
      "application/vnd.jupyter.widget-view+json": {
       "model_id": "12365abcce964067aaaa456f8794b7ac",
       "version_major": 2,
       "version_minor": 0
      },
      "text/plain": [
       "  0%|          | 0/1 [00:00<?, ?it/s]"
      ]
     },
     "metadata": {},
     "output_type": "display_data"
    },
    {
     "name": "stdout",
     "output_type": "stream",
     "text": [
      "Epoch:  0  Threshold:  0.5 Mean Validation DICE Score: 0.9763022434253953\n",
      "Start Train ...\n"
     ]
    },
    {
     "data": {
      "application/vnd.jupyter.widget-view+json": {
       "model_id": "ae8e5739ad8b4e90b3badb81fcb3a3ed",
       "version_major": 2,
       "version_minor": 0
      },
      "text/plain": [
       "  0%|          | 0/16 [00:00<?, ?it/s]"
      ]
     },
     "metadata": {},
     "output_type": "display_data"
    },
    {
     "name": "stdout",
     "output_type": "stream",
     "text": [
      "Epoch [1] Mean loss on train: 0.13739752769470215 Mean DICE on train: 0.954147396394152 Learning Rate: 2.5500000000000003e-05\n",
      "Start Validation ...\n"
     ]
    },
    {
     "data": {
      "application/vnd.jupyter.widget-view+json": {
       "model_id": "6e999f4ddfb64f9dbf7fd7a0540787be",
       "version_major": 2,
       "version_minor": 0
      },
      "text/plain": [
       "  0%|          | 0/1 [00:00<?, ?it/s]"
      ]
     },
     "metadata": {},
     "output_type": "display_data"
    },
    {
     "name": "stdout",
     "output_type": "stream",
     "text": [
      "Epoch:  1  Threshold:  0.5 Mean Validation DICE Score: 0.9751366282607526\n",
      "Start Train ...\n"
     ]
    },
    {
     "data": {
      "application/vnd.jupyter.widget-view+json": {
       "model_id": "670a0d352dc34f849e82fdee22a419a9",
       "version_major": 2,
       "version_minor": 0
      },
      "text/plain": [
       "  0%|          | 0/16 [00:00<?, ?it/s]"
      ]
     },
     "metadata": {},
     "output_type": "display_data"
    },
    {
     "name": "stdout",
     "output_type": "stream",
     "text": [
      "Epoch [2] Mean loss on train: 0.15524970646947622 Mean DICE on train: 0.9477779229595062 Learning Rate: 8.175883860929588e-06\n",
      "Start Validation ...\n"
     ]
    },
    {
     "data": {
      "application/vnd.jupyter.widget-view+json": {
       "model_id": "b9c99923a5094181be343359af318e66",
       "version_major": 2,
       "version_minor": 0
      },
      "text/plain": [
       "  0%|          | 0/1 [00:00<?, ?it/s]"
      ]
     },
     "metadata": {},
     "output_type": "display_data"
    },
    {
     "name": "stdout",
     "output_type": "stream",
     "text": [
      "Epoch:  2  Threshold:  0.5 Mean Validation DICE Score: 0.9738868410610879\n",
      "Start Train ...\n"
     ]
    },
    {
     "data": {
      "application/vnd.jupyter.widget-view+json": {
       "model_id": "2f58dd10637549a996acc6dc58205ff6",
       "version_major": 2,
       "version_minor": 0
      },
      "text/plain": [
       "  0%|          | 0/16 [00:00<?, ?it/s]"
      ]
     },
     "metadata": {},
     "output_type": "display_data"
    },
    {
     "name": "stdout",
     "output_type": "stream",
     "text": [
      "Epoch [3] Mean loss on train: 0.13651248114183545 Mean DICE on train: 0.9544591392231361 Learning Rate: 1e-06\n",
      "Start Validation ...\n"
     ]
    },
    {
     "data": {
      "application/vnd.jupyter.widget-view+json": {
       "model_id": "26225c4fff464e9da71133606ffcf91b",
       "version_major": 2,
       "version_minor": 0
      },
      "text/plain": [
       "  0%|          | 0/1 [00:00<?, ?it/s]"
      ]
     },
     "metadata": {},
     "output_type": "display_data"
    },
    {
     "name": "stdout",
     "output_type": "stream",
     "text": [
      "Epoch:  3  Threshold:  0.5 Mean Validation DICE Score: 0.9751833098842712\n",
      "Start Train ...\n"
     ]
    },
    {
     "data": {
      "application/vnd.jupyter.widget-view+json": {
       "model_id": "e617a79075434ff8a1605e0d53d2f7f3",
       "version_major": 2,
       "version_minor": 0
      },
      "text/plain": [
       "  0%|          | 0/16 [00:00<?, ?it/s]"
      ]
     },
     "metadata": {},
     "output_type": "display_data"
    },
    {
     "name": "stdout",
     "output_type": "stream",
     "text": [
      "Epoch [4] Mean loss on train: 0.1463424782268703 Mean DICE on train: 0.9513713399076797 Learning Rate: 8.175883860929586e-06\n",
      "Start Validation ...\n"
     ]
    },
    {
     "data": {
      "application/vnd.jupyter.widget-view+json": {
       "model_id": "3a015c0be68e46fd92bdadb7331cd3dd",
       "version_major": 2,
       "version_minor": 0
      },
      "text/plain": [
       "  0%|          | 0/1 [00:00<?, ?it/s]"
      ]
     },
     "metadata": {},
     "output_type": "display_data"
    },
    {
     "name": "stdout",
     "output_type": "stream",
     "text": [
      "Epoch:  4  Threshold:  0.5 Mean Validation DICE Score: 0.9757315961791609\n",
      "Start Train ...\n"
     ]
    },
    {
     "data": {
      "application/vnd.jupyter.widget-view+json": {
       "model_id": "b3983a3f392345cc8dc60be85ece8d77",
       "version_major": 2,
       "version_minor": 0
      },
      "text/plain": [
       "  0%|          | 0/16 [00:00<?, ?it/s]"
      ]
     },
     "metadata": {},
     "output_type": "display_data"
    },
    {
     "name": "stdout",
     "output_type": "stream",
     "text": [
      "Epoch [5] Mean loss on train: 0.13453763537108898 Mean DICE on train: 0.9542417240667462 Learning Rate: 2.550000000000001e-05\n",
      "Start Validation ...\n"
     ]
    },
    {
     "data": {
      "application/vnd.jupyter.widget-view+json": {
       "model_id": "49bbd3f708d74becb74c9feca73e62d6",
       "version_major": 2,
       "version_minor": 0
      },
      "text/plain": [
       "  0%|          | 0/1 [00:00<?, ?it/s]"
      ]
     },
     "metadata": {},
     "output_type": "display_data"
    },
    {
     "name": "stdout",
     "output_type": "stream",
     "text": [
      "Epoch:  5  Threshold:  0.5 Mean Validation DICE Score: 0.9767255056669448\n",
      "Start Train ...\n"
     ]
    },
    {
     "data": {
      "application/vnd.jupyter.widget-view+json": {
       "model_id": "7f646c975dad41c8b2f4d96b33c7c9e5",
       "version_major": 2,
       "version_minor": 0
      },
      "text/plain": [
       "  0%|          | 0/16 [00:00<?, ?it/s]"
      ]
     },
     "metadata": {},
     "output_type": "display_data"
    },
    {
     "name": "stdout",
     "output_type": "stream",
     "text": [
      "Epoch [6] Mean loss on train: 0.13373737270012498 Mean DICE on train: 0.9544768968240691 Learning Rate: 4.2824116139070436e-05\n",
      "Start Validation ...\n"
     ]
    },
    {
     "data": {
      "application/vnd.jupyter.widget-view+json": {
       "model_id": "59937c95c3f046a09bbd5eb16e352870",
       "version_major": 2,
       "version_minor": 0
      },
      "text/plain": [
       "  0%|          | 0/1 [00:00<?, ?it/s]"
      ]
     },
     "metadata": {},
     "output_type": "display_data"
    },
    {
     "name": "stdout",
     "output_type": "stream",
     "text": [
      "Epoch:  6  Threshold:  0.5 Mean Validation DICE Score: 0.9766551551778979\n",
      "Start Train ...\n"
     ]
    },
    {
     "data": {
      "application/vnd.jupyter.widget-view+json": {
       "model_id": "305bdfa1431b41bf82bdcf68c1d11e13",
       "version_major": 2,
       "version_minor": 0
      },
      "text/plain": [
       "  0%|          | 0/16 [00:00<?, ?it/s]"
      ]
     },
     "metadata": {},
     "output_type": "display_data"
    },
    {
     "name": "stdout",
     "output_type": "stream",
     "text": [
      "Epoch [7] Mean loss on train: 0.12580436002463102 Mean DICE on train: 0.956992235287762 Learning Rate: 5.000000000000003e-05\n",
      "Start Validation ...\n"
     ]
    },
    {
     "data": {
      "application/vnd.jupyter.widget-view+json": {
       "model_id": "a16a7f9993804c768c62891be3e6dc24",
       "version_major": 2,
       "version_minor": 0
      },
      "text/plain": [
       "  0%|          | 0/1 [00:00<?, ?it/s]"
      ]
     },
     "metadata": {},
     "output_type": "display_data"
    },
    {
     "name": "stdout",
     "output_type": "stream",
     "text": [
      "Epoch:  7  Threshold:  0.5 Mean Validation DICE Score: 0.9757898542267414\n",
      "Start Train ...\n"
     ]
    },
    {
     "data": {
      "application/vnd.jupyter.widget-view+json": {
       "model_id": "bb096ae7929543dfa3ae55f7d16adad1",
       "version_major": 2,
       "version_minor": 0
      },
      "text/plain": [
       "  0%|          | 0/16 [00:00<?, ?it/s]"
      ]
     },
     "metadata": {},
     "output_type": "display_data"
    },
    {
     "name": "stdout",
     "output_type": "stream",
     "text": [
      "Epoch [8] Mean loss on train: 0.13126074336469173 Mean DICE on train: 0.9562891081359035 Learning Rate: 4.282411613907044e-05\n",
      "Start Validation ...\n"
     ]
    },
    {
     "data": {
      "application/vnd.jupyter.widget-view+json": {
       "model_id": "5a3a03548dbd4c03b2882f2eaf0bd313",
       "version_major": 2,
       "version_minor": 0
      },
      "text/plain": [
       "  0%|          | 0/1 [00:00<?, ?it/s]"
      ]
     },
     "metadata": {},
     "output_type": "display_data"
    },
    {
     "name": "stdout",
     "output_type": "stream",
     "text": [
      "Epoch:  8  Threshold:  0.5 Mean Validation DICE Score: 0.9732579191870991\n",
      "Start Train ...\n"
     ]
    },
    {
     "data": {
      "application/vnd.jupyter.widget-view+json": {
       "model_id": "8bdd8c723ef945de8d5dcef6aa1f98cb",
       "version_major": 2,
       "version_minor": 0
      },
      "text/plain": [
       "  0%|          | 0/16 [00:00<?, ?it/s]"
      ]
     },
     "metadata": {},
     "output_type": "display_data"
    },
    {
     "name": "stdout",
     "output_type": "stream",
     "text": [
      "Epoch [9] Mean loss on train: 0.13392759999260306 Mean DICE on train: 0.9545317098974355 Learning Rate: 2.5500000000000024e-05\n",
      "Start Validation ...\n"
     ]
    },
    {
     "data": {
      "application/vnd.jupyter.widget-view+json": {
       "model_id": "98d82d4890df48799f42203d77a7788c",
       "version_major": 2,
       "version_minor": 0
      },
      "text/plain": [
       "  0%|          | 0/1 [00:00<?, ?it/s]"
      ]
     },
     "metadata": {},
     "output_type": "display_data"
    },
    {
     "name": "stdout",
     "output_type": "stream",
     "text": [
      "Epoch:  9  Threshold:  0.5 Mean Validation DICE Score: 0.9759748197900713\n",
      "Start Train ...\n"
     ]
    },
    {
     "data": {
      "application/vnd.jupyter.widget-view+json": {
       "model_id": "1f125918ba384d3d80b691f6051dfb2b",
       "version_major": 2,
       "version_minor": 0
      },
      "text/plain": [
       "  0%|          | 0/16 [00:00<?, ?it/s]"
      ]
     },
     "metadata": {},
     "output_type": "display_data"
    },
    {
     "name": "stdout",
     "output_type": "stream",
     "text": [
      "Epoch [10] Mean loss on train: 0.13676964957267046 Mean DICE on train: 0.9529361499831455 Learning Rate: 8.175883860929611e-06\n",
      "Start Validation ...\n"
     ]
    },
    {
     "data": {
      "application/vnd.jupyter.widget-view+json": {
       "model_id": "203955cb48624bdaa84c9e51e6e6e41f",
       "version_major": 2,
       "version_minor": 0
      },
      "text/plain": [
       "  0%|          | 0/1 [00:00<?, ?it/s]"
      ]
     },
     "metadata": {},
     "output_type": "display_data"
    },
    {
     "name": "stdout",
     "output_type": "stream",
     "text": [
      "Epoch:  10  Threshold:  0.5 Mean Validation DICE Score: 0.9752605153334287\n",
      "Start Train ...\n"
     ]
    },
    {
     "data": {
      "application/vnd.jupyter.widget-view+json": {
       "model_id": "b038ee70a05147f6a1519eb861703468",
       "version_major": 2,
       "version_minor": 0
      },
      "text/plain": [
       "  0%|          | 0/16 [00:00<?, ?it/s]"
      ]
     },
     "metadata": {},
     "output_type": "display_data"
    },
    {
     "name": "stdout",
     "output_type": "stream",
     "text": [
      "Epoch [11] Mean loss on train: 0.13580289809033275 Mean DICE on train: 0.9538123141926632 Learning Rate: 1e-06\n",
      "Start Validation ...\n"
     ]
    },
    {
     "data": {
      "application/vnd.jupyter.widget-view+json": {
       "model_id": "8d119bacd811404a8097ae7209cdcf5f",
       "version_major": 2,
       "version_minor": 0
      },
      "text/plain": [
       "  0%|          | 0/1 [00:00<?, ?it/s]"
      ]
     },
     "metadata": {},
     "output_type": "display_data"
    },
    {
     "name": "stdout",
     "output_type": "stream",
     "text": [
      "Epoch:  11  Threshold:  0.5 Mean Validation DICE Score: 0.9769754883944475\n",
      "Start Train ...\n"
     ]
    },
    {
     "data": {
      "application/vnd.jupyter.widget-view+json": {
       "model_id": "2b545fb8f8d84485a9b84f8cbba83085",
       "version_major": 2,
       "version_minor": 0
      },
      "text/plain": [
       "  0%|          | 0/16 [00:00<?, ?it/s]"
      ]
     },
     "metadata": {},
     "output_type": "display_data"
    },
    {
     "name": "stdout",
     "output_type": "stream",
     "text": [
      "Epoch [12] Mean loss on train: 0.12434931099414825 Mean DICE on train: 0.9575085656350908 Learning Rate: 8.175883860929586e-06\n",
      "Start Validation ...\n"
     ]
    },
    {
     "data": {
      "application/vnd.jupyter.widget-view+json": {
       "model_id": "701600414f9146238ff2237c71dc4086",
       "version_major": 2,
       "version_minor": 0
      },
      "text/plain": [
       "  0%|          | 0/1 [00:00<?, ?it/s]"
      ]
     },
     "metadata": {},
     "output_type": "display_data"
    },
    {
     "name": "stdout",
     "output_type": "stream",
     "text": [
      "Epoch:  12  Threshold:  0.5 Mean Validation DICE Score: 0.9770166665251611\n",
      "Start Train ...\n"
     ]
    },
    {
     "data": {
      "application/vnd.jupyter.widget-view+json": {
       "model_id": "f99337f8902a4c079e817fdf5f16de38",
       "version_major": 2,
       "version_minor": 0
      },
      "text/plain": [
       "  0%|          | 0/16 [00:00<?, ?it/s]"
      ]
     },
     "metadata": {},
     "output_type": "display_data"
    },
    {
     "name": "stdout",
     "output_type": "stream",
     "text": [
      "Epoch [13] Mean loss on train: 0.13195607718080282 Mean DICE on train: 0.9536822303646219 Learning Rate: 2.5499999999999956e-05\n",
      "Start Validation ...\n"
     ]
    },
    {
     "data": {
      "application/vnd.jupyter.widget-view+json": {
       "model_id": "c4be45130e7845b087e35ee74c2f5e73",
       "version_major": 2,
       "version_minor": 0
      },
      "text/plain": [
       "  0%|          | 0/1 [00:00<?, ?it/s]"
      ]
     },
     "metadata": {},
     "output_type": "display_data"
    },
    {
     "name": "stdout",
     "output_type": "stream",
     "text": [
      "Epoch:  13  Threshold:  0.5 Mean Validation DICE Score: 0.9775399431692502\n",
      "Start Train ...\n"
     ]
    },
    {
     "data": {
      "application/vnd.jupyter.widget-view+json": {
       "model_id": "8fb32f5f293f4c01a5a2bb2d1719dd8f",
       "version_major": 2,
       "version_minor": 0
      },
      "text/plain": [
       "  0%|          | 0/16 [00:00<?, ?it/s]"
      ]
     },
     "metadata": {},
     "output_type": "display_data"
    },
    {
     "name": "stdout",
     "output_type": "stream",
     "text": [
      "Epoch [14] Mean loss on train: 0.13430760940536857 Mean DICE on train: 0.9553828548329809 Learning Rate: 4.282411613907033e-05\n",
      "Start Validation ...\n"
     ]
    },
    {
     "data": {
      "application/vnd.jupyter.widget-view+json": {
       "model_id": "0063e47acad64722ba61c74b15b7fe5c",
       "version_major": 2,
       "version_minor": 0
      },
      "text/plain": [
       "  0%|          | 0/1 [00:00<?, ?it/s]"
      ]
     },
     "metadata": {},
     "output_type": "display_data"
    },
    {
     "name": "stdout",
     "output_type": "stream",
     "text": [
      "Epoch:  14  Threshold:  0.5 Mean Validation DICE Score: 0.9760360852303107\n",
      "Start Train ...\n"
     ]
    },
    {
     "data": {
      "application/vnd.jupyter.widget-view+json": {
       "model_id": "a25aa5c5d2bc47ef8501706e2da8fea8",
       "version_major": 2,
       "version_minor": 0
      },
      "text/plain": [
       "  0%|          | 0/16 [00:00<?, ?it/s]"
      ]
     },
     "metadata": {},
     "output_type": "display_data"
    },
    {
     "name": "stdout",
     "output_type": "stream",
     "text": [
      "Epoch [15] Mean loss on train: 0.13095926120877266 Mean DICE on train: 0.9556420990180609 Learning Rate: 4.999999999999993e-05\n",
      "Start Validation ...\n"
     ]
    },
    {
     "data": {
      "application/vnd.jupyter.widget-view+json": {
       "model_id": "264d3afe928947aeb1faf1b9f80b6142",
       "version_major": 2,
       "version_minor": 0
      },
      "text/plain": [
       "  0%|          | 0/1 [00:00<?, ?it/s]"
      ]
     },
     "metadata": {},
     "output_type": "display_data"
    },
    {
     "name": "stdout",
     "output_type": "stream",
     "text": [
      "Epoch:  15  Threshold:  0.5 Mean Validation DICE Score: 0.9753752200147332\n",
      "Start Train ...\n"
     ]
    },
    {
     "data": {
      "application/vnd.jupyter.widget-view+json": {
       "model_id": "726b2742c688476dae7969a7d4146fab",
       "version_major": 2,
       "version_minor": 0
      },
      "text/plain": [
       "  0%|          | 0/16 [00:00<?, ?it/s]"
      ]
     },
     "metadata": {},
     "output_type": "display_data"
    },
    {
     "name": "stdout",
     "output_type": "stream",
     "text": [
      "Epoch [16] Mean loss on train: 0.12558592995628715 Mean DICE on train: 0.9562702274973106 Learning Rate: 4.282411613907035e-05\n",
      "Start Validation ...\n"
     ]
    },
    {
     "data": {
      "application/vnd.jupyter.widget-view+json": {
       "model_id": "7e95998c3b1647a2bcfa9f405fdf3679",
       "version_major": 2,
       "version_minor": 0
      },
      "text/plain": [
       "  0%|          | 0/1 [00:00<?, ?it/s]"
      ]
     },
     "metadata": {},
     "output_type": "display_data"
    },
    {
     "name": "stdout",
     "output_type": "stream",
     "text": [
      "Epoch:  16  Threshold:  0.5 Mean Validation DICE Score: 0.9768431806572451\n",
      "Start Train ...\n"
     ]
    },
    {
     "data": {
      "application/vnd.jupyter.widget-view+json": {
       "model_id": "8b4b45b6e0894c22abda73c7f0d54a5b",
       "version_major": 2,
       "version_minor": 0
      },
      "text/plain": [
       "  0%|          | 0/16 [00:00<?, ?it/s]"
      ]
     },
     "metadata": {},
     "output_type": "display_data"
    },
    {
     "name": "stdout",
     "output_type": "stream",
     "text": [
      "Epoch [17] Mean loss on train: 0.12441185675561428 Mean DICE on train: 0.9576351279748847 Learning Rate: 2.5499999999999976e-05\n",
      "Start Validation ...\n"
     ]
    },
    {
     "data": {
      "application/vnd.jupyter.widget-view+json": {
       "model_id": "406fe24c33134942be3b91ec32263344",
       "version_major": 2,
       "version_minor": 0
      },
      "text/plain": [
       "  0%|          | 0/1 [00:00<?, ?it/s]"
      ]
     },
     "metadata": {},
     "output_type": "display_data"
    },
    {
     "name": "stdout",
     "output_type": "stream",
     "text": [
      "Epoch:  17  Threshold:  0.5 Mean Validation DICE Score: 0.9762716479377379\n",
      "Start Train ...\n"
     ]
    },
    {
     "data": {
      "application/vnd.jupyter.widget-view+json": {
       "model_id": "e969b4a16fa341cc9ca0da0e92af81c8",
       "version_major": 2,
       "version_minor": 0
      },
      "text/plain": [
       "  0%|          | 0/16 [00:00<?, ?it/s]"
      ]
     },
     "metadata": {},
     "output_type": "display_data"
    },
    {
     "name": "stdout",
     "output_type": "stream",
     "text": [
      "Epoch [18] Mean loss on train: 0.13793853530660272 Mean DICE on train: 0.9523190076439958 Learning Rate: 8.175883860929601e-06\n",
      "Start Validation ...\n"
     ]
    },
    {
     "data": {
      "application/vnd.jupyter.widget-view+json": {
       "model_id": "2affc543d7e741ccb5475ae4e68f2b20",
       "version_major": 2,
       "version_minor": 0
      },
      "text/plain": [
       "  0%|          | 0/1 [00:00<?, ?it/s]"
      ]
     },
     "metadata": {},
     "output_type": "display_data"
    },
    {
     "name": "stdout",
     "output_type": "stream",
     "text": [
      "Epoch:  18  Threshold:  0.5 Mean Validation DICE Score: 0.9769025193656103\n",
      "Start Train ...\n"
     ]
    },
    {
     "data": {
      "application/vnd.jupyter.widget-view+json": {
       "model_id": "6f54bd63223a44c180075ff2a8d5231d",
       "version_major": 2,
       "version_minor": 0
      },
      "text/plain": [
       "  0%|          | 0/16 [00:00<?, ?it/s]"
      ]
     },
     "metadata": {},
     "output_type": "display_data"
    },
    {
     "name": "stdout",
     "output_type": "stream",
     "text": [
      "Epoch [19] Mean loss on train: 0.12451504776254296 Mean DICE on train: 0.9585116916002069 Learning Rate: 1e-06\n",
      "Start Validation ...\n"
     ]
    },
    {
     "data": {
      "application/vnd.jupyter.widget-view+json": {
       "model_id": "3ccec6f7380e45d193db6c057c40ec35",
       "version_major": 2,
       "version_minor": 0
      },
      "text/plain": [
       "  0%|          | 0/1 [00:00<?, ?it/s]"
      ]
     },
     "metadata": {},
     "output_type": "display_data"
    },
    {
     "name": "stdout",
     "output_type": "stream",
     "text": [
      "Epoch:  19  Threshold:  0.5 Mean Validation DICE Score: 0.9773392414621199\n",
      "Start Train ...\n"
     ]
    },
    {
     "data": {
      "application/vnd.jupyter.widget-view+json": {
       "model_id": "e8c758677a7548a3b3c778289fdfa021",
       "version_major": 2,
       "version_minor": 0
      },
      "text/plain": [
       "  0%|          | 0/16 [00:00<?, ?it/s]"
      ]
     },
     "metadata": {},
     "output_type": "display_data"
    },
    {
     "name": "stdout",
     "output_type": "stream",
     "text": [
      "Epoch [20] Mean loss on train: 0.1296289162710309 Mean DICE on train: 0.9550246259066786 Learning Rate: 8.175883860929586e-06\n",
      "Start Validation ...\n"
     ]
    },
    {
     "data": {
      "application/vnd.jupyter.widget-view+json": {
       "model_id": "3e942f08d7d3470ebe637833b7c3779e",
       "version_major": 2,
       "version_minor": 0
      },
      "text/plain": [
       "  0%|          | 0/1 [00:00<?, ?it/s]"
      ]
     },
     "metadata": {},
     "output_type": "display_data"
    },
    {
     "name": "stdout",
     "output_type": "stream",
     "text": [
      "Epoch:  20  Threshold:  0.5 Mean Validation DICE Score: 0.9775835154542616\n",
      "Start Train ...\n"
     ]
    },
    {
     "data": {
      "application/vnd.jupyter.widget-view+json": {
       "model_id": "1b436fd4512b4ebd8c18a50a36dd66d4",
       "version_major": 2,
       "version_minor": 0
      },
      "text/plain": [
       "  0%|          | 0/16 [00:00<?, ?it/s]"
      ]
     },
     "metadata": {},
     "output_type": "display_data"
    },
    {
     "name": "stdout",
     "output_type": "stream",
     "text": [
      "Epoch [21] Mean loss on train: 0.13573100976645947 Mean DICE on train: 0.9549408341150973 Learning Rate: 2.549999999999993e-05\n",
      "Start Validation ...\n"
     ]
    },
    {
     "data": {
      "application/vnd.jupyter.widget-view+json": {
       "model_id": "67ea6e2a93074137b6673cd1ffa1a8ed",
       "version_major": 2,
       "version_minor": 0
      },
      "text/plain": [
       "  0%|          | 0/1 [00:00<?, ?it/s]"
      ]
     },
     "metadata": {},
     "output_type": "display_data"
    },
    {
     "name": "stdout",
     "output_type": "stream",
     "text": [
      "Epoch:  21  Threshold:  0.5 Mean Validation DICE Score: 0.9776974934100439\n",
      "Start Train ...\n"
     ]
    },
    {
     "data": {
      "application/vnd.jupyter.widget-view+json": {
       "model_id": "07e20142c82242e99bc3e1e34e394241",
       "version_major": 2,
       "version_minor": 0
      },
      "text/plain": [
       "  0%|          | 0/16 [00:00<?, ?it/s]"
      ]
     },
     "metadata": {},
     "output_type": "display_data"
    },
    {
     "name": "stdout",
     "output_type": "stream",
     "text": [
      "Epoch [22] Mean loss on train: 0.1422406188212335 Mean DICE on train: 0.9535694362124307 Learning Rate: 4.282411613907036e-05\n",
      "Start Validation ...\n"
     ]
    },
    {
     "data": {
      "application/vnd.jupyter.widget-view+json": {
       "model_id": "90de8c892d5647e0abea91e871c036e4",
       "version_major": 2,
       "version_minor": 0
      },
      "text/plain": [
       "  0%|          | 0/1 [00:00<?, ?it/s]"
      ]
     },
     "metadata": {},
     "output_type": "display_data"
    },
    {
     "name": "stdout",
     "output_type": "stream",
     "text": [
      "Epoch:  22  Threshold:  0.5 Mean Validation DICE Score: 0.9771238588147262\n",
      "Start Train ...\n"
     ]
    },
    {
     "data": {
      "application/vnd.jupyter.widget-view+json": {
       "model_id": "9297aca5303f4a4b97cd5726fa65fcf5",
       "version_major": 2,
       "version_minor": 0
      },
      "text/plain": [
       "  0%|          | 0/16 [00:00<?, ?it/s]"
      ]
     },
     "metadata": {},
     "output_type": "display_data"
    },
    {
     "name": "stdout",
     "output_type": "stream",
     "text": [
      "Epoch [23] Mean loss on train: 0.12067104270681739 Mean DICE on train: 0.9596057399918986 Learning Rate: 4.999999999999997e-05\n",
      "Start Validation ...\n"
     ]
    },
    {
     "data": {
      "application/vnd.jupyter.widget-view+json": {
       "model_id": "da7f9929c6ba4d18a07e46612b13e447",
       "version_major": 2,
       "version_minor": 0
      },
      "text/plain": [
       "  0%|          | 0/1 [00:00<?, ?it/s]"
      ]
     },
     "metadata": {},
     "output_type": "display_data"
    },
    {
     "name": "stdout",
     "output_type": "stream",
     "text": [
      "Epoch:  23  Threshold:  0.5 Mean Validation DICE Score: 0.9766787645987205\n",
      "Start Train ...\n"
     ]
    },
    {
     "data": {
      "application/vnd.jupyter.widget-view+json": {
       "model_id": "5fc43760b71f4317b326650d35bc4e7b",
       "version_major": 2,
       "version_minor": 0
      },
      "text/plain": [
       "  0%|          | 0/16 [00:00<?, ?it/s]"
      ]
     },
     "metadata": {},
     "output_type": "display_data"
    },
    {
     "name": "stdout",
     "output_type": "stream",
     "text": [
      "Epoch [24] Mean loss on train: 0.12115800566971302 Mean DICE on train: 0.9582236609244044 Learning Rate: 4.282411613907039e-05\n",
      "Start Validation ...\n"
     ]
    },
    {
     "data": {
      "application/vnd.jupyter.widget-view+json": {
       "model_id": "bc5ece2924d54c5091a8c452b2a8beb2",
       "version_major": 2,
       "version_minor": 0
      },
      "text/plain": [
       "  0%|          | 0/1 [00:00<?, ?it/s]"
      ]
     },
     "metadata": {},
     "output_type": "display_data"
    },
    {
     "name": "stdout",
     "output_type": "stream",
     "text": [
      "Epoch:  24  Threshold:  0.5 Mean Validation DICE Score: 0.9760572532934991\n",
      "Start Train ...\n"
     ]
    },
    {
     "data": {
      "application/vnd.jupyter.widget-view+json": {
       "model_id": "ece934479c5e49f395344029dbd93f4e",
       "version_major": 2,
       "version_minor": 0
      },
      "text/plain": [
       "  0%|          | 0/16 [00:00<?, ?it/s]"
      ]
     },
     "metadata": {},
     "output_type": "display_data"
    },
    {
     "name": "stdout",
     "output_type": "stream",
     "text": [
      "Epoch [25] Mean loss on train: 0.14616559725254774 Mean DICE on train: 0.9522237668361346 Learning Rate: 2.5499999999999966e-05\n",
      "Start Validation ...\n"
     ]
    },
    {
     "data": {
      "application/vnd.jupyter.widget-view+json": {
       "model_id": "d3a7e1bc112b409e8e2a18a92ed7507d",
       "version_major": 2,
       "version_minor": 0
      },
      "text/plain": [
       "  0%|          | 0/1 [00:00<?, ?it/s]"
      ]
     },
     "metadata": {},
     "output_type": "display_data"
    },
    {
     "name": "stdout",
     "output_type": "stream",
     "text": [
      "Epoch:  25  Threshold:  0.5 Mean Validation DICE Score: 0.9731492875060339\n",
      "Start Train ...\n"
     ]
    },
    {
     "data": {
      "application/vnd.jupyter.widget-view+json": {
       "model_id": "cd9923da7a0b43d0adc15bf8cf15833a",
       "version_major": 2,
       "version_minor": 0
      },
      "text/plain": [
       "  0%|          | 0/16 [00:00<?, ?it/s]"
      ]
     },
     "metadata": {},
     "output_type": "display_data"
    },
    {
     "name": "stdout",
     "output_type": "stream",
     "text": [
      "Epoch [26] Mean loss on train: 0.14457730948925018 Mean DICE on train: 0.9524690602496227 Learning Rate: 8.175883860929611e-06\n",
      "Start Validation ...\n"
     ]
    },
    {
     "data": {
      "application/vnd.jupyter.widget-view+json": {
       "model_id": "e2273327a2184edabfd3280fe842f64b",
       "version_major": 2,
       "version_minor": 0
      },
      "text/plain": [
       "  0%|          | 0/1 [00:00<?, ?it/s]"
      ]
     },
     "metadata": {},
     "output_type": "display_data"
    },
    {
     "name": "stdout",
     "output_type": "stream",
     "text": [
      "Epoch:  26  Threshold:  0.5 Mean Validation DICE Score: 0.9763170886522322\n",
      "Start Train ...\n"
     ]
    },
    {
     "data": {
      "application/vnd.jupyter.widget-view+json": {
       "model_id": "0417e928431649d2be24b5947622a120",
       "version_major": 2,
       "version_minor": 0
      },
      "text/plain": [
       "  0%|          | 0/16 [00:00<?, ?it/s]"
      ]
     },
     "metadata": {},
     "output_type": "display_data"
    },
    {
     "name": "stdout",
     "output_type": "stream",
     "text": [
      "Epoch [27] Mean loss on train: 0.12673014122992754 Mean DICE on train: 0.9561918555170139 Learning Rate: 1e-06\n",
      "Start Validation ...\n"
     ]
    },
    {
     "data": {
      "application/vnd.jupyter.widget-view+json": {
       "model_id": "b40514bc67494e81946ff00061d50390",
       "version_major": 2,
       "version_minor": 0
      },
      "text/plain": [
       "  0%|          | 0/1 [00:00<?, ?it/s]"
      ]
     },
     "metadata": {},
     "output_type": "display_data"
    },
    {
     "name": "stdout",
     "output_type": "stream",
     "text": [
      "Epoch:  27  Threshold:  0.5 Mean Validation DICE Score: 0.9766261869848094\n",
      "Start Train ...\n"
     ]
    },
    {
     "data": {
      "application/vnd.jupyter.widget-view+json": {
       "model_id": "59228c6c7cfb4502851cba32bcea4076",
       "version_major": 2,
       "version_minor": 0
      },
      "text/plain": [
       "  0%|          | 0/16 [00:00<?, ?it/s]"
      ]
     },
     "metadata": {},
     "output_type": "display_data"
    },
    {
     "name": "stdout",
     "output_type": "stream",
     "text": [
      "Epoch [28] Mean loss on train: 0.1223988295532763 Mean DICE on train: 0.9578742529228299 Learning Rate: 8.175883860929586e-06\n",
      "Start Validation ...\n"
     ]
    },
    {
     "data": {
      "application/vnd.jupyter.widget-view+json": {
       "model_id": "811ee92143844026a88e35b10f1e860f",
       "version_major": 2,
       "version_minor": 0
      },
      "text/plain": [
       "  0%|          | 0/1 [00:00<?, ?it/s]"
      ]
     },
     "metadata": {},
     "output_type": "display_data"
    },
    {
     "name": "stdout",
     "output_type": "stream",
     "text": [
      "Epoch:  28  Threshold:  0.5 Mean Validation DICE Score: 0.9767338635102645\n",
      "Start Train ...\n"
     ]
    },
    {
     "data": {
      "application/vnd.jupyter.widget-view+json": {
       "model_id": "45af8dd5ea2b4aa59a027c6633ea9cd3",
       "version_major": 2,
       "version_minor": 0
      },
      "text/plain": [
       "  0%|          | 0/16 [00:00<?, ?it/s]"
      ]
     },
     "metadata": {},
     "output_type": "display_data"
    },
    {
     "name": "stdout",
     "output_type": "stream",
     "text": [
      "Epoch [29] Mean loss on train: 0.12101828726008534 Mean DICE on train: 0.9596056275559068 Learning Rate: 2.5499999999999942e-05\n",
      "Start Validation ...\n"
     ]
    },
    {
     "data": {
      "application/vnd.jupyter.widget-view+json": {
       "model_id": "d761736ad75a464e8a19823ffcc330f5",
       "version_major": 2,
       "version_minor": 0
      },
      "text/plain": [
       "  0%|          | 0/1 [00:00<?, ?it/s]"
      ]
     },
     "metadata": {},
     "output_type": "display_data"
    },
    {
     "name": "stdout",
     "output_type": "stream",
     "text": [
      "Epoch:  29  Threshold:  0.5 Mean Validation DICE Score: 0.9776475688295645\n",
      "Start Train ...\n"
     ]
    },
    {
     "data": {
      "application/vnd.jupyter.widget-view+json": {
       "model_id": "73efc440d84e4b76a9ef0c3c72898718",
       "version_major": 2,
       "version_minor": 0
      },
      "text/plain": [
       "  0%|          | 0/16 [00:00<?, ?it/s]"
      ]
     },
     "metadata": {},
     "output_type": "display_data"
    },
    {
     "name": "stdout",
     "output_type": "stream",
     "text": [
      "Epoch [30] Mean loss on train: 0.12045997427776456 Mean DICE on train: 0.9587488741028775 Learning Rate: 4.282411613907039e-05\n",
      "Start Validation ...\n"
     ]
    },
    {
     "data": {
      "application/vnd.jupyter.widget-view+json": {
       "model_id": "422f73009d7f4817a5516523b371517d",
       "version_major": 2,
       "version_minor": 0
      },
      "text/plain": [
       "  0%|          | 0/1 [00:00<?, ?it/s]"
      ]
     },
     "metadata": {},
     "output_type": "display_data"
    },
    {
     "name": "stdout",
     "output_type": "stream",
     "text": [
      "Epoch:  30  Threshold:  0.5 Mean Validation DICE Score: 0.9766993338183478\n",
      "Start Train ...\n"
     ]
    },
    {
     "data": {
      "application/vnd.jupyter.widget-view+json": {
       "model_id": "b044252ffd84416eabbd5d30a306061b",
       "version_major": 2,
       "version_minor": 0
      },
      "text/plain": [
       "  0%|          | 0/16 [00:00<?, ?it/s]"
      ]
     },
     "metadata": {},
     "output_type": "display_data"
    },
    {
     "name": "stdout",
     "output_type": "stream",
     "text": [
      "Epoch [31] Mean loss on train: 0.13646296504884958 Mean DICE on train: 0.9529729109233007 Learning Rate: 5.000000000000001e-05\n",
      "Start Validation ...\n"
     ]
    },
    {
     "data": {
      "application/vnd.jupyter.widget-view+json": {
       "model_id": "0e448bf4091d40c4a7c7bf13d9bb8bc8",
       "version_major": 2,
       "version_minor": 0
      },
      "text/plain": [
       "  0%|          | 0/1 [00:00<?, ?it/s]"
      ]
     },
     "metadata": {},
     "output_type": "display_data"
    },
    {
     "name": "stdout",
     "output_type": "stream",
     "text": [
      "Epoch:  31  Threshold:  0.5 Mean Validation DICE Score: 0.9754255432736346\n",
      "Start Train ...\n"
     ]
    },
    {
     "data": {
      "application/vnd.jupyter.widget-view+json": {
       "model_id": "027b8cf977d1402a9fbd43ab7dcd7256",
       "version_major": 2,
       "version_minor": 0
      },
      "text/plain": [
       "  0%|          | 0/16 [00:00<?, ?it/s]"
      ]
     },
     "metadata": {},
     "output_type": "display_data"
    },
    {
     "name": "stdout",
     "output_type": "stream",
     "text": [
      "Epoch [32] Mean loss on train: 0.12269141804426908 Mean DICE on train: 0.9589189247797307 Learning Rate: 4.282411613907042e-05\n",
      "Start Validation ...\n"
     ]
    },
    {
     "data": {
      "application/vnd.jupyter.widget-view+json": {
       "model_id": "a7f9e9b8dddc424a99ac14135ba44ac5",
       "version_major": 2,
       "version_minor": 0
      },
      "text/plain": [
       "  0%|          | 0/1 [00:00<?, ?it/s]"
      ]
     },
     "metadata": {},
     "output_type": "display_data"
    },
    {
     "name": "stdout",
     "output_type": "stream",
     "text": [
      "Epoch:  32  Threshold:  0.5 Mean Validation DICE Score: 0.977085164671042\n",
      "Start Train ...\n"
     ]
    },
    {
     "data": {
      "application/vnd.jupyter.widget-view+json": {
       "model_id": "670e404534df46ca95d50ccb8a735223",
       "version_major": 2,
       "version_minor": 0
      },
      "text/plain": [
       "  0%|          | 0/16 [00:00<?, ?it/s]"
      ]
     },
     "metadata": {},
     "output_type": "display_data"
    },
    {
     "name": "stdout",
     "output_type": "stream",
     "text": [
      "Epoch [33] Mean loss on train: 0.12306491238996387 Mean DICE on train: 0.9584520568084746 Learning Rate: 2.549999999999999e-05\n",
      "Start Validation ...\n"
     ]
    },
    {
     "data": {
      "application/vnd.jupyter.widget-view+json": {
       "model_id": "99113eaf61d040a08bbbb4018da98cde",
       "version_major": 2,
       "version_minor": 0
      },
      "text/plain": [
       "  0%|          | 0/1 [00:00<?, ?it/s]"
      ]
     },
     "metadata": {},
     "output_type": "display_data"
    },
    {
     "name": "stdout",
     "output_type": "stream",
     "text": [
      "Epoch:  33  Threshold:  0.5 Mean Validation DICE Score: 0.9760688720677678\n",
      "Start Train ...\n"
     ]
    },
    {
     "data": {
      "application/vnd.jupyter.widget-view+json": {
       "model_id": "060236d4a57d460491927c112f827c75",
       "version_major": 2,
       "version_minor": 0
      },
      "text/plain": [
       "  0%|          | 0/16 [00:00<?, ?it/s]"
      ]
     },
     "metadata": {},
     "output_type": "display_data"
    },
    {
     "name": "stdout",
     "output_type": "stream",
     "text": [
      "Epoch [34] Mean loss on train: 0.12389121111482382 Mean DICE on train: 0.9565540328160091 Learning Rate: 8.175883860929621e-06\n",
      "Start Validation ...\n"
     ]
    },
    {
     "data": {
      "application/vnd.jupyter.widget-view+json": {
       "model_id": "46ba03b2b82c4899a9ada17d891d6222",
       "version_major": 2,
       "version_minor": 0
      },
      "text/plain": [
       "  0%|          | 0/1 [00:00<?, ?it/s]"
      ]
     },
     "metadata": {},
     "output_type": "display_data"
    },
    {
     "name": "stdout",
     "output_type": "stream",
     "text": [
      "Epoch:  34  Threshold:  0.5 Mean Validation DICE Score: 0.9764368468877783\n",
      "Start Train ...\n"
     ]
    },
    {
     "data": {
      "application/vnd.jupyter.widget-view+json": {
       "model_id": "bd24df84b92e4a9d8ed5c24391420310",
       "version_major": 2,
       "version_minor": 0
      },
      "text/plain": [
       "  0%|          | 0/16 [00:00<?, ?it/s]"
      ]
     },
     "metadata": {},
     "output_type": "display_data"
    },
    {
     "name": "stdout",
     "output_type": "stream",
     "text": [
      "Epoch [35] Mean loss on train: 0.14011522009968758 Mean DICE on train: 0.952225375497858 Learning Rate: 1e-06\n",
      "Start Validation ...\n"
     ]
    },
    {
     "data": {
      "application/vnd.jupyter.widget-view+json": {
       "model_id": "d2b6c1968d1a4186b96840c477e3d959",
       "version_major": 2,
       "version_minor": 0
      },
      "text/plain": [
       "  0%|          | 0/1 [00:00<?, ?it/s]"
      ]
     },
     "metadata": {},
     "output_type": "display_data"
    },
    {
     "name": "stdout",
     "output_type": "stream",
     "text": [
      "Epoch:  35  Threshold:  0.5 Mean Validation DICE Score: 0.976968244051237\n",
      "Start Train ...\n"
     ]
    },
    {
     "data": {
      "application/vnd.jupyter.widget-view+json": {
       "model_id": "8c4d1a0c38b041d5a88d977a426b76a9",
       "version_major": 2,
       "version_minor": 0
      },
      "text/plain": [
       "  0%|          | 0/16 [00:00<?, ?it/s]"
      ]
     },
     "metadata": {},
     "output_type": "display_data"
    },
    {
     "name": "stdout",
     "output_type": "stream",
     "text": [
      "Epoch [36] Mean loss on train: 0.12221209658309817 Mean DICE on train: 0.958463537183499 Learning Rate: 8.175883860929586e-06\n",
      "Start Validation ...\n"
     ]
    },
    {
     "data": {
      "application/vnd.jupyter.widget-view+json": {
       "model_id": "52bbb115f6534483b0531f5bb508bcba",
       "version_major": 2,
       "version_minor": 0
      },
      "text/plain": [
       "  0%|          | 0/1 [00:00<?, ?it/s]"
      ]
     },
     "metadata": {},
     "output_type": "display_data"
    },
    {
     "name": "stdout",
     "output_type": "stream",
     "text": [
      "Epoch:  36  Threshold:  0.5 Mean Validation DICE Score: 0.9768960449449656\n",
      "Start Train ...\n"
     ]
    },
    {
     "data": {
      "application/vnd.jupyter.widget-view+json": {
       "model_id": "687288798b1a475d8022bcc86a96c135",
       "version_major": 2,
       "version_minor": 0
      },
      "text/plain": [
       "  0%|          | 0/16 [00:00<?, ?it/s]"
      ]
     },
     "metadata": {},
     "output_type": "display_data"
    },
    {
     "name": "stdout",
     "output_type": "stream",
     "text": [
      "Epoch [37] Mean loss on train: 0.12985210306942463 Mean DICE on train: 0.9539046989441726 Learning Rate: 2.5499999999999946e-05\n",
      "Start Validation ...\n"
     ]
    },
    {
     "data": {
      "application/vnd.jupyter.widget-view+json": {
       "model_id": "97c73ffcb38246188526f3570dc62a01",
       "version_major": 2,
       "version_minor": 0
      },
      "text/plain": [
       "  0%|          | 0/1 [00:00<?, ?it/s]"
      ]
     },
     "metadata": {},
     "output_type": "display_data"
    },
    {
     "name": "stdout",
     "output_type": "stream",
     "text": [
      "Epoch:  37  Threshold:  0.5 Mean Validation DICE Score: 0.9765672179206205\n",
      "Start Train ...\n"
     ]
    },
    {
     "data": {
      "application/vnd.jupyter.widget-view+json": {
       "model_id": "c09bb587b8cb49799ae8bd3cb1975829",
       "version_major": 2,
       "version_minor": 0
      },
      "text/plain": [
       "  0%|          | 0/16 [00:00<?, ?it/s]"
      ]
     },
     "metadata": {},
     "output_type": "display_data"
    },
    {
     "name": "stdout",
     "output_type": "stream",
     "text": [
      "Epoch [38] Mean loss on train: 0.11989565240219235 Mean DICE on train: 0.9575925736940608 Learning Rate: 4.28241161390704e-05\n",
      "Start Validation ...\n"
     ]
    },
    {
     "data": {
      "application/vnd.jupyter.widget-view+json": {
       "model_id": "d566fb8e9f9944ab8cd9c2874cc1fedf",
       "version_major": 2,
       "version_minor": 0
      },
      "text/plain": [
       "  0%|          | 0/1 [00:00<?, ?it/s]"
      ]
     },
     "metadata": {},
     "output_type": "display_data"
    },
    {
     "name": "stdout",
     "output_type": "stream",
     "text": [
      "Epoch:  38  Threshold:  0.5 Mean Validation DICE Score: 0.9730351158874636\n",
      "Start Train ...\n"
     ]
    },
    {
     "data": {
      "application/vnd.jupyter.widget-view+json": {
       "model_id": "53b2e5eb6e27438081db7ff68d0a6cf6",
       "version_major": 2,
       "version_minor": 0
      },
      "text/plain": [
       "  0%|          | 0/16 [00:00<?, ?it/s]"
      ]
     },
     "metadata": {},
     "output_type": "display_data"
    },
    {
     "name": "stdout",
     "output_type": "stream",
     "text": [
      "Epoch [39] Mean loss on train: 0.14150184160098433 Mean DICE on train: 0.9499954007377445 Learning Rate: 5.000000000000002e-05\n",
      "Start Validation ...\n"
     ]
    },
    {
     "data": {
      "application/vnd.jupyter.widget-view+json": {
       "model_id": "0e39c9a2148e4e5ea17462382e33c0ea",
       "version_major": 2,
       "version_minor": 0
      },
      "text/plain": [
       "  0%|          | 0/1 [00:00<?, ?it/s]"
      ]
     },
     "metadata": {},
     "output_type": "display_data"
    },
    {
     "name": "stdout",
     "output_type": "stream",
     "text": [
      "Epoch:  39  Threshold:  0.5 Mean Validation DICE Score: 0.9753805460897086\n",
      "Start Train ...\n"
     ]
    },
    {
     "data": {
      "application/vnd.jupyter.widget-view+json": {
       "model_id": "9733783bb3e74a0abbd6b0a36cba263c",
       "version_major": 2,
       "version_minor": 0
      },
      "text/plain": [
       "  0%|          | 0/16 [00:00<?, ?it/s]"
      ]
     },
     "metadata": {},
     "output_type": "display_data"
    },
    {
     "name": "stdout",
     "output_type": "stream",
     "text": [
      "Epoch [40] Mean loss on train: 0.15588022815063596 Mean DICE on train: 0.9475305116093728 Learning Rate: 4.2824116139070504e-05\n",
      "Start Validation ...\n"
     ]
    },
    {
     "data": {
      "application/vnd.jupyter.widget-view+json": {
       "model_id": "fc14270695be4602adb19a8663031fe4",
       "version_major": 2,
       "version_minor": 0
      },
      "text/plain": [
       "  0%|          | 0/1 [00:00<?, ?it/s]"
      ]
     },
     "metadata": {},
     "output_type": "display_data"
    },
    {
     "name": "stdout",
     "output_type": "stream",
     "text": [
      "Epoch:  40  Threshold:  0.5 Mean Validation DICE Score: 0.9741727790901556\n",
      "Start Train ...\n"
     ]
    },
    {
     "data": {
      "application/vnd.jupyter.widget-view+json": {
       "model_id": "c949b50c357e477396017b6b5082e3a4",
       "version_major": 2,
       "version_minor": 0
      },
      "text/plain": [
       "  0%|          | 0/16 [00:00<?, ?it/s]"
      ]
     },
     "metadata": {},
     "output_type": "display_data"
    },
    {
     "name": "stdout",
     "output_type": "stream",
     "text": [
      "Epoch [41] Mean loss on train: 0.13710710918530822 Mean DICE on train: 0.9523641374680644 Learning Rate: 2.5500000000000003e-05\n",
      "Start Validation ...\n"
     ]
    },
    {
     "data": {
      "application/vnd.jupyter.widget-view+json": {
       "model_id": "0b17b3e6a32f4eb68e7db4b2b55855d9",
       "version_major": 2,
       "version_minor": 0
      },
      "text/plain": [
       "  0%|          | 0/1 [00:00<?, ?it/s]"
      ]
     },
     "metadata": {},
     "output_type": "display_data"
    },
    {
     "name": "stdout",
     "output_type": "stream",
     "text": [
      "Epoch:  41  Threshold:  0.5 Mean Validation DICE Score: 0.9740555766087295\n",
      "Start Train ...\n"
     ]
    },
    {
     "data": {
      "application/vnd.jupyter.widget-view+json": {
       "model_id": "b30575baff05434c942ad406a82f1abd",
       "version_major": 2,
       "version_minor": 0
      },
      "text/plain": [
       "  0%|          | 0/16 [00:00<?, ?it/s]"
      ]
     },
     "metadata": {},
     "output_type": "display_data"
    },
    {
     "name": "stdout",
     "output_type": "stream",
     "text": [
      "Epoch [42] Mean loss on train: 0.14685424463823438 Mean DICE on train: 0.9496888301798204 Learning Rate: 8.175883860929627e-06\n",
      "Start Validation ...\n"
     ]
    },
    {
     "data": {
      "application/vnd.jupyter.widget-view+json": {
       "model_id": "66b534ca8f9541e2845ee3a0f79a426e",
       "version_major": 2,
       "version_minor": 0
      },
      "text/plain": [
       "  0%|          | 0/1 [00:00<?, ?it/s]"
      ]
     },
     "metadata": {},
     "output_type": "display_data"
    },
    {
     "name": "stdout",
     "output_type": "stream",
     "text": [
      "Epoch:  42  Threshold:  0.5 Mean Validation DICE Score: 0.9749199694687796\n",
      "Start Train ...\n"
     ]
    },
    {
     "data": {
      "application/vnd.jupyter.widget-view+json": {
       "model_id": "f1c79639ebc84b62b7ef9ca9c9b329e4",
       "version_major": 2,
       "version_minor": 0
      },
      "text/plain": [
       "  0%|          | 0/16 [00:00<?, ?it/s]"
      ]
     },
     "metadata": {},
     "output_type": "display_data"
    },
    {
     "name": "stdout",
     "output_type": "stream",
     "text": [
      "Epoch [43] Mean loss on train: 0.1454450311139226 Mean DICE on train: 0.9502740277142782 Learning Rate: 1e-06\n",
      "Start Validation ...\n"
     ]
    },
    {
     "data": {
      "application/vnd.jupyter.widget-view+json": {
       "model_id": "5b77987695694b2fb4cd41ff84d71872",
       "version_major": 2,
       "version_minor": 0
      },
      "text/plain": [
       "  0%|          | 0/1 [00:00<?, ?it/s]"
      ]
     },
     "metadata": {},
     "output_type": "display_data"
    },
    {
     "name": "stdout",
     "output_type": "stream",
     "text": [
      "Epoch:  43  Threshold:  0.5 Mean Validation DICE Score: 0.9746337634912524\n",
      "Start Train ...\n"
     ]
    },
    {
     "data": {
      "application/vnd.jupyter.widget-view+json": {
       "model_id": "f8a38ba55d0c4b9493bdb085fe671841",
       "version_major": 2,
       "version_minor": 0
      },
      "text/plain": [
       "  0%|          | 0/16 [00:00<?, ?it/s]"
      ]
     },
     "metadata": {},
     "output_type": "display_data"
    },
    {
     "name": "stdout",
     "output_type": "stream",
     "text": [
      "Epoch [44] Mean loss on train: 0.12351977033540606 Mean DICE on train: 0.9579898430167579 Learning Rate: 8.175883860929586e-06\n",
      "Start Validation ...\n"
     ]
    },
    {
     "data": {
      "application/vnd.jupyter.widget-view+json": {
       "model_id": "6b4d31e5bdc44c7cb0dd77d53bd27ca6",
       "version_major": 2,
       "version_minor": 0
      },
      "text/plain": [
       "  0%|          | 0/1 [00:00<?, ?it/s]"
      ]
     },
     "metadata": {},
     "output_type": "display_data"
    },
    {
     "name": "stdout",
     "output_type": "stream",
     "text": [
      "Epoch:  44  Threshold:  0.5 Mean Validation DICE Score: 0.9748949125519784\n",
      "Start Train ...\n"
     ]
    },
    {
     "data": {
      "application/vnd.jupyter.widget-view+json": {
       "model_id": "c9cfaa89b8334366abcf9d458b4dac99",
       "version_major": 2,
       "version_minor": 0
      },
      "text/plain": [
       "  0%|          | 0/16 [00:00<?, ?it/s]"
      ]
     },
     "metadata": {},
     "output_type": "display_data"
    },
    {
     "name": "stdout",
     "output_type": "stream",
     "text": [
      "Epoch [45] Mean loss on train: 0.1403456423431635 Mean DICE on train: 0.9536208558609403 Learning Rate: 2.5499999999999956e-05\n",
      "Start Validation ...\n"
     ]
    },
    {
     "data": {
      "application/vnd.jupyter.widget-view+json": {
       "model_id": "3ad12b45a8904a80ad063883e097aec4",
       "version_major": 2,
       "version_minor": 0
      },
      "text/plain": [
       "  0%|          | 0/1 [00:00<?, ?it/s]"
      ]
     },
     "metadata": {},
     "output_type": "display_data"
    },
    {
     "name": "stdout",
     "output_type": "stream",
     "text": [
      "Epoch:  45  Threshold:  0.5 Mean Validation DICE Score: 0.9755783587908552\n",
      "Start Train ...\n"
     ]
    },
    {
     "data": {
      "application/vnd.jupyter.widget-view+json": {
       "model_id": "1fab7e239e4a4672b88332ce451a792f",
       "version_major": 2,
       "version_minor": 0
      },
      "text/plain": [
       "  0%|          | 0/16 [00:00<?, ?it/s]"
      ]
     },
     "metadata": {},
     "output_type": "display_data"
    },
    {
     "name": "stdout",
     "output_type": "stream",
     "text": [
      "Epoch [46] Mean loss on train: 0.13595411833375692 Mean DICE on train: 0.9537394633562607 Learning Rate: 4.282411613907049e-05\n",
      "Start Validation ...\n"
     ]
    },
    {
     "data": {
      "application/vnd.jupyter.widget-view+json": {
       "model_id": "4abe0f9f95704d13a6f131de0d2c98be",
       "version_major": 2,
       "version_minor": 0
      },
      "text/plain": [
       "  0%|          | 0/1 [00:00<?, ?it/s]"
      ]
     },
     "metadata": {},
     "output_type": "display_data"
    },
    {
     "name": "stdout",
     "output_type": "stream",
     "text": [
      "Epoch:  46  Threshold:  0.5 Mean Validation DICE Score: 0.9748880658736189\n",
      "Start Train ...\n"
     ]
    },
    {
     "data": {
      "application/vnd.jupyter.widget-view+json": {
       "model_id": "0784caf9181446ddae964ce8490864f8",
       "version_major": 2,
       "version_minor": 0
      },
      "text/plain": [
       "  0%|          | 0/16 [00:00<?, ?it/s]"
      ]
     },
     "metadata": {},
     "output_type": "display_data"
    },
    {
     "name": "stdout",
     "output_type": "stream",
     "text": [
      "Epoch [47] Mean loss on train: 0.14006620598956943 Mean DICE on train: 0.9530231491243981 Learning Rate: 5.000000000000006e-05\n",
      "Start Validation ...\n"
     ]
    },
    {
     "data": {
      "application/vnd.jupyter.widget-view+json": {
       "model_id": "0fccd3ebc0924d20a18ce2725a411965",
       "version_major": 2,
       "version_minor": 0
      },
      "text/plain": [
       "  0%|          | 0/1 [00:00<?, ?it/s]"
      ]
     },
     "metadata": {},
     "output_type": "display_data"
    },
    {
     "name": "stdout",
     "output_type": "stream",
     "text": [
      "Epoch:  47  Threshold:  0.5 Mean Validation DICE Score: 0.9736259900808953\n",
      "Start Train ...\n"
     ]
    },
    {
     "data": {
      "application/vnd.jupyter.widget-view+json": {
       "model_id": "ffa93b41bc3d4356aaac58f87388530e",
       "version_major": 2,
       "version_minor": 0
      },
      "text/plain": [
       "  0%|          | 0/16 [00:00<?, ?it/s]"
      ]
     },
     "metadata": {},
     "output_type": "display_data"
    },
    {
     "name": "stdout",
     "output_type": "stream",
     "text": [
      "Epoch [48] Mean loss on train: 0.13746919436380267 Mean DICE on train: 0.9522206061078513 Learning Rate: 4.2824116139070544e-05\n",
      "Start Validation ...\n"
     ]
    },
    {
     "data": {
      "application/vnd.jupyter.widget-view+json": {
       "model_id": "a3e6e9f4142d4dfe9d2ceb986ab2437a",
       "version_major": 2,
       "version_minor": 0
      },
      "text/plain": [
       "  0%|          | 0/1 [00:00<?, ?it/s]"
      ]
     },
     "metadata": {},
     "output_type": "display_data"
    },
    {
     "name": "stdout",
     "output_type": "stream",
     "text": [
      "Epoch:  48  Threshold:  0.5 Mean Validation DICE Score: 0.9750938598073834\n",
      "Start Train ...\n"
     ]
    },
    {
     "data": {
      "application/vnd.jupyter.widget-view+json": {
       "model_id": "0752dc384be046b9b2ec24ff8d59a719",
       "version_major": 2,
       "version_minor": 0
      },
      "text/plain": [
       "  0%|          | 0/16 [00:00<?, ?it/s]"
      ]
     },
     "metadata": {},
     "output_type": "display_data"
    },
    {
     "name": "stdout",
     "output_type": "stream",
     "text": [
      "Epoch [49] Mean loss on train: 0.14481081813573837 Mean DICE on train: 0.9504402691016218 Learning Rate: 2.5500000000000027e-05\n",
      "Start Validation ...\n"
     ]
    },
    {
     "data": {
      "application/vnd.jupyter.widget-view+json": {
       "model_id": "bd18c085bd9440fe9cbb95d8ef2a1c71",
       "version_major": 2,
       "version_minor": 0
      },
      "text/plain": [
       "  0%|          | 0/1 [00:00<?, ?it/s]"
      ]
     },
     "metadata": {},
     "output_type": "display_data"
    },
    {
     "name": "stdout",
     "output_type": "stream",
     "text": [
      "Epoch:  49  Threshold:  0.5 Mean Validation DICE Score: 0.9732054733064154\n",
      "Start Train ...\n"
     ]
    },
    {
     "data": {
      "application/vnd.jupyter.widget-view+json": {
       "model_id": "4a98d8905692463e8bbf866171216cc2",
       "version_major": 2,
       "version_minor": 0
      },
      "text/plain": [
       "  0%|          | 0/16 [00:00<?, ?it/s]"
      ]
     },
     "metadata": {},
     "output_type": "display_data"
    },
    {
     "name": "stdout",
     "output_type": "stream",
     "text": [
      "Epoch [50] Mean loss on train: 0.14348830841481686 Mean DICE on train: 0.9508592454074263 Learning Rate: 8.175883860929637e-06\n",
      "Start Validation ...\n"
     ]
    },
    {
     "data": {
      "application/vnd.jupyter.widget-view+json": {
       "model_id": "dd47ad8fb8b54debb8c89df62f34d4f7",
       "version_major": 2,
       "version_minor": 0
      },
      "text/plain": [
       "  0%|          | 0/1 [00:00<?, ?it/s]"
      ]
     },
     "metadata": {},
     "output_type": "display_data"
    },
    {
     "name": "stdout",
     "output_type": "stream",
     "text": [
      "Epoch:  50  Threshold:  0.5 Mean Validation DICE Score: 0.9767755155178952\n",
      "Start Train ...\n"
     ]
    },
    {
     "data": {
      "application/vnd.jupyter.widget-view+json": {
       "model_id": "c3a2f4fec3504196a2e78db394750504",
       "version_major": 2,
       "version_minor": 0
      },
      "text/plain": [
       "  0%|          | 0/16 [00:00<?, ?it/s]"
      ]
     },
     "metadata": {},
     "output_type": "display_data"
    },
    {
     "name": "stdout",
     "output_type": "stream",
     "text": [
      "Epoch [51] Mean loss on train: 0.13264150405302644 Mean DICE on train: 0.9554313198332768 Learning Rate: 1e-06\n",
      "Start Validation ...\n"
     ]
    },
    {
     "data": {
      "application/vnd.jupyter.widget-view+json": {
       "model_id": "3bb51898d30d4cb2ba2dd7e39e0183ef",
       "version_major": 2,
       "version_minor": 0
      },
      "text/plain": [
       "  0%|          | 0/1 [00:00<?, ?it/s]"
      ]
     },
     "metadata": {},
     "output_type": "display_data"
    },
    {
     "name": "stdout",
     "output_type": "stream",
     "text": [
      "Epoch:  51  Threshold:  0.5 Mean Validation DICE Score: 0.9765732763494109\n",
      "Start Train ...\n"
     ]
    },
    {
     "data": {
      "application/vnd.jupyter.widget-view+json": {
       "model_id": "9aa6e46f936e4176a993cd73ebfbec5f",
       "version_major": 2,
       "version_minor": 0
      },
      "text/plain": [
       "  0%|          | 0/16 [00:00<?, ?it/s]"
      ]
     },
     "metadata": {},
     "output_type": "display_data"
    },
    {
     "name": "stdout",
     "output_type": "stream",
     "text": [
      "Epoch [52] Mean loss on train: 0.12600344000384212 Mean DICE on train: 0.9568693256920187 Learning Rate: 8.175883860929586e-06\n",
      "Start Validation ...\n"
     ]
    },
    {
     "data": {
      "application/vnd.jupyter.widget-view+json": {
       "model_id": "6da08b1832854b63b44851872ef45d91",
       "version_major": 2,
       "version_minor": 0
      },
      "text/plain": [
       "  0%|          | 0/1 [00:00<?, ?it/s]"
      ]
     },
     "metadata": {},
     "output_type": "display_data"
    },
    {
     "name": "stdout",
     "output_type": "stream",
     "text": [
      "Epoch:  52  Threshold:  0.5 Mean Validation DICE Score: 0.9766147528697762\n",
      "Start Train ...\n"
     ]
    },
    {
     "data": {
      "application/vnd.jupyter.widget-view+json": {
       "model_id": "94d70d3d75344b4ba3a507f1d228cffc",
       "version_major": 2,
       "version_minor": 0
      },
      "text/plain": [
       "  0%|          | 0/16 [00:00<?, ?it/s]"
      ]
     },
     "metadata": {},
     "output_type": "display_data"
    },
    {
     "name": "stdout",
     "output_type": "stream",
     "text": [
      "Epoch [53] Mean loss on train: 0.1196000799536705 Mean DICE on train: 0.9593842065370959 Learning Rate: 2.549999999999996e-05\n",
      "Start Validation ...\n"
     ]
    },
    {
     "data": {
      "application/vnd.jupyter.widget-view+json": {
       "model_id": "c2663af2fb7a4f90aa1eb268196d18b9",
       "version_major": 2,
       "version_minor": 0
      },
      "text/plain": [
       "  0%|          | 0/1 [00:00<?, ?it/s]"
      ]
     },
     "metadata": {},
     "output_type": "display_data"
    },
    {
     "name": "stdout",
     "output_type": "stream",
     "text": [
      "Epoch:  53  Threshold:  0.5 Mean Validation DICE Score: 0.9774026974079065\n",
      "Start Train ...\n"
     ]
    },
    {
     "data": {
      "application/vnd.jupyter.widget-view+json": {
       "model_id": "60aa74d91f144a109df64014b0198212",
       "version_major": 2,
       "version_minor": 0
      },
      "text/plain": [
       "  0%|          | 0/16 [00:00<?, ?it/s]"
      ]
     },
     "metadata": {},
     "output_type": "display_data"
    },
    {
     "name": "stdout",
     "output_type": "stream",
     "text": [
      "Epoch [54] Mean loss on train: 0.11742754001170397 Mean DICE on train: 0.9596245961828155 Learning Rate: 4.2824116139070504e-05\n",
      "Start Validation ...\n"
     ]
    },
    {
     "data": {
      "application/vnd.jupyter.widget-view+json": {
       "model_id": "a1476ab0cd024840819304c4877359b7",
       "version_major": 2,
       "version_minor": 0
      },
      "text/plain": [
       "  0%|          | 0/1 [00:00<?, ?it/s]"
      ]
     },
     "metadata": {},
     "output_type": "display_data"
    },
    {
     "name": "stdout",
     "output_type": "stream",
     "text": [
      "Epoch:  54  Threshold:  0.5 Mean Validation DICE Score: 0.9767590371318533\n",
      "Start Train ...\n"
     ]
    },
    {
     "data": {
      "application/vnd.jupyter.widget-view+json": {
       "model_id": "19c27c336220430399ea80884bc20c1a",
       "version_major": 2,
       "version_minor": 0
      },
      "text/plain": [
       "  0%|          | 0/16 [00:00<?, ?it/s]"
      ]
     },
     "metadata": {},
     "output_type": "display_data"
    },
    {
     "name": "stdout",
     "output_type": "stream",
     "text": [
      "Epoch [55] Mean loss on train: 0.1367828929796815 Mean DICE on train: 0.9548976917495706 Learning Rate: 5.000000000000008e-05\n",
      "Start Validation ...\n"
     ]
    },
    {
     "data": {
      "application/vnd.jupyter.widget-view+json": {
       "model_id": "6c3cb05a58b340f8b0ceb405263adc06",
       "version_major": 2,
       "version_minor": 0
      },
      "text/plain": [
       "  0%|          | 0/1 [00:00<?, ?it/s]"
      ]
     },
     "metadata": {},
     "output_type": "display_data"
    },
    {
     "name": "stdout",
     "output_type": "stream",
     "text": [
      "Epoch:  55  Threshold:  0.5 Mean Validation DICE Score: 0.9757324593581721\n",
      "Start Train ...\n"
     ]
    },
    {
     "data": {
      "application/vnd.jupyter.widget-view+json": {
       "model_id": "e7f0d336711e4a1188b7be32d21dc355",
       "version_major": 2,
       "version_minor": 0
      },
      "text/plain": [
       "  0%|          | 0/16 [00:00<?, ?it/s]"
      ]
     },
     "metadata": {},
     "output_type": "display_data"
    },
    {
     "name": "stdout",
     "output_type": "stream",
     "text": [
      "Epoch [56] Mean loss on train: 0.11604797327890992 Mean DICE on train: 0.959799945070639 Learning Rate: 4.282411613907055e-05\n",
      "Start Validation ...\n"
     ]
    },
    {
     "data": {
      "application/vnd.jupyter.widget-view+json": {
       "model_id": "2c092028c3394c65ac66262aa77161e9",
       "version_major": 2,
       "version_minor": 0
      },
      "text/plain": [
       "  0%|          | 0/1 [00:00<?, ?it/s]"
      ]
     },
     "metadata": {},
     "output_type": "display_data"
    },
    {
     "name": "stdout",
     "output_type": "stream",
     "text": [
      "Epoch:  56  Threshold:  0.5 Mean Validation DICE Score: 0.976393754985498\n",
      "Start Train ...\n"
     ]
    },
    {
     "data": {
      "application/vnd.jupyter.widget-view+json": {
       "model_id": "aae8c4f0ffb441bbb38f80f9355ae631",
       "version_major": 2,
       "version_minor": 0
      },
      "text/plain": [
       "  0%|          | 0/16 [00:00<?, ?it/s]"
      ]
     },
     "metadata": {},
     "output_type": "display_data"
    },
    {
     "name": "stdout",
     "output_type": "stream",
     "text": [
      "Epoch [57] Mean loss on train: 0.14022303372621536 Mean DICE on train: 0.9539878252893788 Learning Rate: 2.5500000000000037e-05\n",
      "Start Validation ...\n"
     ]
    },
    {
     "data": {
      "application/vnd.jupyter.widget-view+json": {
       "model_id": "bbe944e1bef64c6fb9a7ff4184042486",
       "version_major": 2,
       "version_minor": 0
      },
      "text/plain": [
       "  0%|          | 0/1 [00:00<?, ?it/s]"
      ]
     },
     "metadata": {},
     "output_type": "display_data"
    },
    {
     "name": "stdout",
     "output_type": "stream",
     "text": [
      "Epoch:  57  Threshold:  0.5 Mean Validation DICE Score: 0.9768013580800654\n",
      "Start Train ...\n"
     ]
    },
    {
     "data": {
      "application/vnd.jupyter.widget-view+json": {
       "model_id": "75c3215a8f6f43529f8744a069098d87",
       "version_major": 2,
       "version_minor": 0
      },
      "text/plain": [
       "  0%|          | 0/16 [00:00<?, ?it/s]"
      ]
     },
     "metadata": {},
     "output_type": "display_data"
    },
    {
     "name": "stdout",
     "output_type": "stream",
     "text": [
      "Epoch [58] Mean loss on train: 0.13626590138301253 Mean DICE on train: 0.9540511922871028 Learning Rate: 8.175883860929643e-06\n",
      "Start Validation ...\n"
     ]
    },
    {
     "data": {
      "application/vnd.jupyter.widget-view+json": {
       "model_id": "beef2c139c3f44d887929f1339e1d26d",
       "version_major": 2,
       "version_minor": 0
      },
      "text/plain": [
       "  0%|          | 0/1 [00:00<?, ?it/s]"
      ]
     },
     "metadata": {},
     "output_type": "display_data"
    },
    {
     "name": "stdout",
     "output_type": "stream",
     "text": [
      "Epoch:  58  Threshold:  0.5 Mean Validation DICE Score: 0.9759726858103804\n",
      "Start Train ...\n"
     ]
    },
    {
     "data": {
      "application/vnd.jupyter.widget-view+json": {
       "model_id": "da8c7b62a60143d9a2d57cc3fd29d4a0",
       "version_major": 2,
       "version_minor": 0
      },
      "text/plain": [
       "  0%|          | 0/16 [00:00<?, ?it/s]"
      ]
     },
     "metadata": {},
     "output_type": "display_data"
    },
    {
     "name": "stdout",
     "output_type": "stream",
     "text": [
      "Epoch [59] Mean loss on train: 0.11985956225544214 Mean DICE on train: 0.9588951742039761 Learning Rate: 1e-06\n",
      "Start Validation ...\n"
     ]
    },
    {
     "data": {
      "application/vnd.jupyter.widget-view+json": {
       "model_id": "51524ee2b4104c19a55aba1a651088e4",
       "version_major": 2,
       "version_minor": 0
      },
      "text/plain": [
       "  0%|          | 0/1 [00:00<?, ?it/s]"
      ]
     },
     "metadata": {},
     "output_type": "display_data"
    },
    {
     "name": "stdout",
     "output_type": "stream",
     "text": [
      "Epoch:  59  Threshold:  0.5 Mean Validation DICE Score: 0.9771350422713504\n",
      "\n",
      "Next stage\n",
      "\n",
      "Loaded model: 0.977697_.pth\n"
     ]
    }
   ],
   "source": [
    "DEVICE = 'cuda'\n",
    "weights_dir = \"weights\"\n",
    "if os.path.exists(weights_dir) == False:\n",
    "    os.mkdir(weights_dir)\n",
    "\n",
    "\n",
    "loss_history = []\n",
    "train_dice_history = []\n",
    "val_dice_history = []\n",
    "lr_history = []\n",
    "\n",
    "for k, (num_epochs, optimizer, lr_scheduler) in enumerate(zip(stage_epoch, stage_optimizer, stage_scheduler)):\n",
    "    for epoch in range(num_epochs):\n",
    "        \n",
    "        \n",
    "        loss, train_dice, lr = train_one_epoch(model, optimizer, lr_scheduler, \n",
    "                                               dice_coef_metric, train_dl, epoch)\n",
    "    \n",
    "        val_dice = val_epoch(model, dice_coef_metric, val_dl, epoch)\n",
    "        \n",
    "        \n",
    "        # train history\n",
    "        loss_history.append(loss)\n",
    "        train_dice_history.append(train_dice)\n",
    "        lr_history.append(lr)\n",
    "        val_dice_history.append(val_dice)\n",
    "\n",
    "        # save best weights\n",
    "        best_dice = max(val_dice_history)\n",
    "        if val_dice >= best_dice:\n",
    "            torch.save({'state_dict': model.state_dict()},\n",
    "                        os.path.join(weights_dir, f\"{val_dice:0.6f}_.pth\"))\n",
    "    \n",
    "    print(\"\\nNext stage\\n\")\n",
    "    # Load the best weights\n",
    "    best_weights =  sorted(glob.glob(weights_dir + \"/*\"),\n",
    "                       key= lambda x: x[8:-5])[-1]\n",
    "    checkpoint = torch.load(best_weights)\n",
    "    model.load_state_dict(checkpoint['state_dict'])\n",
    "\n",
    "    print(f'Loaded model: {best_weights.split(\"/\")[1]}')"
   ]
  },
  {
   "cell_type": "code",
   "execution_count": 170,
   "id": "f4796405",
   "metadata": {
    "ExecuteTime": {
     "end_time": "2021-11-13T07:19:15.792467Z",
     "start_time": "2021-11-13T07:19:15.778993Z"
    }
   },
   "outputs": [],
   "source": [
    "df_logs = pd.DataFrame(\n",
    "    {'loss': loss_history,\n",
    "     \"lr\" : lr_history,\n",
    "     'train_dice':train_dice_history,\n",
    "     'val_dice': val_dice_history\n",
    "    })\n",
    "df_logs.to_csv(\"train_logs_9210.csv\", index=False)"
   ]
  },
  {
   "cell_type": "code",
   "execution_count": 125,
   "id": "4323f862",
   "metadata": {
    "ExecuteTime": {
     "end_time": "2021-11-13T06:38:12.668759Z",
     "start_time": "2021-11-13T06:38:12.412412Z"
    }
   },
   "outputs": [
    {
     "data": {
      "text/plain": [
       "<All keys matched successfully>"
      ]
     },
     "execution_count": 125,
     "metadata": {},
     "output_type": "execute_result"
    }
   ],
   "source": [
    "model.load_state_dict(state_dict=torch.load(\"/media/brats/DRIVE1/akansh/lung-seg/notebook/models/91_25_best.pth\")['state_dict'])"
   ]
  },
  {
   "cell_type": "code",
   "execution_count": 178,
   "id": "7f9a9739",
   "metadata": {
    "ExecuteTime": {
     "end_time": "2021-11-13T08:21:28.035975Z",
     "start_time": "2021-11-13T08:21:27.875187Z"
    }
   },
   "outputs": [],
   "source": [
    "model.eval()\n",
    "threshold = 0.5\n",
    "DEVICE = 'cuda'\n",
    "# Define the codec and create VideoWrite object\n",
    "with torch.no_grad():\n",
    "    for data_batch,_ in val_dl:\n",
    "\n",
    "        data_batch = data_batch.permute(0,3,1,2).to(DEVICE).float()\n",
    "\n",
    "        outputs = model(data_batch)\n",
    "\n",
    "\n",
    "        out_cut = np.copy(outputs.data.cpu().numpy())\n",
    "        out_cut[np.nonzero(out_cut < threshold)] = 0.0\n",
    "        out_cut[np.nonzero(out_cut >= threshold)] = 1.0\n",
    "        \n",
    "#         for image, mask in zip(data_batch.data.cpu().numpy(), out_cut):\n",
    "\n",
    "#             result = add_colored_mask(image.transpose(1, 2, 0), mask.transpose(1, 2, 0))\n",
    "            \n",
    "        break"
   ]
  },
  {
   "cell_type": "code",
   "execution_count": 127,
   "id": "5dc4de3f",
   "metadata": {
    "ExecuteTime": {
     "end_time": "2021-11-13T06:38:23.227675Z",
     "start_time": "2021-11-13T06:38:23.210208Z"
    }
   },
   "outputs": [
    {
     "data": {
      "image/png": "[encoded data removed]",
      "text/plain": [
       "<PIL.Image.Image image mode=RGB size=224x224 at 0x7FBCA2FC3DF0>"
      ]
     },
     "execution_count": 127,
     "metadata": {},
     "output_type": "execute_result"
    }
   ],
   "source": [
    "Image.fromarray(data_batch.data.cpu().numpy().astype(np.uint8)[1].transpose(1, 2, 0))"
   ]
  },
  {
   "cell_type": "code",
   "execution_count": 156,
   "id": "4f37dc03",
   "metadata": {
    "ExecuteTime": {
     "end_time": "2021-11-13T06:54:42.160392Z",
     "start_time": "2021-11-13T06:54:42.021073Z"
    }
   },
   "outputs": [
    {
     "data": {
      "text/plain": [
       "<matplotlib.image.AxesImage at 0x7fbca2886a30>"
      ]
     },
     "execution_count": 156,
     "metadata": {},
     "output_type": "execute_result"
    },
    {
     "data": {
      "image/png": "[encoded data removed]",
      "text/plain": [
       "<Figure size 432x288 with 1 Axes>"
      ]
     },
     "metadata": {
      "needs_background": "light"
     },
     "output_type": "display_data"
    }
   ],
   "source": [
    "plt.imshow(out_cut[1].transpose(1, 2, 0))"
   ]
  },
  {
   "cell_type": "code",
   "execution_count": 174,
   "id": "b2b02e19",
   "metadata": {
    "ExecuteTime": {
     "end_time": "2021-11-13T07:48:59.728919Z",
     "start_time": "2021-11-13T07:48:59.585994Z"
    }
   },
   "outputs": [
    {
     "data": {
      "text/plain": [
       "<matplotlib.image.AxesImage at 0x7fbca12a6ee0>"
      ]
     },
     "execution_count": 174,
     "metadata": {},
     "output_type": "execute_result"
    },
    {
     "data": {
      "image/png": "[encoded data removed]",
      "text/plain": [
       "<Figure size 432x288 with 1 Axes>"
      ]
     },
     "metadata": {
      "needs_background": "light"
     },
     "output_type": "display_data"
    }
   ],
   "source": [
    "plt.imshow(out_cut[1].transpose(1, 2, 0))"
   ]
  },
  {
   "cell_type": "code",
   "execution_count": 179,
   "id": "eb292dc2",
   "metadata": {
    "ExecuteTime": {
     "end_time": "2021-11-13T08:21:46.901943Z",
     "start_time": "2021-11-13T08:21:46.754845Z"
    }
   },
   "outputs": [
    {
     "data": {
      "text/plain": [
       "<matplotlib.image.AxesImage at 0x7fbc9b9be280>"
      ]
     },
     "execution_count": 179,
     "metadata": {},
     "output_type": "execute_result"
    },
    {
     "data": {
      "image/png": "[encoded data removed]",
      "text/plain": [
       "<Figure size 432x288 with 1 Axes>"
      ]
     },
     "metadata": {
      "needs_background": "light"
     },
     "output_type": "display_data"
    }
   ],
   "source": [
    "plt.imshow(out_cut[1].transpose(1, 2, 0))"
   ]
  },
  {
   "cell_type": "code",
   "execution_count": 157,
   "id": "055bee90",
   "metadata": {
    "ExecuteTime": {
     "end_time": "2021-11-13T06:54:53.561579Z",
     "start_time": "2021-11-13T06:54:53.413947Z"
    }
   },
   "outputs": [
    {
     "data": {
      "text/plain": [
       "<matplotlib.image.AxesImage at 0x7fbca2689070>"
      ]
     },
     "execution_count": 157,
     "metadata": {},
     "output_type": "execute_result"
    },
    {
     "data": {
      "image/png": "[encoded data removed]",
      "text/plain": [
       "<Figure size 432x288 with 1 Axes>"
      ]
     },
     "metadata": {
      "needs_background": "light"
     },
     "output_type": "display_data"
    }
   ],
   "source": [
    "plt.imshow(_[1].numpy())"
   ]
  },
  {
   "cell_type": "code",
   "execution_count": 165,
   "id": "70a52a67",
   "metadata": {
    "ExecuteTime": {
     "end_time": "2021-11-13T06:56:04.130411Z",
     "start_time": "2021-11-13T06:56:04.114370Z"
    }
   },
   "outputs": [
    {
     "data": {
      "image/png": "[encoded data removed]",
      "text/plain": [
       "<PIL.Image.Image image mode=RGB size=224x224 at 0x7FBCA2500280>"
      ]
     },
     "execution_count": 165,
     "metadata": {},
     "output_type": "execute_result"
    }
   ],
   "source": [
    "Image.fromarray(data_batch.data.cpu().numpy().astype(np.uint8)[7].transpose(1, 2, 0))"
   ]
  },
  {
   "cell_type": "code",
   "execution_count": 166,
   "id": "c9c8b54f",
   "metadata": {
    "ExecuteTime": {
     "end_time": "2021-11-13T06:56:09.555445Z",
     "start_time": "2021-11-13T06:56:09.418016Z"
    }
   },
   "outputs": [
    {
     "data": {
      "text/plain": [
       "<matplotlib.image.AxesImage at 0x7fbca242e610>"
      ]
     },
     "execution_count": 166,
     "metadata": {},
     "output_type": "execute_result"
    },
    {
     "data": {
      "image/png": "[encoded data removed]",
      "text/plain": [
       "<Figure size 432x288 with 1 Axes>"
      ]
     },
     "metadata": {
      "needs_background": "light"
     },
     "output_type": "display_data"
    }
   ],
   "source": [
    "plt.imshow(out_cut[7].transpose(1, 2, 0))"
   ]
  },
  {
   "cell_type": "code",
   "execution_count": 175,
   "id": "747094fe",
   "metadata": {
    "ExecuteTime": {
     "end_time": "2021-11-13T07:49:16.990600Z",
     "start_time": "2021-11-13T07:49:16.845950Z"
    }
   },
   "outputs": [
    {
     "data": {
      "text/plain": [
       "<matplotlib.image.AxesImage at 0x7fbca0dd6520>"
      ]
     },
     "execution_count": 175,
     "metadata": {},
     "output_type": "execute_result"
    },
    {
     "data": {
      "image/png": "[encoded data removed]",
      "text/plain": [
       "<Figure size 432x288 with 1 Axes>"
      ]
     },
     "metadata": {
      "needs_background": "light"
     },
     "output_type": "display_data"
    }
   ],
   "source": [
    "plt.imshow(out_cut[7].transpose(1, 2, 0))"
   ]
  },
  {
   "cell_type": "code",
   "execution_count": 180,
   "id": "14c230ad",
   "metadata": {
    "ExecuteTime": {
     "end_time": "2021-11-13T08:22:18.522947Z",
     "start_time": "2021-11-13T08:22:18.375240Z"
    }
   },
   "outputs": [
    {
     "data": {
      "text/plain": [
       "<matplotlib.image.AxesImage at 0x7fbc9b4ca850>"
      ]
     },
     "execution_count": 180,
     "metadata": {},
     "output_type": "execute_result"
    },
    {
     "data": {
      "image/png": "[encoded data removed]",
      "text/plain": [
       "<Figure size 432x288 with 1 Axes>"
      ]
     },
     "metadata": {
      "needs_background": "light"
     },
     "output_type": "display_data"
    }
   ],
   "source": [
    "plt.imshow(out_cut[7].transpose(1, 2, 0))"
   ]
  },
  {
   "cell_type": "code",
   "execution_count": 167,
   "id": "2e24f1b9",
   "metadata": {
    "ExecuteTime": {
     "end_time": "2021-11-13T06:56:14.946916Z",
     "start_time": "2021-11-13T06:56:14.809462Z"
    }
   },
   "outputs": [
    {
     "data": {
      "text/plain": [
       "<matplotlib.image.AxesImage at 0x7fbca239bbe0>"
      ]
     },
     "execution_count": 167,
     "metadata": {},
     "output_type": "execute_result"
    },
    {
     "data": {
      "image/png": "[encoded data removed]",
      "text/plain": [
       "<Figure size 432x288 with 1 Axes>"
      ]
     },
     "metadata": {
      "needs_background": "light"
     },
     "output_type": "display_data"
    }
   ],
   "source": [
    "plt.imshow(_[7].numpy())"
   ]
  },
  {
   "cell_type": "code",
   "execution_count": 129,
   "id": "39c8f700",
   "metadata": {
    "ExecuteTime": {
     "end_time": "2021-11-13T06:38:47.896915Z",
     "start_time": "2021-11-13T06:38:47.752784Z"
    }
   },
   "outputs": [
    {
     "data": {
      "text/plain": [
       "<matplotlib.image.AxesImage at 0x7fbca2d4b700>"
      ]
     },
     "execution_count": 129,
     "metadata": {},
     "output_type": "execute_result"
    },
    {
     "data": {
      "image/png": "[encoded data removed]",
      "text/plain": [
       "<Figure size 432x288 with 1 Axes>"
      ]
     },
     "metadata": {
      "needs_background": "light"
     },
     "output_type": "display_data"
    }
   ],
   "source": [
    "plt.imshow(out_cut[0].transpose(1, 2, 0))"
   ]
  },
  {
   "cell_type": "code",
   "execution_count": null,
   "id": "f886548f",
   "metadata": {},
   "outputs": [],
   "source": []
  }
 ],
 "metadata": {
  "kernelspec": {
   "display_name": "Python 3",
   "language": "python",
   "name": "python3"
  },
  "language_info": {
   "codemirror_mode": {
    "name": "ipython",
    "version": 3
   },
   "file_extension": ".py",
   "mimetype": "text/x-python",
   "name": "python",
   "nbconvert_exporter": "python",
   "pygments_lexer": "ipython3",
   "version": "3.8.12"
  },
  "toc": {
   "base_numbering": 1,
   "nav_menu": {},
   "number_sections": true,
   "sideBar": true,
   "skip_h1_title": false,
   "title_cell": "Table of Contents",
   "title_sidebar": "Contents",
   "toc_cell": false,
   "toc_position": {},
   "toc_section_display": true,
   "toc_window_display": false
  },
  "varInspector": {
   "cols": {
    "lenName": 16,
    "lenType": 16,
    "lenVar": 40
   },
   "kernels_config": {
    "python": {
     "delete_cmd_postfix": "",
     "delete_cmd_prefix": "del ",
     "library": "var_list.py",
     "varRefreshCmd": "print(var_dic_list())"
    },
    "r": {
     "delete_cmd_postfix": ") ",
     "delete_cmd_prefix": "rm(",
     "library": "var_list.r",
     "varRefreshCmd": "cat(var_dic_list()) "
    }
   },
   "types_to_exclude": [
    "module",
    "function",
    "builtin_function_or_method",
    "instance",
    "_Feature"
   ],
   "window_display": false
  }
 },
 "nbformat": 4,
 "nbformat_minor": 5
}
